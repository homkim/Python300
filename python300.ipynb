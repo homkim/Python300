{
 "cells": [
  {
   "attachments": {},
   "cell_type": "markdown",
   "metadata": {},
   "source": [
    "# 01. 파이썬 시작하기\n",
    "> print 함수와 관련된 문제를 풀어봅시다.\n",
    "\n",
    "## 001 ~ 010"
   ]
  },
  {
   "cell_type": "code",
   "execution_count": 323,
   "metadata": {},
   "outputs": [
    {
     "name": "stdout",
     "output_type": "stream",
     "text": [
      "Hello World\n"
     ]
    }
   ],
   "source": [
    "# 001 print 기초\n",
    "# 화면에 Hello World 문자열을 출력하세요.\n",
    "print(\"Hello World\")\n"
   ]
  },
  {
   "cell_type": "code",
   "execution_count": 324,
   "metadata": {},
   "outputs": [
    {
     "name": "stdout",
     "output_type": "stream",
     "text": [
      "Mary's cosmetics\n"
     ]
    }
   ],
   "source": [
    "# 002 print 기초\n",
    "# 화면에 Mary's cosmetics을 출력하세요. (중간에 '가 있음에 주의하세요)\n",
    "\n",
    "print(\"Mary's cosmetics\")\n"
   ]
  },
  {
   "cell_type": "code",
   "execution_count": 325,
   "metadata": {},
   "outputs": [
    {
     "name": "stdout",
     "output_type": "stream",
     "text": [
      "신씨가 소리질렀다. \"도둑이야\".\n"
     ]
    }
   ],
   "source": [
    "# 003 print 기초\n",
    "# 화면에 아래 문장을 출력하세요. (중간에 \"가 있음에 주의하세요.)\n",
    "\n",
    "# 신씨가 소리질렀다. \"도둑이야\".\n",
    "print('신씨가 소리질렀다. \"도둑이야\".')\n"
   ]
  },
  {
   "cell_type": "code",
   "execution_count": 326,
   "metadata": {},
   "outputs": [
    {
     "name": "stdout",
     "output_type": "stream",
     "text": [
      "\"C:\\Windows\"\n"
     ]
    }
   ],
   "source": [
    "# 004 print 기초\n",
    "# 화면에 \"C:\\Windows\"를 출력하세요.\n",
    "print('\"C:\\Windows\"')\n"
   ]
  },
  {
   "cell_type": "code",
   "execution_count": 327,
   "metadata": {},
   "outputs": [
    {
     "name": "stdout",
     "output_type": "stream",
     "text": [
      "안녕하세요.\n",
      "만나서\t\t반갑습니다.\n"
     ]
    }
   ],
   "source": [
    "# 005 print 탭과 줄바꿈\n",
    "# 다음 코드를 실행해보고 \\t와 \\n의 역할을 설명해보세요.\n",
    "\n",
    "print(\"안녕하세요.\\n만나서\\t\\t반갑습니다.\")"
   ]
  },
  {
   "cell_type": "code",
   "execution_count": 328,
   "metadata": {},
   "outputs": [
    {
     "name": "stdout",
     "output_type": "stream",
     "text": [
      "오늘은 일요일\n"
     ]
    }
   ],
   "source": [
    "# 006 print 여러 데이터 출력\n",
    "# print 함수에 두 개의 단어를 입력한 예제입니다. 아래 코드의 출력 결과를 예상해봅시다.\n",
    "\n",
    "print (\"오늘은\", \"일요일\")\n"
   ]
  },
  {
   "cell_type": "code",
   "execution_count": 329,
   "metadata": {},
   "outputs": [
    {
     "name": "stdout",
     "output_type": "stream",
     "text": [
      "naver;kakao;sk;samsung\n",
      "naver;kakao;sk;samsung\n"
     ]
    }
   ],
   "source": [
    "# 007 print 기초\n",
    "# print() 함수를 사용하여 다음과 같이 출력하세요.\n",
    "\n",
    "# naver;kakao;sk;samsung\n",
    "print(\"naver;kakao;sk;samsung\")\n",
    "\n",
    "arr=['naver','kakao','sk', 'samsung']\n",
    "print(arr[0],arr[1], arr[2],arr[3], sep=';')\n"
   ]
  },
  {
   "cell_type": "code",
   "execution_count": 330,
   "metadata": {},
   "outputs": [
    {
     "name": "stdout",
     "output_type": "stream",
     "text": [
      "naver/kakao/sk/samsung\n"
     ]
    }
   ],
   "source": [
    "# 008 print 기초\n",
    "# print() 함수를 사용하여 다음과 같이 출력하세요.\n",
    "\n",
    "# naver/kakao/sk/samsung\n",
    "print('naver','kakao','sk','samsung',sep='/')\n"
   ]
  },
  {
   "cell_type": "code",
   "execution_count": 331,
   "metadata": {},
   "outputs": [
    {
     "name": "stdout",
     "output_type": "stream",
     "text": [
      "first\n",
      "second\n"
     ]
    }
   ],
   "source": [
    "# 009 print 줄바꿈\n",
    "# 다음 코드를 수정하여 줄바꿈이 없이 출력하세요. (힌트: end='') print 함수는 두 번 사용합니다. \n",
    "# 세미콜론 (;)은 한줄에 여러 개의 명령을 작성하기 위해 사용합니다.\n",
    "\n",
    "print(\"first\");print(\"second\")\n"
   ]
  },
  {
   "cell_type": "code",
   "execution_count": 332,
   "metadata": {},
   "outputs": [
    {
     "name": "stdout",
     "output_type": "stream",
     "text": [
      "1.6666666666666667\n"
     ]
    }
   ],
   "source": [
    "# 010 연산 결과 출력\n",
    "# 5/3의 결과를 화면에 출력하세요.\n",
    "print(5/3)\n"
   ]
  },
  {
   "attachments": {},
   "cell_type": "markdown",
   "metadata": {},
   "source": [
    "# 02. 파이썬 변수\n",
    "> 파이썬 변수는 자주 사용되는 값을 바인딩합니다. 파이썬 변수의 개념을 이해하고 문제를 풀어봅시다.\n",
    "\n",
    "## 011 ~ 020 변수\n"
   ]
  },
  {
   "cell_type": "code",
   "execution_count": 333,
   "metadata": {},
   "outputs": [
    {
     "name": "stdout",
     "output_type": "stream",
     "text": [
      "500000\n"
     ]
    }
   ],
   "source": [
    "# 011 변수 사용하기\n",
    "# 삼성전자라는 변수로 50,000원을 바인딩해보세요. 삼성전자 주식 10주를 보유하고 있을 때 \n",
    "# 총 평가금액을 출력하세요.\n",
    "삼성전자=50000\n",
    "주식=10\n",
    "평가금액=삼성전자*주식\n",
    "print(평가금액)\n"
   ]
  },
  {
   "cell_type": "code",
   "execution_count": 1,
   "metadata": {},
   "outputs": [
    {
     "name": "stdout",
     "output_type": "stream",
     "text": [
      "298000000000000 <class 'int'>\n",
      "50000 <class 'int'>\n",
      "15.79 <class 'float'>\n"
     ]
    }
   ],
   "source": [
    "# 012 변수 사용하기\n",
    "# 다음 표는 삼성전자의 일부 투자정보입니다. \n",
    "# 변수를 사용해서 시가총액, 현재가, PER 등을 바인딩해보세요.\n",
    "\n",
    "# 항목\t값\n",
    "# 시가총액\t298조\n",
    "# 현재가\t50,000원\n",
    "# PER\t15.79\n",
    "시가총액 = 298000000000000\n",
    "현재가 = 50000\n",
    "PER = 15.79\n",
    "print(시가총액, type(시가총액))\n",
    "print(현재가, type(현재가))\n",
    "print(PER, type(PER))\n"
   ]
  },
  {
   "cell_type": "code",
   "execution_count": 2,
   "metadata": {},
   "outputs": [
    {
     "name": "stdout",
     "output_type": "stream",
     "text": [
      "hello! python\n"
     ]
    }
   ],
   "source": [
    "# 013 문자열 출력\n",
    "# 변수 s와 t에는 각각 문자열이 바인딩 되어있습니다.\n",
    "\n",
    "# >> s = \"hello\"\n",
    "# >> t = \"python\"\n",
    "# 두 변수를 이용하여 아래와 같이 출력해보세요.\n",
    "\n",
    "# 실행 예:\n",
    "# hello! python\n",
    "s = \"hello\"\n",
    "t = \"python\"\n",
    "print(s+'!', t)\n"
   ]
  },
  {
   "cell_type": "code",
   "execution_count": 3,
   "metadata": {},
   "outputs": [
    {
     "name": "stdout",
     "output_type": "stream",
     "text": [
      "8 <class 'int'>\n"
     ]
    }
   ],
   "source": [
    "# 014 파이썬을 이용한 값 계산\n",
    "# 아래 코드의 실행 결과를 예상해보세요.\n",
    "\n",
    "# >> 2 + 2 * 3 \n",
    "a=2+2*3\n",
    "print(a, type(a))"
   ]
  },
  {
   "cell_type": "code",
   "execution_count": 4,
   "metadata": {},
   "outputs": [
    {
     "name": "stdout",
     "output_type": "stream",
     "text": [
      "132 <class 'str'>\n"
     ]
    }
   ],
   "source": [
    "# 015 type 함수\n",
    "# type() 함수는 데이터 타입을 판별합니다. 변수 a에는 128 숫자가 바인딩돼 있어 type 함수가 int (정수)형임을 알려줍니다.\n",
    "\n",
    "# >> a = 128\n",
    "# >> print (type(a))\n",
    "# <class 'int'>\n",
    "# 아래 변수에 바인딩된 값의 타입을 판별해보세요.\n",
    "\n",
    "# >> a = \"132\"\n",
    "\n",
    "a=\"132\"\n",
    "print(a, type(a))\n"
   ]
  },
  {
   "cell_type": "code",
   "execution_count": 5,
   "metadata": {},
   "outputs": [
    {
     "name": "stdout",
     "output_type": "stream",
     "text": [
      "720 <class 'int'>\n"
     ]
    }
   ],
   "source": [
    "# 016 문자열을 정수로 변환\n",
    "# 문자열 '720'를 정수형으로 변환해보세요.\n",
    "\n",
    "# >> num_str = \"720\"\n",
    "num_str = \"720\"\n",
    "num = int(num_str)\n",
    "print(num,type(num))\n"
   ]
  },
  {
   "cell_type": "code",
   "execution_count": 6,
   "metadata": {},
   "outputs": [
    {
     "name": "stdout",
     "output_type": "stream",
     "text": [
      "100 <class 'str'>\n"
     ]
    }
   ],
   "source": [
    "# 017 정수를 문자열 100으로 변환\n",
    "# 정수 100을 문자열 '100'으로 변환해보세요.\n",
    "\n",
    "# num = 100\n",
    "num = 100\n",
    "num_str= str(num)\n",
    "print(num_str, type(num_str))"
   ]
  },
  {
   "cell_type": "code",
   "execution_count": 7,
   "metadata": {},
   "outputs": [
    {
     "name": "stdout",
     "output_type": "stream",
     "text": [
      "15.79 <class 'float'>\n"
     ]
    }
   ],
   "source": [
    "# 018 문자열을 실수로 변환\n",
    "# 문자열 \"15.79\"를 실수(float) 타입으로 변환해보세요.\n",
    "str=\"15.79\"\n",
    "f = float(str)\n",
    "print(f, type(f))\n"
   ]
  },
  {
   "cell_type": "code",
   "execution_count": 8,
   "metadata": {},
   "outputs": [
    {
     "name": "stdout",
     "output_type": "stream",
     "text": [
      "2018 2019 2020\n"
     ]
    }
   ],
   "source": [
    "# 019 문자열을 정수로 변환\n",
    "# year라는 변수가 문자열 타입의 연도를 바인딩하고 있습니다. 이를 정수로 변환한 후 최근 3년의 연도를 화면에 출력해보세요.\n",
    "\n",
    "# year = \"2020\"\n",
    "year=\"2020\"\n",
    "year3=int(year)\n",
    "year2=year3-1\n",
    "year1=year2-1\n",
    "print(year1, year2, year3)\n"
   ]
  },
  {
   "cell_type": "code",
   "execution_count": 9,
   "metadata": {},
   "outputs": [
    {
     "name": "stdout",
     "output_type": "stream",
     "text": [
      "1749024\n"
     ]
    }
   ],
   "source": [
    "# 020 파이썬 계산\n",
    "# 에이컨이 월 48,584원에 무이자 36개월의 조건으로 홈쇼핑에서 판매되고 있습니다. \n",
    "# 총 금액은 계산한 후 이를 화면에 출력해보세요. (변수사용하기)\n",
    "\n",
    "monprice=48584\n",
    "print(monprice*36)"
   ]
  },
  {
   "attachments": {},
   "cell_type": "markdown",
   "metadata": {},
   "source": [
    "# 03.파이썬 문자열\n",
    "> 파이썬 문자열은 인덱싱, 슬라이싱 기능과 다양한 메서드를 제공합니다.\n",
    "\n",
    "## 021 ~ 030"
   ]
  },
  {
   "cell_type": "code",
   "execution_count": 1,
   "metadata": {},
   "outputs": [
    {
     "name": "stdout",
     "output_type": "stream",
     "text": [
      "p t\n"
     ]
    }
   ],
   "source": [
    "# 021\n",
    "letters='python'\n",
    "print(letters[0], letters[2])"
   ]
  },
  {
   "cell_type": "code",
   "execution_count": null,
   "metadata": {},
   "outputs": [],
   "source": [
    "# 022\n",
    "license_plate = \"24가 2210\"\n",
    "print(license_plate[-4:])"
   ]
  },
  {
   "cell_type": "code",
   "execution_count": 3,
   "metadata": {},
   "outputs": [
    {
     "name": "stdout",
     "output_type": "stream",
     "text": [
      "홀홀홀\n"
     ]
    }
   ],
   "source": [
    "# 023\n",
    "string = \"홀짝홀짝홀짝\"\n",
    "print(string[::2])"
   ]
  },
  {
   "cell_type": "code",
   "execution_count": 4,
   "metadata": {},
   "outputs": [
    {
     "name": "stdout",
     "output_type": "stream",
     "text": [
      "NOHTYP\n",
      "NOHTYP\n"
     ]
    }
   ],
   "source": [
    "# 024\n",
    "string = \"PYTHON\"\n",
    "print(string[::-1]) # 역방향으로 1칸씩의 의미\n",
    "print(\"\".join(reversed(string)))"
   ]
  },
  {
   "cell_type": "code",
   "execution_count": 5,
   "metadata": {},
   "outputs": [
    {
     "name": "stdout",
     "output_type": "stream",
     "text": [
      "010 1111 2222\n"
     ]
    }
   ],
   "source": [
    "# 025\n",
    "phone_number = \"010-1111-2222\"\n",
    "print(phone_number.replace('-',' '))"
   ]
  },
  {
   "cell_type": "code",
   "execution_count": 6,
   "metadata": {},
   "outputs": [
    {
     "name": "stdout",
     "output_type": "stream",
     "text": [
      "01011112222\n"
     ]
    }
   ],
   "source": [
    "# 026\n",
    "phone_number = \"010-1111-2222\"\n",
    "print(phone_number.replace('-',''))"
   ]
  },
  {
   "cell_type": "code",
   "execution_count": 7,
   "metadata": {},
   "outputs": [
    {
     "name": "stdout",
     "output_type": "stream",
     "text": [
      "kr\n",
      "kr\n"
     ]
    }
   ],
   "source": [
    "# 027\n",
    "url = \"http://sharebook.kr\"\n",
    "print(url[url.find(\".\")+1:])\n",
    "\n",
    "print(url.split('.')[-1])"
   ]
  },
  {
   "cell_type": "code",
   "execution_count": 8,
   "metadata": {},
   "outputs": [
    {
     "name": "stdout",
     "output_type": "stream",
     "text": [
      "p\n",
      "Python\n"
     ]
    }
   ],
   "source": [
    "# 028\n",
    "lang = 'python'\n",
    "print(lang[0])\n",
    "# lang[0] = 'P'\n",
    "lang2 = lang.replace('p','P')\n",
    "print(lang2)"
   ]
  },
  {
   "cell_type": "code",
   "execution_count": 9,
   "metadata": {},
   "outputs": [
    {
     "name": "stdout",
     "output_type": "stream",
     "text": [
      "Abcdfe2A354A32A\n"
     ]
    }
   ],
   "source": [
    "# 029\n",
    "string = 'abcdfe2a354a32a'\n",
    "str2 = string.replace('a','A')\n",
    "print(str2)"
   ]
  },
  {
   "cell_type": "code",
   "execution_count": 10,
   "metadata": {},
   "outputs": [
    {
     "name": "stdout",
     "output_type": "stream",
     "text": [
      "aBcd\n"
     ]
    }
   ],
   "source": [
    "# 030\n",
    "string = 'abcd'\n",
    "str2 = string.replace('b','B')\n",
    "print(str2)"
   ]
  },
  {
   "attachments": {},
   "cell_type": "markdown",
   "metadata": {},
   "source": [
    "# 파이썬 문자열\n",
    "## 031 ~ 040"
   ]
  },
  {
   "cell_type": "code",
   "execution_count": 11,
   "metadata": {},
   "outputs": [
    {
     "name": "stdout",
     "output_type": "stream",
     "text": [
      "34\n"
     ]
    }
   ],
   "source": [
    "#031 문자열 합치기\n",
    "a = \"3\"\n",
    "b = \"4\"\n",
    "print(a+b)"
   ]
  },
  {
   "cell_type": "code",
   "execution_count": 12,
   "metadata": {},
   "outputs": [
    {
     "name": "stdout",
     "output_type": "stream",
     "text": [
      "HiHiHi\n"
     ]
    }
   ],
   "source": [
    "#032 문자열 곱하기\n",
    "print(\"Hi\"*3)"
   ]
  },
  {
   "cell_type": "code",
   "execution_count": 13,
   "metadata": {},
   "outputs": [
    {
     "name": "stdout",
     "output_type": "stream",
     "text": [
      "--------------------------------------------------------------------------------\n"
     ]
    }
   ],
   "source": [
    "#033 문자열 곱하기\n",
    "print('-'*80)"
   ]
  },
  {
   "cell_type": "code",
   "execution_count": 15,
   "metadata": {},
   "outputs": [
    {
     "name": "stdout",
     "output_type": "stream",
     "text": [
      "python javapython javapython javapython java\n"
     ]
    }
   ],
   "source": [
    "# 034 문자열 곱하기\n",
    "t1 = 'python'\n",
    "t2 = 'java'\n",
    "t3 = t1+' '+t2\n",
    "print(t3*4)"
   ]
  },
  {
   "cell_type": "code",
   "execution_count": 17,
   "metadata": {},
   "outputs": [
    {
     "name": "stdout",
     "output_type": "stream",
     "text": [
      "이름: 김민수 나이: 10\n",
      "이름: 이철희 나이: 13\n"
     ]
    }
   ],
   "source": [
    "# 035 문자열 출력\n",
    "name1 = \"김민수\" \n",
    "age1 = 10\n",
    "name2 = \"이철희\"\n",
    "age2 = 13\n",
    "print(\"이름: %s 나이: %d\"%(name1,age1))\n",
    "print(\"이름: %s 나이: %d\"%(name2,age2))"
   ]
  },
  {
   "cell_type": "code",
   "execution_count": 18,
   "metadata": {},
   "outputs": [
    {
     "name": "stdout",
     "output_type": "stream",
     "text": [
      "이름: 김민수 나이: 10\n",
      "이름: 이철희 나이: 13\n"
     ]
    }
   ],
   "source": [
    "# 036 문자열 출력\n",
    "name1 = \"김민수\" \n",
    "age1 = 10\n",
    "name2 = \"이철희\"\n",
    "age2 = 13\n",
    "print(\"이름: {} 나이: {}\".format(name1, age1))\n",
    "print(\"이름: {} 나이: {}\".format(name2, age2))"
   ]
  },
  {
   "cell_type": "code",
   "execution_count": 19,
   "metadata": {},
   "outputs": [
    {
     "name": "stdout",
     "output_type": "stream",
     "text": [
      "이름: 김민수 나이: 10\n",
      "이름: 이철희 나이: 13\n"
     ]
    }
   ],
   "source": [
    "# 037 문자열 출력\n",
    "name1 = \"김민수\" \n",
    "age1 = 10\n",
    "name2 = \"이철희\"\n",
    "age2 = 13\n",
    "print(f\"이름: {name1} 나이: {age1}\")\n",
    "print(f\"이름: {name2} 나이: {age2}\")"
   ]
  },
  {
   "cell_type": "code",
   "execution_count": 20,
   "metadata": {},
   "outputs": [
    {
     "name": "stdout",
     "output_type": "stream",
     "text": [
      "5969782550\n"
     ]
    }
   ],
   "source": [
    "# 038 컴마 제거하기\n",
    "상장주식수 = \"5,969,782,550\"\n",
    "금액 = int(상장주식수.replace(',',''))\n",
    "print(금액)"
   ]
  },
  {
   "cell_type": "code",
   "execution_count": 21,
   "metadata": {},
   "outputs": [
    {
     "name": "stdout",
     "output_type": "stream",
     "text": [
      "2020/03\n"
     ]
    }
   ],
   "source": [
    "# 039 문자열 슬라이싱\n",
    "분기 = \"2020/03(E) (IFRS연결)\"\n",
    "print(분기[:7])"
   ]
  },
  {
   "cell_type": "code",
   "execution_count": 22,
   "metadata": {},
   "outputs": [
    {
     "name": "stdout",
     "output_type": "stream",
     "text": [
      "삼성전자\n"
     ]
    }
   ],
   "source": [
    "# 040 strip 메서드\n",
    "data = \"   삼성전자    \"\n",
    "data2 = data.strip()\n",
    "print(data2)"
   ]
  },
  {
   "cell_type": "code",
   "execution_count": 23,
   "metadata": {},
   "outputs": [
    {
     "name": "stdout",
     "output_type": "stream",
     "text": [
      "BTC_KRW\n"
     ]
    }
   ],
   "source": [
    "# 041 upper 메서드\n",
    "# 다음과 같은 문자열이 있을 때 이를 대문자 BTC_KRW로 변경하세요.\n",
    "\n",
    "ticker = \"btc_krw\"\n",
    "t2 = ticker.upper()\n",
    "print(t2)"
   ]
  },
  {
   "cell_type": "code",
   "execution_count": 24,
   "metadata": {},
   "outputs": [
    {
     "name": "stdout",
     "output_type": "stream",
     "text": [
      "btc_krw\n"
     ]
    }
   ],
   "source": [
    "# 042 lower 메서드\n",
    "# 다음과 같은 문자열이 있을 때 이를 소문자 btc_krw로 변경하세요.\n",
    "\n",
    "ticker = \"BTC_KRW\"\n",
    "t1 = ticker.lower()\n",
    "print(t1)"
   ]
  },
  {
   "cell_type": "code",
   "execution_count": 25,
   "metadata": {},
   "outputs": [
    {
     "name": "stdout",
     "output_type": "stream",
     "text": [
      "Hello\n"
     ]
    }
   ],
   "source": [
    "# 043 capitalize 메서드\n",
    "# 문자열 'hello'가 있을 때 이를 'Hello'로 변경해보세요.\n",
    "t1 = 'hello'\n",
    "t2 = t1.capitalize()\n",
    "print(t2)"
   ]
  },
  {
   "cell_type": "code",
   "execution_count": 28,
   "metadata": {},
   "outputs": [
    {
     "name": "stdout",
     "output_type": "stream",
     "text": [
      "True\n"
     ]
    }
   ],
   "source": [
    "# 044 endswith 메서드\n",
    "# 파일 이름이 문자열로 저장되어 있을 때 endswith 메서드를 사용해서 파일 이름이 'xlsx'로 끝나는지 확인해보세요.\n",
    "\n",
    "file_name = \"보고서.xlsx\"\n",
    "isxlsx = file_name.endswith('xlsx')\n",
    "print(isxlsx)"
   ]
  },
  {
   "cell_type": "code",
   "execution_count": 31,
   "metadata": {},
   "outputs": [
    {
     "name": "stdout",
     "output_type": "stream",
     "text": [
      "True\n",
      "True\n"
     ]
    }
   ],
   "source": [
    "# 045 endswith 메서드\n",
    "# 파일 이름이 문자열로 저장되어 있을 때 endswith 메서드를 사용해서 파일 이름이 'xlsx' 또는 'xls'로 끝나는지 확인해보세요.\n",
    "\n",
    "f = \"보고서.xlsx\"\n",
    "print(f.endswith('xls') or f.endswith('xlsx'))\n",
    "print(f.endswith(('xls','xlsx')))  # 튜플임에 주의. 자료구조: 리스트,튜플,딕셔너리"
   ]
  },
  {
   "cell_type": "code",
   "execution_count": 32,
   "metadata": {},
   "outputs": [
    {
     "name": "stdout",
     "output_type": "stream",
     "text": [
      "True\n"
     ]
    }
   ],
   "source": [
    "# 046 startswith 메서드\n",
    "# 파일 이름이 문자열로 저장되어 있을 때 startswith 메서드를 사용해서 파일 이름이 '2020'로 시작하는지 확인해보세요.\n",
    "\n",
    "f = \"2020_보고서.xlsx\"\n",
    "print(f.startswith('2020'))"
   ]
  },
  {
   "cell_type": "code",
   "execution_count": 33,
   "metadata": {},
   "outputs": [
    {
     "name": "stdout",
     "output_type": "stream",
     "text": [
      "['hello', 'world']\n"
     ]
    }
   ],
   "source": [
    "# 047 split 메서드\n",
    "# 다음과 같은 문자열이 있을 때 공백을 기준으로 문자열을 나눠보세요.\n",
    "\n",
    "a = \"hello world\"\n",
    "b = a.split()\n",
    "print(b)"
   ]
  },
  {
   "cell_type": "code",
   "execution_count": 34,
   "metadata": {},
   "outputs": [
    {
     "name": "stdout",
     "output_type": "stream",
     "text": [
      "['btc', 'krw']\n"
     ]
    }
   ],
   "source": [
    "# 048 split 메서드\n",
    "# 다음과 같이 문자열이 있을 때 btc와 krw로 나눠보세요.\n",
    "\n",
    "ticker = \"btc_krw\"\n",
    "t2 = ticker.split('_')\n",
    "print(t2)"
   ]
  },
  {
   "cell_type": "code",
   "execution_count": 35,
   "metadata": {},
   "outputs": [
    {
     "name": "stdout",
     "output_type": "stream",
     "text": [
      "2020 05 01\n"
     ]
    }
   ],
   "source": [
    "# 049 split 메서드\n",
    "# 다음과 같이 날짜를 표현하는 문자열이 있을 때 연도, 월, 일로 나눠보세요.\n",
    "\n",
    "date = \"2020-05-01\"\n",
    "year,month,day = date.split('-')\n",
    "print(year,month,day)\n"
   ]
  },
  {
   "cell_type": "code",
   "execution_count": 42,
   "metadata": {},
   "outputs": [
    {
     "name": "stdout",
     "output_type": "stream",
     "text": [
      "039490\n",
      "039490\n",
      "039490      11\n",
      "11\n"
     ]
    }
   ],
   "source": [
    "\n",
    "# 050 rstrip 메서드\n",
    "# 문자열의 오른쪽에 공백이 있을 때 이를 제거해보세요.\n",
    "\n",
    "data = \"039490     \"\n",
    "d2 = data.strip()\n",
    "print(d2)\n",
    "d3 = data.rstrip()\n",
    "print(d3)\n",
    "d4 = data.lstrip()\n",
    "print(d4, d4.__len__())\n",
    "print(len(d4))"
   ]
  },
  {
   "attachments": {},
   "cell_type": "markdown",
   "metadata": {},
   "source": [
    "# 04. 파이썬 리스트\n",
    "> 파이선 리스트는 순서가 있고 수정 가능한 자료구조입니다."
   ]
  },
  {
   "attachments": {},
   "cell_type": "markdown",
   "metadata": {},
   "source": [
    "## 051 ~ 060 리스트"
   ]
  },
  {
   "cell_type": "code",
   "execution_count": 43,
   "metadata": {},
   "outputs": [
    {
     "name": "stdout",
     "output_type": "stream",
     "text": [
      "['영화', '닥터 스트레인지', '스플릿', '럭키']\n"
     ]
    }
   ],
   "source": [
    "# 051 리스트 생성\n",
    "# 2016년 11월 영화 예매 순위 기준 top3는 다음과 같습니다. 영화 제목을 movie_rank 이름의 리스트에 저장해보세요. (순위 정보는 저장하지 않습니다.)\n",
    "\n",
    "# 순위|\t 영화\n",
    "# 1  |\t닥터 스트레인지\n",
    "# 2  |\t스플릿\n",
    "# 3  |\t럭키\n",
    "\n",
    "movie_rank=[\"영화\",\"닥터 스트레인지\",\"스플릿\", \"럭키\"]\n",
    "print(movie_rank)\n"
   ]
  },
  {
   "cell_type": "code",
   "execution_count": 44,
   "metadata": {},
   "outputs": [
    {
     "name": "stdout",
     "output_type": "stream",
     "text": [
      "['영화', '닥터 스트레인지', '스플릿', '럭키', '배트맨']\n"
     ]
    }
   ],
   "source": [
    "# 052 리스트에 원소 추가\n",
    "# 051의 movie_rank 리스트에 \"배트맨\"을 추가하라.\n",
    "\n",
    "movie_rank.append(\"배트맨\")\n",
    "print(movie_rank)"
   ]
  },
  {
   "cell_type": "code",
   "execution_count": 45,
   "metadata": {},
   "outputs": [
    {
     "name": "stdout",
     "output_type": "stream",
     "text": [
      "['닥터 스트레인지', '슈퍼맨', '스플릿', '럭키', '배트맨']\n"
     ]
    }
   ],
   "source": [
    "# movie_rank 리스트에는 아래와 같이 네 개의 영화 제목이 바인딩되어 있다. \n",
    "# \"슈퍼맨\"을 \"닥터 스트레인지\"와 \"스플릿\" 사이에 추가하라.\n",
    "\n",
    "movie_rank = ['닥터 스트레인지', '스플릿', '럭키', '배트맨']\n",
    "movie_rank.insert(1, \"슈퍼맨\")\n",
    "print(movie_rank)"
   ]
  },
  {
   "cell_type": "code",
   "execution_count": 50,
   "metadata": {},
   "outputs": [
    {
     "name": "stdout",
     "output_type": "stream",
     "text": [
      "['닥터 스트레인지', '슈퍼맨', '스플릿', '배트맨']\n",
      "['닥터 스트레인지', '슈퍼맨', '스플릿']\n"
     ]
    }
   ],
   "source": [
    "# 054\n",
    "# movie_rank 리스트에서 '럭키'를 삭제하라.\n",
    "\n",
    "movie_rank = ['닥터 스트레인지', '슈퍼맨', '스플릿', '럭키', '배트맨']\n",
    "movie_rank.remove(\"럭키\")\n",
    "print(movie_rank)\n",
    "del movie_rank[3]\n",
    "print(movie_rank)"
   ]
  },
  {
   "cell_type": "code",
   "execution_count": 53,
   "metadata": {},
   "outputs": [
    {
     "name": "stdout",
     "output_type": "stream",
     "text": [
      "['닥터 스트레인지', '슈퍼맨']\n"
     ]
    }
   ],
   "source": [
    "# 055\n",
    "# movie_rank 리스트에서 '스플릿' 과 '배트맨'을 를 삭제하라.\n",
    "\n",
    "movie_rank = ['닥터 스트레인지', '슈퍼맨', '스플릿', '배트맨']\n",
    "del movie_rank[2:4]\n",
    "del movie_rank[2:]\n",
    "print(movie_rank)"
   ]
  },
  {
   "cell_type": "code",
   "execution_count": 55,
   "metadata": {},
   "outputs": [
    {
     "name": "stdout",
     "output_type": "stream",
     "text": [
      "['C', 'C++', 'JAVA', 'Python', 'Go', 'C#']\n"
     ]
    }
   ],
   "source": [
    "# 056\n",
    "# lang1과 lang2 리스트가 있을 때 lang1과 lang2의 원소를 모두 갖고 있는 langs 리스트를 만들어라.\n",
    "\n",
    "lang1 = [\"C\", \"C++\", \"JAVA\"]\n",
    "lang2 = [\"Python\", \"Go\", \"C#\"]\n",
    "\n",
    "lang = lang1 + lang2\n",
    "print(lang)"
   ]
  },
  {
   "cell_type": "code",
   "execution_count": 56,
   "metadata": {},
   "outputs": [
    {
     "name": "stdout",
     "output_type": "stream",
     "text": [
      "7 1\n"
     ]
    }
   ],
   "source": [
    "# 057\n",
    "# 다음 리스트에서 최댓값과 최솟값을 출력하라. (힌트: min(), max() 함수 사용)\n",
    "\n",
    "nums = [1, 2, 3, 4, 5, 6, 7]\n",
    "print(max(nums), min(nums))"
   ]
  },
  {
   "cell_type": "code",
   "execution_count": 57,
   "metadata": {},
   "outputs": [
    {
     "name": "stdout",
     "output_type": "stream",
     "text": [
      "15\n"
     ]
    }
   ],
   "source": [
    "# 058\n",
    "# 다음 리스트의 합을 출력하라.\n",
    "\n",
    "nums = [1, 2, 3, 4, 5]\n",
    "print(sum(nums))"
   ]
  },
  {
   "cell_type": "code",
   "execution_count": 62,
   "metadata": {},
   "outputs": [
    {
     "name": "stdout",
     "output_type": "stream",
     "text": [
      "12\n"
     ]
    }
   ],
   "source": [
    "# 059\n",
    "# 다음 리스트에 저장된 데이터의 개수를 화면에 구하하라.\n",
    "\n",
    "cook = [\"피자\", \"김밥\", \"만두\", \"양념치킨\", \"족발\", \"피자\", \"김치만두\", \"쫄면\", \"소시지\", \"라면\", \"팥빙수\", \"김치전\"]\n",
    "print(len(cook))"
   ]
  },
  {
   "cell_type": "code",
   "execution_count": 63,
   "metadata": {},
   "outputs": [
    {
     "name": "stdout",
     "output_type": "stream",
     "text": [
      "3.0\n"
     ]
    }
   ],
   "source": [
    "# 060\n",
    "# 다음 리스트의 평균을 출력하라.\n",
    "\n",
    "nums = [1, 2, 3, 4, 5]\n",
    "print(sum(nums) / len(nums))"
   ]
  },
  {
   "attachments": {},
   "cell_type": "markdown",
   "metadata": {},
   "source": [
    "## 061 ~ 070"
   ]
  },
  {
   "cell_type": "code",
   "execution_count": 64,
   "metadata": {},
   "outputs": [
    {
     "name": "stdout",
     "output_type": "stream",
     "text": [
      "[100, 130, 140, 150, 160, 170]\n"
     ]
    }
   ],
   "source": [
    "# 061\n",
    "# price 변수에는 날짜와 종가 정보가 저장돼 있다. 날짜 정보를 제외하고 가격 정보만을 출력하라. (힌트 : 슬라이싱)\n",
    "\n",
    "price = ['20180728', 100, 130, 140, 150, 160, 170]\n",
    "p2 = price[1:]\n",
    "print(p2)"
   ]
  },
  {
   "cell_type": "code",
   "execution_count": 66,
   "metadata": {},
   "outputs": [
    {
     "name": "stdout",
     "output_type": "stream",
     "text": [
      "[1, 3, 5, 7, 9]\n"
     ]
    }
   ],
   "source": [
    "# 062\n",
    "# 슬라이싱을 사용해서 홀수만 출력하라.\n",
    "\n",
    "nums = [1, 2, 3, 4, 5, 6, 7, 8, 9, 10]\n",
    "n1 = nums[::2]\n",
    "print(n1)"
   ]
  },
  {
   "cell_type": "code",
   "execution_count": 67,
   "metadata": {},
   "outputs": [
    {
     "name": "stdout",
     "output_type": "stream",
     "text": [
      "[2, 4, 6, 8, 10]\n"
     ]
    }
   ],
   "source": [
    "# 063\n",
    "# 슬라이싱을 사용해서 짝수만 출력하라.\n",
    "\n",
    "nums = [1, 2, 3, 4, 5, 6, 7, 8, 9, 10]\n",
    "n2 = nums[1::2]\n",
    "print(n2)"
   ]
  },
  {
   "cell_type": "code",
   "execution_count": 68,
   "metadata": {},
   "outputs": [
    {
     "name": "stdout",
     "output_type": "stream",
     "text": [
      "[5, 4, 3, 2, 1]\n"
     ]
    }
   ],
   "source": [
    "# 064\n",
    "# 슬라이싱을 사용해서 리스트의 숫자를 역 방향으로 출력하라.\n",
    "\n",
    "nums = [1, 2, 3, 4, 5]\n",
    "n3=nums[::-1]\n",
    "print(n3)"
   ]
  },
  {
   "cell_type": "code",
   "execution_count": 69,
   "metadata": {},
   "outputs": [
    {
     "name": "stdout",
     "output_type": "stream",
     "text": [
      "삼성전자 Naver "
     ]
    }
   ],
   "source": [
    "# 065\n",
    "# interest 리스트에는 아래의 데이터가 바인딩되어 있다.\n",
    "\n",
    "interest = ['삼성전자', 'LG전자', 'Naver']\n",
    "\n",
    "# interest 리스트를 사용하여 아래와 같이 화면에 출력하라.\n",
    "\n",
    "# 출력 예시:\n",
    "# 삼성전자 Naver\n",
    "\n",
    "for s in interest[::2]:\n",
    "    print(s,end=\" \")\n"
   ]
  },
  {
   "cell_type": "code",
   "execution_count": 72,
   "metadata": {},
   "outputs": [
    {
     "name": "stdout",
     "output_type": "stream",
     "text": [
      "삼성전자 LG전자 Naver SK하이닉스 미래에셋대우 \n",
      "삼성전자 LG전자 Naver SK하이닉스 미래에셋대우\n"
     ]
    }
   ],
   "source": [
    "# 066 join 메서드\n",
    "# interest 리스트에는 아래의 데이터가 바인딩되어 있다.\n",
    "\n",
    "interest = ['삼성전자', 'LG전자', 'Naver', 'SK하이닉스', '미래에셋대우']\n",
    "# interest 리스트를 사용하여 아래와 같이 화면에 출력하라.\n",
    "\n",
    "# 출력 예시:\n",
    "# 삼성전자 LG전자 Naver SK하이닉스 미래에셋대우\n",
    "\n",
    "for s in interest:\n",
    "    print(s,end=\" \")\n",
    "\n",
    "print()\n",
    "print(\" \".join(interest))    "
   ]
  },
  {
   "cell_type": "code",
   "execution_count": 73,
   "metadata": {},
   "outputs": [
    {
     "name": "stdout",
     "output_type": "stream",
     "text": [
      "삼성전자/LG전자/Naver/SK하이닉스/미래에셋대우\n"
     ]
    }
   ],
   "source": [
    "# 067 join 메서드\n",
    "# interest 리스트에는 아래의 데이터가 바인딩되어 있다.\n",
    "\n",
    "interest = ['삼성전자', 'LG전자', 'Naver', 'SK하이닉스', '미래에셋대우']\n",
    "# interest 리스트를 사용하여 아래와 같이 화면에 출력하라.\n",
    "\n",
    "# 출력 예시:\n",
    "# 삼성전자/LG전자/Naver/SK하이닉스/미래에셋대우\n",
    "print(\"/\".join(interest))"
   ]
  },
  {
   "cell_type": "code",
   "execution_count": 74,
   "metadata": {},
   "outputs": [
    {
     "name": "stdout",
     "output_type": "stream",
     "text": [
      "삼성전자\n",
      "LG전자\n",
      "Naver\n",
      "SK하이닉스\n",
      "미래에셋대우\n"
     ]
    }
   ],
   "source": [
    "# 068 join 메서드\n",
    "# interest 리스트에는 아래의 데이터가 바인딩되어 있다.\n",
    "\n",
    "interest = ['삼성전자', 'LG전자', 'Naver', 'SK하이닉스', '미래에셋대우']\n",
    "# join() 메서드를 사용해서 interest 리스트를 아래와 같이 화면에 출력하라.\n",
    "\n",
    "# 출력 예시:\n",
    "# 삼성전자\n",
    "# LG전자\n",
    "# Naver\n",
    "# SK하이닉스\n",
    "# 미래에셋대우\n",
    "print(\"\\n\".join(interest))"
   ]
  },
  {
   "cell_type": "code",
   "execution_count": 76,
   "metadata": {},
   "outputs": [
    {
     "name": "stdout",
     "output_type": "stream",
     "text": [
      "['삼성전자', 'LG전자', 'Naver']\n"
     ]
    }
   ],
   "source": [
    "# 069 문자열 split 메서드\n",
    "# 회사 이름이 슬래시 ('/')로 구분되어 하나의 문자열로 저장되어 있다.\n",
    "\n",
    "string = \"삼성전자/LG전자/Naver\"\n",
    "# 이를 interest 이름의 리스트로 분리 저장하라.\n",
    "# ['삼성전자', 'LG전자', 'Naver']\n",
    "\n",
    "interest = string.split('/')\n",
    "print(interest)"
   ]
  },
  {
   "cell_type": "code",
   "execution_count": 80,
   "metadata": {},
   "outputs": [
    {
     "name": "stdout",
     "output_type": "stream",
     "text": [
      "[1, 2, 3, 4, 5, 9, 10]\n",
      "[1, 2, 3, 4, 5, 9, 10]\n"
     ]
    }
   ],
   "source": [
    "# 070 리스트 정렬\n",
    "# 리스트에 있는 값을 오름차순으로 정렬하세요.\n",
    "\n",
    "data = [2, 4, 3, 1, 5, 10, 9]\n",
    "data2 = sorted(data)  # sorted와 sort는 다르다.\n",
    "print(data2)\n",
    "\n",
    "data.sort()\n",
    "print(data)"
   ]
  },
  {
   "attachments": {},
   "cell_type": "markdown",
   "metadata": {},
   "source": [
    "# 05. 파이썬 튜플\n",
    "> 파이썬 튜플은 순서가 있지만 수정 불가능한 자료구조입니다.\n",
    "\n",
    "## 071 ~ 080 튜플"
   ]
  },
  {
   "cell_type": "code",
   "execution_count": 81,
   "metadata": {},
   "outputs": [
    {
     "name": "stdout",
     "output_type": "stream",
     "text": [
      "() <class 'tuple'>\n"
     ]
    }
   ],
   "source": [
    "# 071\n",
    "# my_variable 이름의 비어있는 튜플을 만들라.\n",
    "my_variable = ()\n",
    "\n",
    "print(my_variable, type(my_variable))"
   ]
  },
  {
   "cell_type": "code",
   "execution_count": 82,
   "metadata": {},
   "outputs": [
    {
     "name": "stdout",
     "output_type": "stream",
     "text": [
      "('닥터 스트레인지', '스플릿', '럭키')\n"
     ]
    }
   ],
   "source": [
    "# 072\n",
    "# 2016년 11월 영화 예매 순위 기준 top3는 다음과 같다. 영화 제목을 movie_rank 이름의 튜플에 저장하라. (순위 정보는 저장하지 않는다.)\n",
    "\n",
    "# 순위\t영화\n",
    "# 1\t닥터 스트레인지\n",
    "# 2\t스플릿\n",
    "# 3\t럭키\n",
    "my_variable = ('닥터 스트레인지', '스플릿', '럭키')\n",
    "print(my_variable)"
   ]
  },
  {
   "cell_type": "code",
   "execution_count": 85,
   "metadata": {},
   "outputs": [
    {
     "name": "stdout",
     "output_type": "stream",
     "text": [
      "<class 'int'>\n",
      "<class 'tuple'>\n"
     ]
    }
   ],
   "source": [
    "# 073\n",
    "# 숫자 1 이 저장된 튜플을 생성하라.\n",
    "\n",
    "num1 = (1)\n",
    "print(type(num1))\n",
    "\n",
    "num1 = (1,)\n",
    "print(type(num1))\n"
   ]
  },
  {
   "cell_type": "code",
   "execution_count": 86,
   "metadata": {},
   "outputs": [
    {
     "ename": "TypeError",
     "evalue": "'tuple' object does not support item assignment",
     "output_type": "error",
     "traceback": [
      "\u001b[1;31m---------------------------------------------------------------------------\u001b[0m",
      "\u001b[1;31mTypeError\u001b[0m                                 Traceback (most recent call last)",
      "Cell \u001b[1;32mIn[86], line 5\u001b[0m\n\u001b[0;32m      1\u001b[0m \u001b[39m# 074\u001b[39;00m\n\u001b[0;32m      2\u001b[0m \u001b[39m# 다음 코드를 실행해보고 오류가 발생하는 원인을 설명하라.\u001b[39;00m\n\u001b[0;32m      4\u001b[0m t \u001b[39m=\u001b[39m (\u001b[39m1\u001b[39m, \u001b[39m2\u001b[39m, \u001b[39m3\u001b[39m)\n\u001b[1;32m----> 5\u001b[0m t[\u001b[39m0\u001b[39;49m] \u001b[39m=\u001b[39m \u001b[39m'\u001b[39m\u001b[39ma\u001b[39m\u001b[39m'\u001b[39m\n",
      "\u001b[1;31mTypeError\u001b[0m: 'tuple' object does not support item assignment"
     ]
    }
   ],
   "source": [
    "# 074\n",
    "# 다음 코드를 실행해보고 오류가 발생하는 원인을 설명하라.\n",
    "\n",
    "g = (1, 2, 3)\n",
    "g[0] = 'a'\n"
   ]
  },
  {
   "cell_type": "code",
   "execution_count": 87,
   "metadata": {},
   "outputs": [
    {
     "name": "stdout",
     "output_type": "stream",
     "text": [
      "(1, 2, 3, 4) <class 'tuple'>\n"
     ]
    }
   ],
   "source": [
    "# 075\n",
    "# 아래와 같이 t에는 1, 2, 3, 4 데이터가 바인딩되어 있다. t가 바인딩하는 데이터 타입은 무엇인가?\n",
    "\n",
    "g = 1, 2, 3, 4\n",
    "print(g, type(g))"
   ]
  },
  {
   "attachments": {},
   "cell_type": "markdown",
   "metadata": {},
   "source": [
    "> $\\rarr$ 원칙적으로 튜플은 괄호와 함께 데이터를 정의해야 하지만, 사용자 편의를 위해 괄호 없이도 동작합니다."
   ]
  },
  {
   "cell_type": "code",
   "execution_count": 91,
   "metadata": {},
   "outputs": [
    {
     "name": "stdout",
     "output_type": "stream",
     "text": [
      "('a', 'b', 'c')\n",
      "('A', 'b', 'c')\n"
     ]
    }
   ],
   "source": [
    "# 076\n",
    "# 변수 t에는 아래와 같은 값이 저장되어 있다. 변수 t가 ('A', 'b', 'c') 튜플을 가리키도록 수정 하라.\n",
    "\n",
    "g = ('a', 'b', 'c')\n",
    "g[0].replace('a','A')\n",
    "print(g)\n",
    "\n",
    "g= ('A','b','c')\n",
    "print(g)"
   ]
  },
  {
   "attachments": {},
   "cell_type": "markdown",
   "metadata": {},
   "source": [
    "> 무조건 삭제하고 새로 만들어야 함"
   ]
  },
  {
   "cell_type": "code",
   "execution_count": 1,
   "metadata": {},
   "outputs": [
    {
     "name": "stdout",
     "output_type": "stream",
     "text": [
      "['삼성전자', 'LG전자', 'SK Hynix'] <class 'list'>\n",
      "['삼성전자', 'LG전자', 'SK Hynix'] <class 'list'>\n"
     ]
    }
   ],
   "source": [
    "# 077\n",
    "# 다음 튜플을 리스트로 변환하라.\n",
    "\n",
    "interest = ('삼성전자', 'LG전자', 'SK Hynix')\n",
    "lst = []\n",
    "for s in interest:\n",
    "    lst.append(s)\n",
    "\n",
    "print(lst, type(lst))   \n",
    "\n",
    "lst2 = list(interest)\n",
    "print(lst2, type(lst2))"
   ]
  },
  {
   "cell_type": "code",
   "execution_count": 95,
   "metadata": {},
   "outputs": [
    {
     "name": "stdout",
     "output_type": "stream",
     "text": [
      "('삼성전자', 'LG전자', 'SK Hynix') <class 'tuple'>\n"
     ]
    }
   ],
   "source": [
    "# 078\n",
    "# 다음 리스트를 튜플로 변경하라.\n",
    "\n",
    "interest = ['삼성전자', 'LG전자', 'SK Hynix']\n",
    "g = tuple(interest)\n",
    "print(g, type(g))"
   ]
  },
  {
   "cell_type": "code",
   "execution_count": 96,
   "metadata": {},
   "outputs": [
    {
     "name": "stdout",
     "output_type": "stream",
     "text": [
      "apple banana cake\n"
     ]
    }
   ],
   "source": [
    "# 079 튜플 언팩킹\n",
    "# 다음 코드의 실행 결과를 예상하라.\n",
    "\n",
    "temp = ('apple', 'banana', 'cake')\n",
    "a, b, c = temp\n",
    "print(a, b, c)"
   ]
  },
  {
   "cell_type": "code",
   "execution_count": 97,
   "metadata": {},
   "outputs": [
    {
     "name": "stdout",
     "output_type": "stream",
     "text": [
      "(2, 4, 6, 8, 10, 12, 14, 16, 18, 20, 22, 24, 26, 28, 30, 32, 34, 36, 38, 40, 42, 44, 46, 48, 50, 52, 54, 56, 58, 60, 62, 64, 66, 68, 70, 72, 74, 76, 78, 80, 82, 84, 86, 88, 90, 92, 94, 96, 98)\n"
     ]
    }
   ],
   "source": [
    "# 080 range 함수\n",
    "# 1 부터 99까지의 정수 중 짝수만 저장된 튜플을 생성하라.\n",
    "\n",
    "# (2, 4, 6, 8 ... 98)\n",
    "t3 = tuple(range(2,99,2))\n",
    "print(t3)"
   ]
  },
  {
   "attachments": {},
   "cell_type": "markdown",
   "metadata": {},
   "source": [
    "# 06. 파이썬 딕셔너리\n",
    "## 081 ~ 090 딕셔너리 (1/2)"
   ]
  },
  {
   "cell_type": "code",
   "execution_count": 99,
   "metadata": {},
   "outputs": [
    {
     "name": "stdout",
     "output_type": "stream",
     "text": [
      "0 1 [2, 3, 4, 5]\n"
     ]
    }
   ],
   "source": [
    "# 081 별 표현식\n",
    "# 기본적으로 데이터 언패킹은 좌변의 변수와 우변 데이터 개수가 같아야 합니다. \n",
    "# 하지만 star expression을 사용하면 변수의 개수가 달라도 데이터 언패킹을 할 수 있습니다. \n",
    "# 튜플에 저장된 데이터 중에서 앞에 있는 두 개의 데이터만 필요할 경우 \n",
    "# 나머지 데이터의 언패킹 코드를 작성할 필요가 없습니다.\n",
    "\n",
    "a, b, *c = (0, 1, 2, 3, 4, 5)\n",
    "print(a, b, c)"
   ]
  },
  {
   "cell_type": "code",
   "execution_count": 102,
   "metadata": {},
   "outputs": [
    {
     "name": "stdout",
     "output_type": "stream",
     "text": [
      "[8.8, 8.9, 8.7, 9.2, 9.3, 9.7, 9.9, 9.5]\n"
     ]
    }
   ],
   "source": [
    "# *표현식을 이용한 다른 예제\n",
    "\n",
    "# 다음과 같이 10개의 값이 저장된 scores 리스트가 있을 때, \n",
    "# start expression을 사용하여 좌측 8개의 값을 valid_score 변수에 바인딩하여라.\n",
    "\n",
    "scores = [8.8, 8.9, 8.7, 9.2, 9.3, 9.7, 9.9, 9.5, 7.8, 9.4]\n",
    "\n",
    "*valid_score, _, _ = scores\n",
    "print(valid_score)"
   ]
  },
  {
   "cell_type": "code",
   "execution_count": 103,
   "metadata": {},
   "outputs": [
    {
     "name": "stdout",
     "output_type": "stream",
     "text": [
      "[8.7, 9.2, 9.3, 9.7, 9.9, 9.5, 7.8, 9.4]\n"
     ]
    }
   ],
   "source": [
    "# 082\n",
    "# 다음과 같이 10개의 값이 저장된 scores 리스트가 있을 때, start expression을 사용하여 \n",
    "# 우측 8개의 값을 valid_score 변수에 바인딩하여라.\n",
    "\n",
    "scores = [8.8, 8.9, 8.7, 9.2, 9.3, 9.7, 9.9, 9.5, 7.8, 9.4]\n",
    "_,_, *valid_score = scores\n",
    "\n",
    "print(valid_score)"
   ]
  },
  {
   "cell_type": "code",
   "execution_count": 105,
   "metadata": {},
   "outputs": [
    {
     "name": "stdout",
     "output_type": "stream",
     "text": [
      "[8.9, 8.7, 9.2, 9.3, 9.7, 9.9, 9.5, 7.8]\n"
     ]
    }
   ],
   "source": [
    "# 083\n",
    "# 다음과 같이 10개의 값이 저장된 scores 리스트가 있을 때, start expression을 사용하여 \n",
    "# 가운데 있는 8개의 값을 valid_score 변수에 바인딩하여라.\n",
    "\n",
    "scores = [8.8, 8.9, 8.7, 9.2, 9.3, 9.7, 9.9, 9.5, 7.8, 9.4]\n",
    "_,*valid_score,_ = scores\n",
    "\n",
    "print(valid_score)"
   ]
  },
  {
   "cell_type": "code",
   "execution_count": 106,
   "metadata": {},
   "outputs": [
    {
     "name": "stdout",
     "output_type": "stream",
     "text": [
      "{} <class 'dict'>\n"
     ]
    }
   ],
   "source": [
    "# 084 비어있는 딕셔너리\n",
    "# temp 이름의 비어있는 딕셔너리를 만들라.\n",
    "\n",
    "temp = {}\n",
    "\n",
    "print(temp, type(temp))"
   ]
  },
  {
   "cell_type": "code",
   "execution_count": 107,
   "metadata": {},
   "outputs": [
    {
     "name": "stdout",
     "output_type": "stream",
     "text": [
      "{'메로나': 1000, '폴라포': 1200, '빵빠레': 1800} <class 'dict'>\n"
     ]
    }
   ],
   "source": [
    "# 085\n",
    "# 다음 아이스크림 이름과 희망 가격을 딕셔너리로 구성하라.\n",
    "\n",
    "# 이름\t희망 가격\n",
    "# 메로나\t1000\n",
    "# 폴라포\t1200\n",
    "# 빵빠레\t1800\n",
    "\n",
    "dict = {\"메로나\":1000, \"폴라포\":1200, \"빵빠레\":1800}\n",
    "print(dict, type(dict))"
   ]
  },
  {
   "cell_type": "code",
   "execution_count": 111,
   "metadata": {},
   "outputs": [
    {
     "name": "stdout",
     "output_type": "stream",
     "text": [
      "{'메로나': 1000, '폴라포': 1200, '빵빠레': 1800, '죠스바': 1200, '월드콘': 1500} <class 'dict'>\n"
     ]
    }
   ],
   "source": [
    "# 086\n",
    "# 085 번의 딕셔너리에 아래 아이스크림 가격정보를 추가하라.\n",
    "\n",
    "# 이름\t희망 가격\n",
    "# 죠스바\t1200\n",
    "# 월드콘\t1500\n",
    "\n",
    "dict = {\"메로나\":1000, \"폴라포\":1200, \"빵빠레\":1800}\n",
    "dict[\"죠스바\"]=1200\n",
    "dict[\"월드콘\"]=1500\n",
    "\n",
    "print(dict, type(dict))"
   ]
  },
  {
   "cell_type": "code",
   "execution_count": 113,
   "metadata": {},
   "outputs": [
    {
     "name": "stdout",
     "output_type": "stream",
     "text": [
      "메로나 가격:  1000\n"
     ]
    }
   ],
   "source": [
    "# 087\n",
    "# 다음 딕셔너리를 사용하여 메로나 가격을 출력하라.\n",
    "\n",
    "ice = {'메로나': 1000,\n",
    "       '폴로포': 1200,\n",
    "       '빵빠레': 1800,\n",
    "       '죠스바': 1200,\n",
    "       '월드콘': 1500}\n",
    "print(\"메로나 가격: \", ice[\"메로나\"])"
   ]
  },
  {
   "cell_type": "code",
   "execution_count": 114,
   "metadata": {},
   "outputs": [
    {
     "name": "stdout",
     "output_type": "stream",
     "text": [
      "{'메로나': 1300, '폴로포': 1200, '빵빠레': 1800, '죠스바': 1200, '월드콘': 1500}\n"
     ]
    }
   ],
   "source": [
    "# 088\n",
    "# 다음 딕셔너리에서 메로나의 가격을 1300으로 수정하라.\n",
    "\n",
    "ice = {'메로나': 1000,\n",
    "       '폴로포': 1200,\n",
    "       '빵빠레': 1800,\n",
    "       '죠스바': 1200,\n",
    "       '월드콘': 1500}\n",
    "ice[\"메로나\"] = 1300\n",
    "\n",
    "print(ice)"
   ]
  },
  {
   "cell_type": "code",
   "execution_count": 115,
   "metadata": {},
   "outputs": [
    {
     "name": "stdout",
     "output_type": "stream",
     "text": [
      "{'폴로포': 1200, '빵빠레': 1800, '죠스바': 1200, '월드콘': 1500}\n"
     ]
    }
   ],
   "source": [
    "# 089\n",
    "# 다음 딕셔너리에서 메로나를 삭제하라.\n",
    "\n",
    "ice = {'메로나': 1000,\n",
    "       '폴로포': 1200,\n",
    "       '빵빠레': 1800,\n",
    "       '죠스바': 1200,\n",
    "       '월드콘': 1500}\n",
    "del ice['메로나']\n",
    "print(ice)\n",
    "\n"
   ]
  },
  {
   "cell_type": "code",
   "execution_count": 116,
   "metadata": {},
   "outputs": [
    {
     "ename": "KeyError",
     "evalue": "'누가바'",
     "output_type": "error",
     "traceback": [
      "\u001b[1;31m---------------------------------------------------------------------------\u001b[0m",
      "\u001b[1;31mKeyError\u001b[0m                                  Traceback (most recent call last)",
      "Cell \u001b[1;32mIn[116], line 5\u001b[0m\n\u001b[0;32m      1\u001b[0m \u001b[39m# 090\u001b[39;00m\n\u001b[0;32m      2\u001b[0m \u001b[39m# 다음 코드에서 에러가 발생한 원인을 설명하라.\u001b[39;00m\n\u001b[0;32m      4\u001b[0m icecream \u001b[39m=\u001b[39m {\u001b[39m'\u001b[39m\u001b[39m폴라포\u001b[39m\u001b[39m'\u001b[39m: \u001b[39m1200\u001b[39m, \u001b[39m'\u001b[39m\u001b[39m빵빠레\u001b[39m\u001b[39m'\u001b[39m: \u001b[39m1800\u001b[39m, \u001b[39m'\u001b[39m\u001b[39m월드콘\u001b[39m\u001b[39m'\u001b[39m: \u001b[39m1500\u001b[39m, \u001b[39m'\u001b[39m\u001b[39m메로나\u001b[39m\u001b[39m'\u001b[39m: \u001b[39m1000\u001b[39m}\n\u001b[1;32m----> 5\u001b[0m icecream[\u001b[39m'\u001b[39;49m\u001b[39m누가바\u001b[39;49m\u001b[39m'\u001b[39;49m]\n",
      "\u001b[1;31mKeyError\u001b[0m: '누가바'"
     ]
    }
   ],
   "source": [
    "# 090\n",
    "# 다음 코드에서 에러가 발생한 원인을 설명하라.\n",
    "\n",
    "icecream = {'폴라포': 1200, '빵빠레': 1800, '월드콘': 1500, '메로나': 1000}\n",
    "icecream['누가바']\n"
   ]
  },
  {
   "attachments": {},
   "cell_type": "markdown",
   "metadata": {},
   "source": [
    "> $\\rarr$ 딕셔너리에 없는 키를 인덱싱하면 에러가 발생한다."
   ]
  },
  {
   "attachments": {},
   "cell_type": "markdown",
   "metadata": {},
   "source": [
    "## 091 ~ 100 딕셔너리 (2/2)"
   ]
  },
  {
   "cell_type": "code",
   "execution_count": 4,
   "metadata": {},
   "outputs": [
    {
     "name": "stdout",
     "output_type": "stream",
     "text": [
      "{'메로나': [300, 20], '비비빅': [400, 3], '죠스바': [250, 10]} <class 'dict'>\n"
     ]
    }
   ],
   "source": [
    "# 091 딕셔너리 생성\n",
    "# 아래의 표에서, 아이스크림 이름을 키값으로, (가격, 재고) 리스트를 딕셔너리의 값으로 저장하라. \n",
    "# 딕셔너리의 이름은 inventory로 한다.\n",
    "\n",
    "# 이름\t가격\t재고\n",
    "# 메로나\t300\t20\n",
    "# 비비빅\t400\t3\n",
    "# 죠스바\t250\t100\n",
    "\n",
    "inventory = {\"메로나\":[300, 20],\n",
    "             \"비비빅\":[400, 3],\n",
    "             \"죠스바\":[250, 10]\n",
    "             }\n",
    "\n",
    "print(inventory, type(inventory))"
   ]
  },
  {
   "cell_type": "code",
   "execution_count": 6,
   "metadata": {},
   "outputs": [
    {
     "name": "stdout",
     "output_type": "stream",
     "text": [
      "300 원\n"
     ]
    }
   ],
   "source": [
    "# 092 딕셔너리 인덱싱\n",
    "# inventory 딕셔너리에서 메로나의 가격을 화면에 출력하라.\n",
    "\n",
    "inventory = {\"메로나\": [300, 20],\n",
    "              \"비비빅\": [400, 3],\n",
    "              \"죠스바\": [250, 100]}\n",
    "\n",
    "print(inventory[\"메로나\"][0], '원')"
   ]
  },
  {
   "cell_type": "code",
   "execution_count": 7,
   "metadata": {},
   "outputs": [
    {
     "name": "stdout",
     "output_type": "stream",
     "text": [
      "20 개\n"
     ]
    }
   ],
   "source": [
    "# 093 딕셔너리 인덱싱\n",
    "# inventory 딕셔너리에서 메로나의 재고를 화면에 출력하라.\n",
    "\n",
    "inventory = {\"메로나\": [300, 20],\n",
    "              \"비비빅\": [400, 3],\n",
    "              \"죠스바\": [250, 100]}\n",
    "\n",
    "print(inventory[\"메로나\"][1], '개')"
   ]
  },
  {
   "cell_type": "code",
   "execution_count": 8,
   "metadata": {},
   "outputs": [
    {
     "name": "stdout",
     "output_type": "stream",
     "text": [
      "{'메로나': [300, 20], '비비빅': [400, 3], '죠스바': [250, 100], '월드콘': [500, 7]}\n"
     ]
    }
   ],
   "source": [
    "# 094 딕셔너리 추가\n",
    "# inventory 딕셔너리에 아래 데이터를 추가하라.\n",
    "\n",
    "inventory = {\"메로나\": [300, 20],\n",
    "              \"비비빅\": [400, 3],\n",
    "              \"죠스바\": [250, 100]}\n",
    "\n",
    "\n",
    "# 이름\t가격\t재고\n",
    "# 월드콘\t500\t7\n",
    "inventory[\"월드콘\"] = [500,7]\n",
    "print(inventory)"
   ]
  },
  {
   "cell_type": "code",
   "execution_count": 12,
   "metadata": {},
   "outputs": [
    {
     "name": "stdout",
     "output_type": "stream",
     "text": [
      "dict_keys(['탱크보이', '폴라포', '빵빠레', '월드콘', '메로나']) <class 'dict_keys'>\n",
      "['탱크보이', '폴라포', '빵빠레', '월드콘', '메로나'] <class 'list'>\n"
     ]
    }
   ],
   "source": [
    "# 095 딕셔너리 keys() 메서드\n",
    "# 다음의 딕셔너리로부터 key 값으로만 구성된 리스트를 생성하라.\n",
    "\n",
    "icecream = {'탱크보이': 1200, '폴라포': 1200, '빵빠레': 1800, '월드콘': 1500, '메로나': 1000}\n",
    "data = icecream.keys()\n",
    "print(data, type(data))\n",
    "\n",
    "ice = list(icecream.keys())\n",
    "print(ice, type(ice))\n"
   ]
  },
  {
   "attachments": {},
   "cell_type": "markdown",
   "metadata": {},
   "source": [
    "> $\\rarr$ 리스트를 구성하라고 했기 때문에 두번째 방식을 사용해야 한다."
   ]
  },
  {
   "cell_type": "code",
   "execution_count": 13,
   "metadata": {},
   "outputs": [
    {
     "name": "stdout",
     "output_type": "stream",
     "text": [
      "[1200, 1200, 1800, 1500, 1000] <class 'list'>\n"
     ]
    }
   ],
   "source": [
    "# 096 딕셔너리 values() 메서드\n",
    "# 다음의 딕셔너리에서 values 값으로만 구성된 리스트를 생성하라.\n",
    "\n",
    "icecream = {'탱크보이': 1200, '폴라포': 1200, '빵빠레': 1800, '월드콘': 1500, '메로나': 1000}\n",
    "\n",
    "data = list(icecream.values())\n",
    "print(data, type(data))"
   ]
  },
  {
   "cell_type": "code",
   "execution_count": 15,
   "metadata": {},
   "outputs": [
    {
     "name": "stdout",
     "output_type": "stream",
     "text": [
      "6700\n"
     ]
    }
   ],
   "source": [
    "# 097 딕셔너리 values() 메서드\n",
    "# icecream 딕셔너리에서 아이스크림 판매 금액의 총합을 출력하라.\n",
    "\n",
    "icecream = {'탱크보이': 1200, '폴라포': 1200, '빵빠레': 1800, '월드콘': 1500, '메로나': 1000}\n",
    "\n",
    "s = sum(icecream.values())\n",
    "print(s)"
   ]
  },
  {
   "cell_type": "code",
   "execution_count": 20,
   "metadata": {},
   "outputs": [
    {
     "name": "stdout",
     "output_type": "stream",
     "text": [
      "{'탱크보이': 1200, '폴라포': 1200, '빵빠레': 1800, '월드콘': 1500, '메로나': 1000, '팥빙수': 2700, '아맛나': 1000}\n",
      "{'탱크보이': 1200, '폴라포': 1200, '빵빠레': 1800, '월드콘': 1500, '메로나': 1000, '팥빙수': 2700, '아맛나': 1000}\n"
     ]
    }
   ],
   "source": [
    "# 098 딕셔너리 update 메서드\n",
    "# 아래의 new_product 딕셔너리를 다음 icecream 딕셔너리에 추가하라.\n",
    "\n",
    "icecream = {'탱크보이': 1200, '폴라포': 1200, '빵빠레': 1800, '월드콘': 1500, '메로나': 1000}\n",
    "new_product = {'팥빙수':2700, '아맛나':1000}\n",
    "\n",
    "for np in new_product.keys():\n",
    "    icecream[np] = new_product[np] \n",
    "print(icecream)\n",
    "\n",
    "icecream = {'탱크보이': 1200, '폴라포': 1200, '빵빠레': 1800, '월드콘': 1500, '메로나': 1000}\n",
    "icecream.update(new_product)\n",
    "print(icecream)\n",
    "\n"
   ]
  },
  {
   "cell_type": "code",
   "execution_count": 26,
   "metadata": {},
   "outputs": [
    {
     "name": "stdout",
     "output_type": "stream",
     "text": [
      "{'apple': 300, 'pear': 250, 'peach': 400}\n"
     ]
    }
   ],
   "source": [
    "# 099 zip과 dict\n",
    "# 아래 두 개의 튜플을 하나의 딕셔너리로 변환하라. keys를 키로, vals를 값으로 result 이름의 딕셔너리로 \n",
    "# 저장한다.\n",
    "\n",
    "keys = (\"apple\", \"pear\", \"peach\")\n",
    "vals = (300, 250, 400)\n",
    "\n",
    "result = dict(zip(keys, vals))\n",
    "print(result)"
   ]
  },
  {
   "cell_type": "code",
   "execution_count": 28,
   "metadata": {},
   "outputs": [
    {
     "name": "stdout",
     "output_type": "stream",
     "text": [
      "{'09/05': 10500, '09/06': 10300, '09/07': 10100, '09/08': 10800, '09/09': 11000}\n"
     ]
    }
   ],
   "source": [
    "# 100 zip과 dict\n",
    "# date와 close_price 두 개의 리스트를 close_table 이름의 딕셔너리로 생성하라.\n",
    "\n",
    "date = ['09/05', '09/06', '09/07', '09/08', '09/09']\n",
    "close_price = [10500, 10300, 10100, 10800, 11000]\n",
    "\n",
    "close_table = dict(zip(date, close_price))\n",
    "print(close_table)"
   ]
  },
  {
   "attachments": {},
   "cell_type": "markdown",
   "metadata": {},
   "source": [
    "# 07. 파이썬 분기문\n",
    "* 파이썬은 if라는 키워드를 통해 분기문을 만들 수 있습니다."
   ]
  },
  {
   "attachments": {},
   "cell_type": "markdown",
   "metadata": {},
   "source": [
    "## 101 ~ 110 분기문 1/3"
   ]
  },
  {
   "cell_type": "code",
   "execution_count": 29,
   "metadata": {},
   "outputs": [
    {
     "name": "stdout",
     "output_type": "stream",
     "text": [
      "True\n"
     ]
    }
   ],
   "source": [
    "# 101\n",
    "# 파이썬에서 True 혹은 False를 갖는 데이터 타입은 무엇인가?\n",
    "\n",
    "bData = True\n",
    "print(bData)"
   ]
  },
  {
   "cell_type": "code",
   "execution_count": 30,
   "metadata": {},
   "outputs": [
    {
     "name": "stdout",
     "output_type": "stream",
     "text": [
      "False\n"
     ]
    }
   ],
   "source": [
    "# 102\n",
    "# 아래 코드의 출력 결과를 예상하라\n",
    "\n",
    "print(3 == 5)"
   ]
  },
  {
   "cell_type": "code",
   "execution_count": 31,
   "metadata": {},
   "outputs": [
    {
     "name": "stdout",
     "output_type": "stream",
     "text": [
      "True\n"
     ]
    }
   ],
   "source": [
    "# 103\n",
    "# 아래 코드의 출력 결과를 예상하라\n",
    "\n",
    "print(3 < 5)"
   ]
  },
  {
   "cell_type": "code",
   "execution_count": 32,
   "metadata": {},
   "outputs": [
    {
     "name": "stdout",
     "output_type": "stream",
     "text": [
      "True\n"
     ]
    }
   ],
   "source": [
    "# 104\n",
    "# 아래 코드의 결과를 예상하라.\n",
    "\n",
    "x = 4\n",
    "print(1 < x < 5)"
   ]
  },
  {
   "cell_type": "code",
   "execution_count": 33,
   "metadata": {},
   "outputs": [
    {
     "ename": "SyntaxError",
     "evalue": "expression cannot contain assignment, perhaps you meant \"==\"? (2954263545.py, line 4)",
     "output_type": "error",
     "traceback": [
      "\u001b[1;36m  Cell \u001b[1;32mIn[33], line 4\u001b[1;36m\u001b[0m\n\u001b[1;33m    print(3 => 4)\u001b[0m\n\u001b[1;37m          ^\u001b[0m\n\u001b[1;31mSyntaxError\u001b[0m\u001b[1;31m:\u001b[0m expression cannot contain assignment, perhaps you meant \"==\"?\n"
     ]
    }
   ],
   "source": [
    "# 106\n",
    "# 아래 코드에서 에러가 발생하는 원인에 대해 설명하라.\n",
    "\n",
    "print(3 => 4)"
   ]
  },
  {
   "attachments": {},
   "cell_type": "markdown",
   "metadata": {},
   "source": [
    "> 지원하지 않는 연산자!"
   ]
  },
  {
   "cell_type": "code",
   "execution_count": 34,
   "metadata": {},
   "outputs": [],
   "source": [
    "# 107\n",
    "# 아래 코드의 출력 결과를 예상하라\n",
    "\n",
    "if 4 < 3:\n",
    "    print(\"Hello World\")"
   ]
  },
  {
   "attachments": {},
   "cell_type": "markdown",
   "metadata": {},
   "source": [
    "> 아무런 출력값이 없음"
   ]
  },
  {
   "cell_type": "code",
   "execution_count": 35,
   "metadata": {},
   "outputs": [
    {
     "name": "stdout",
     "output_type": "stream",
     "text": [
      "Hi, there.\n"
     ]
    }
   ],
   "source": [
    "# 108\n",
    "# 아래 코드의 출력 결과를 예상하라\n",
    "\n",
    "if 4 < 3:\n",
    "    print(\"Hello World.\")\n",
    "else:\n",
    "    print(\"Hi, there.\")"
   ]
  },
  {
   "cell_type": "code",
   "execution_count": 36,
   "metadata": {},
   "outputs": [
    {
     "name": "stdout",
     "output_type": "stream",
     "text": [
      "1\n",
      "2\n",
      "4\n"
     ]
    }
   ],
   "source": [
    "# 109\n",
    "# 아래 코드의 출력 결과를 예상하라\n",
    "\n",
    "if True :\n",
    "    print (\"1\")\n",
    "    print (\"2\")\n",
    "else :\n",
    "    print(\"3\")\n",
    "print(\"4\")"
   ]
  },
  {
   "cell_type": "code",
   "execution_count": 37,
   "metadata": {},
   "outputs": [
    {
     "name": "stdout",
     "output_type": "stream",
     "text": [
      "3\n",
      "5\n"
     ]
    }
   ],
   "source": [
    "# 110\n",
    "# 아래 코드의 출력 결과를 예상하라\n",
    "\n",
    "if True :\n",
    "    if False:\n",
    "        print(\"1\")\n",
    "        print(\"2\")\n",
    "    else:\n",
    "        print(\"3\")\n",
    "else :\n",
    "    print(\"4\")\n",
    "print(\"5\")"
   ]
  },
  {
   "attachments": {},
   "cell_type": "markdown",
   "metadata": {},
   "source": [
    "## 111 ~ 120 분기문 (2/3)"
   ]
  },
  {
   "cell_type": "code",
   "execution_count": 40,
   "metadata": {},
   "outputs": [
    {
     "name": "stdout",
     "output_type": "stream",
     "text": [
      "안녕하세요안녕하세요\n"
     ]
    }
   ],
   "source": [
    "# 111\n",
    "# 사용자로부터 입력받은 문자열을 두 번 출력하라. 아래는 사용자가 \"안녕하세요\"를 입력한 경우의 출력 결과이다.\n",
    "\n",
    "s = input()\n",
    "print(s*2)"
   ]
  },
  {
   "cell_type": "code",
   "execution_count": 41,
   "metadata": {},
   "outputs": [
    {
     "name": "stdout",
     "output_type": "stream",
     "text": [
      "40\n"
     ]
    }
   ],
   "source": [
    "# 112\n",
    "# 사용자로부터 하나의 숫자를 입력받고, 입력 받은 숫자에 10을 더해 출력하라.\n",
    "num = int(input())\n",
    "print(num + 10)"
   ]
  },
  {
   "cell_type": "code",
   "execution_count": 42,
   "metadata": {},
   "outputs": [
    {
     "name": "stdout",
     "output_type": "stream",
     "text": [
      "짝수\n"
     ]
    }
   ],
   "source": [
    "# 113\n",
    "# 사용자로부터 하나의 숫자를 입력 받고 짝수/홀수를 판별하라.\n",
    "\n",
    "num = int(input())\n",
    "if num %2 == 0:\n",
    "    print('짝수')\n",
    "else:\n",
    "    print('홀수')"
   ]
  },
  {
   "cell_type": "code",
   "execution_count": 46,
   "metadata": {},
   "outputs": [
    {
     "name": "stdout",
     "output_type": "stream",
     "text": [
      "120\n"
     ]
    }
   ],
   "source": [
    "# 114\n",
    "# 사용자로부터 값을 입력받은 후 해당 값에 20을 더한 값을 출력하라. \n",
    "# 단 사용자가 입력한 값과 20을 더한 계산 값이 255를 초과하는 경우 255를 출력해야 한다.\n",
    "\n",
    "num = int(input()) + 20\n",
    "print( 255 if num > 255 else num)"
   ]
  },
  {
   "cell_type": "code",
   "execution_count": 49,
   "metadata": {},
   "outputs": [
    {
     "name": "stdout",
     "output_type": "stream",
     "text": [
      "30\n"
     ]
    }
   ],
   "source": [
    "# 115\n",
    "# 사용자로부터 하나의 값을 입력받은 후 해당 값에 20을 뺀 값을 출력하라. \n",
    "# 단 출력 값의 범위는 0~255이다. 예를 들어 결괏값이 0보다 작은 값이되는 경우 0을 출력하고 \n",
    "# 255보다 큰 값이 되는 경우 255를 출력해야 한다.\n",
    "\n",
    "num = int(input()) - 20\n",
    "print( 0 if (255 if num > 255 else num) < 0 else (255 if num > 255 else num) )"
   ]
  },
  {
   "cell_type": "code",
   "execution_count": 51,
   "metadata": {},
   "outputs": [
    {
     "name": "stdout",
     "output_type": "stream",
     "text": [
      "정각이 아닙니다.\n"
     ]
    }
   ],
   "source": [
    "# 116\n",
    "# 사용자로부터 입력 받은 시간이 정각인지 판별하라.\n",
    "m = input().split(':')[1]\n",
    "if(int(m) == 0):\n",
    "    print(\"정각입니다.\")\n",
    "else:\n",
    "    print(\"정각이 아닙니다.\")\n"
   ]
  },
  {
   "cell_type": "code",
   "execution_count": 53,
   "metadata": {},
   "outputs": [
    {
     "name": "stdout",
     "output_type": "stream",
     "text": [
      "오답입니다\n"
     ]
    }
   ],
   "source": [
    "# 117\n",
    "# 사용자로 입력받은 단어가 아래 fruit 리스트에 포함되어 있는지를 확인하라. \n",
    "# 포함되었다면 \"정답입니다\"를 아닐 경우 \"오답입니다\" 출력하라.\n",
    "\n",
    "fruit = [\"사과\", \"포도\", \"홍시\"]\n",
    "# >> 좋아하는 과일은? 사과\n",
    "# 정답입니다.\n",
    "\n",
    "f = input(\"좋아하는 과일은?\")\n",
    "if f in fruit:\n",
    "    print(\"정답입니다\")\n",
    "else:\n",
    "    print(\"오답입니다\")\n"
   ]
  },
  {
   "cell_type": "code",
   "execution_count": 56,
   "metadata": {},
   "outputs": [
    {
     "name": "stdout",
     "output_type": "stream",
     "text": [
      "투자 경고 종목이 아닙니다.\n"
     ]
    }
   ],
   "source": [
    "# 118\n",
    "# 투자 경고 종목 리스트가 있을 때 사용자로부터 종목명을 입력 받은 후 \n",
    "# 해당 종목이 투자 경고 종목이라면 '투자 경고 종목입니다'를 \n",
    "# 아니면 \"투자 경고 종목이 아닙니다.\"를 출력하는 프로그램을 작성하라.\n",
    "\n",
    "warn_investment_list = [\"Microsoft\", \"Google\", \"Naver\", \"Kakao\", \"SAMSUNG\", \"LG\"]\n",
    "\n",
    "f = input()\n",
    "if f in warn_investment_list:\n",
    "    print(\"투자 경고 종목입니다\")\n",
    "else:\n",
    "    print(\"투자 경고 종목이 아닙니다.\")"
   ]
  },
  {
   "cell_type": "code",
   "execution_count": 58,
   "metadata": {},
   "outputs": [
    {
     "name": "stdout",
     "output_type": "stream",
     "text": [
      "정답입니다\n"
     ]
    }
   ],
   "source": [
    "# 119\n",
    "# 아래와 같이 fruit 딕셔너리가 정의되어 있다. 사용자가 입력한 값이 딕셔너리 키 (key) 값에 포함되었다면 \n",
    "# \"정답입니다\"를 아닐 경우 \"오답입니다\" 출력하라.\n",
    "\n",
    "fruit = {\"봄\" : \"딸기\", \"여름\" : \"토마토\", \"가을\" : \"사과\"}\n",
    "# >> 제가좋아하는계절은: 봄\n",
    "# 정답입니다.\n",
    "\n",
    "f = input(\"좋아하는 과일은?\")\n",
    "if f in fruit.values():\n",
    "    print(\"정답입니다\")\n",
    "else:\n",
    "    print(\"오답입니다\")\n"
   ]
  },
  {
   "attachments": {},
   "cell_type": "markdown",
   "metadata": {},
   "source": [
    "## 121 ~ 130 분기문 (3/3)"
   ]
  },
  {
   "cell_type": "code",
   "execution_count": 1,
   "metadata": {},
   "outputs": [
    {
     "name": "stdout",
     "output_type": "stream",
     "text": [
      "C\n",
      "C\n"
     ]
    }
   ],
   "source": [
    "# 121\n",
    "# 사용자로부터 문자 한 개를 입력 받고, 소문자일 경우 대문자로, 대문자 일 경우, 소문자로 변경해서 출력하라.\n",
    "\n",
    "c = input()\n",
    "if ord(c) < ord('a'):\n",
    "    print(c.lower())\n",
    "else:\n",
    "    print(c.upper())\n",
    "\n",
    "print( c.upper() if c.islower() else c.lower())    "
   ]
  },
  {
   "cell_type": "code",
   "execution_count": 2,
   "metadata": {},
   "outputs": [
    {
     "name": "stdout",
     "output_type": "stream",
     "text": [
      "grade is D\n"
     ]
    }
   ],
   "source": [
    "# 122\n",
    "# 점수 구간에 해당하는 학점이 아래와 같이 정의되어 있다. \n",
    "# 사용자로부터 score를 입력받아 학점을 출력하라.\n",
    "\n",
    "# 점수\t학점\n",
    "# 81~100\tA\n",
    "# 61~80\tB\n",
    "# 41~60\tC\n",
    "# 21~40\tD\n",
    "# 0~20\tE\n",
    "\n",
    "s = int(input())\n",
    "if s >= 81:\n",
    "    g = 'A'\n",
    "elif s >= 61:\n",
    "    g = 'B'\n",
    "elif s >= 41:\n",
    "    g = 'C'\n",
    "elif s >= 21:\n",
    "    g = 'D'\n",
    "elif s >= 0:\n",
    "    g = 'E'\n",
    "print('grade is', g)"
   ]
  },
  {
   "cell_type": "code",
   "execution_count": 6,
   "metadata": {},
   "outputs": [
    {
     "name": "stdout",
     "output_type": "stream",
     "text": [
      "116700.0 원\n"
     ]
    }
   ],
   "source": [
    "# 123\n",
    "# 사용자로부터 달러, 엔, 유로, 또는 위안 금액을 입력받은 후 이를 원으로 변환하는 프로그램을 작성하라. \n",
    "# 각 통화별 환율은 다음과 같다. 사용자는 100 달러, 1000 엔, 13 유로, 100 위안과 같이 금액과 통화명 사이에 공백을 넣어 입력한다고 가정한다.\n",
    "\n",
    "# 통화명\t환율\n",
    "# 달러\t1167\n",
    "# 엔\t1.096\n",
    "# 유로\t1268\n",
    "# 위안\t171\n",
    "\n",
    "local_amt, local_curr = input().split()\n",
    "local_amt = float(local_amt)\n",
    "\n",
    "curr = {\"달러\":1167, \"엔\":1.096, \"유로\":1268, \"위안\":171}\n",
    "won = local_amt * curr[local_curr]\n",
    "print(won, \"원\")"
   ]
  },
  {
   "cell_type": "code",
   "execution_count": 7,
   "metadata": {},
   "outputs": [
    {
     "name": "stdout",
     "output_type": "stream",
     "text": [
      "50\n"
     ]
    }
   ],
   "source": [
    "# 124\n",
    "# 사용자로부터 세 개의 숫자를 입력 받은 후 가장 큰 숫자를 출력하라.\n",
    "\n",
    "m = int(input(\"input number1:\"))\n",
    "n = int(input(\"input number2:\"))\n",
    "if m < n:\n",
    "    m = n\n",
    "n = int(input(\"input number3:\"))\n",
    "if m < n:\n",
    "    m = n\n",
    "\n",
    "print(m)"
   ]
  },
  {
   "cell_type": "code",
   "execution_count": 8,
   "metadata": {},
   "outputs": [
    {
     "name": "stdout",
     "output_type": "stream",
     "text": [
      "SKT\n"
     ]
    }
   ],
   "source": [
    "# 125\n",
    "# 휴대폰 번호 앞자리에 따라 통신사는 아래와 같이 구분된다. 사용자로부터 휴대전화 번호를 입력 받고, 통신사를 출력하는 프로그램을 작성하라.\n",
    "\n",
    "# 번호\t통신사\n",
    "# 011\tSKT\n",
    "# 016\tKT\n",
    "# 019\tLGU\n",
    "# 010\t알수없음\n",
    "\n",
    "telno = input()\n",
    "comp = {\"011\":\"SKT\", \"016\":\"KT\", \"019\":\"LGU\", \"010\":\"알수없음\"}\n",
    "print(comp[telno[:3]])\n"
   ]
  },
  {
   "cell_type": "code",
   "execution_count": 9,
   "metadata": {},
   "outputs": [
    {
     "name": "stdout",
     "output_type": "stream",
     "text": [
      "도봉구\n"
     ]
    }
   ],
   "source": [
    "# 우편번호는 5자리로 구성되는데, 앞의 세자리는 구를 나타낸다. 예를들어, 강북구의 경우 010, 011, 012 세 자리로 시작한다.\n",
    "\n",
    "# -\t0\t1\t2\t3\t4\t5\t6\t7\t8\t9\n",
    "# 01\t강북구\t강북구\t강북구\t도봉구\t도봉구\t도봉구\t노원구\t노원구\t노원구\t노원구\n",
    "# 사용자로 부터 5자리 우편번호를 입력받고 구를 판별하라\n",
    "\n",
    "우편번호=input(\"우편번호: \")\n",
    "if 우편번호[2:3] < '3':\n",
    "    print(\"강북구\")\n",
    "elif 우편번호[2:3] < '6':\n",
    "    print(\"도봉구\")\n",
    "else:\n",
    "    print(\"노원구\")    "
   ]
  },
  {
   "cell_type": "code",
   "execution_count": 10,
   "metadata": {},
   "outputs": [
    {
     "name": "stdout",
     "output_type": "stream",
     "text": [
      "남자\n"
     ]
    }
   ],
   "source": [
    "# 127\n",
    "# 주민등록번호 뒷 자리 7자리 중 첫째 자리는 성별을 나타내는데, 1, 3은 남자 2, 4는 여자를 의미한다. \n",
    "# 사용자로부터 13자리의 주민등록번호를 입력 받은 후 성별 (남자, 여자)를 출력하는 프로그램을 작성하라.\n",
    "\n",
    "구분자 = input().split('-')[1][0]\n",
    "if int(구분자)%2 == 1:\n",
    "    print(\"남자\")\n",
    "else:\n",
    "    print(\"여자\")"
   ]
  },
  {
   "cell_type": "code",
   "execution_count": 12,
   "metadata": {},
   "outputs": [
    {
     "name": "stdout",
     "output_type": "stream",
     "text": [
      "서울이 아닙니다\n"
     ]
    }
   ],
   "source": [
    "# 128\n",
    "# 주민등록번호의 뒷 자리 7자리 중 두번째와 세번째는 지역코드를 의미한다. \n",
    "# 주민 등록 번호를 입력 받은 후 출생지가 서울인지 아닌지 판단하는 코드를 작성하라\n",
    "\n",
    "# 지역코드\t출생지\n",
    "# 00 ~ 08\t서울\n",
    "# 09 ~ 12\t부산\n",
    "\n",
    "구분자 = input().split('-')[1][1:3]\n",
    "if int(구분자) < 9:\n",
    "    print(\"서울입니다\")\n",
    "else:\n",
    "    print(\"서울이 아닙니다\")\n"
   ]
  },
  {
   "cell_type": "code",
   "execution_count": 14,
   "metadata": {},
   "outputs": [
    {
     "name": "stdout",
     "output_type": "stream",
     "text": [
      "유효하지 않은 주민등록번호입니다.\n"
     ]
    }
   ],
   "source": [
    "# 주민등록번호는 13자리로 구성되는데 마지막 자리수는 주민등록번호의 유효성을 체크하는데 사용된다. \n",
    "# 먼저 앞에서부터 12자리의 숫자에 2, 3, 4, 5, 6, 7, 8, 9, 2, 3, 4, 5를 차례로 곱한 뒤 그 값을 전부 더한다. \n",
    "# 연산 결과 값을 11로 나누면 나머지가 나오는데 11에서 나머지를 뺀 값이 주민등록번호의 마지막 번호가 된다.\n",
    "\n",
    "num = input(\"주민등록번호: \")\n",
    "계산1 = int(num[0]) * 2 + int(num[1]) * 3 + int(num[2]) * 4 + int(num[3]) * 5 + int(num[4]) * 6 + \\\n",
    "        int(num[5]) * 7 + int(num[7]) * 8 + int(num[8]) * 9 + int(num[9]) * 2 + int(num[10])* 3 + \\\n",
    "        int(num[11])* 4 + int(num[12]) * 5\n",
    "계산2 = 11 - (계산1 % 11)\n",
    "계산3 = str(계산2)\n",
    "\n",
    "if num[-1] == 계산3[-1]:\n",
    "    print(\"유효한 주민등록번호입니다.\")\n",
    "else:\n",
    "    print(\"유효하지 않은 주민등록번호입니다.\")\n",
    "\n",
    "# 입력값: 821010-1635210"
   ]
  },
  {
   "attachments": {},
   "cell_type": "markdown",
   "metadata": {},
   "source": [
    "* 수식이 줄을 넘어가는 경우 끝에 역슬래시(\\) "
   ]
  },
  {
   "cell_type": "code",
   "execution_count": 20,
   "metadata": {},
   "outputs": [
    {
     "name": "stdout",
     "output_type": "stream",
     "text": [
      "{'opening_price': '34079000', 'closing_price': '34243000', 'min_price': '33800000', 'max_price': '34652000', 'units_traded': '411.12205519', 'acc_trade_value': '14048942160.5142', 'prev_closing_price': '34061000', 'units_traded_24H': '1687.31764575', 'acc_trade_value_24H': '57645718041.334', 'fluctate_24H': '-499000', 'fluctate_rate_24H': '-1.44', 'date': '1686448273299'}\n",
      "상승장\n"
     ]
    }
   ],
   "source": [
    "# 아래 코드는 비트코인의 가격 정보를 딕셔너리로 가져오는 코드이다.\n",
    "# btc 딕셔너리 안에는 시가, 종가, 최고가, 최저가 등이 저장되어 있다. \n",
    "# 최고가와 최저가의 차이를 변동폭으로 정의할 때 (시가 + 변동폭)이 최고가 보다 높을 경우 \"상승장\", \n",
    "# 그렇지 않은 경우 \"하락장\" 문자열을 출력하라.\n",
    "import requests\n",
    "btc = requests.get(\"https://api.bithumb.com/public/ticker/\").json()['data']\n",
    "print(btc)\n",
    "\n",
    "시가 = float(btc['opening_price'])\n",
    "최고가 = float(btc['max_price'])\n",
    "최저가 = float(btc['min_price'])\n",
    "변동폭 =  최고가 - 최저가\n",
    "if 시가 + 변동폭 > 최고가:\n",
    "    print('상승장')\n",
    "else:\n",
    "    print('하락장')"
   ]
  },
  {
   "attachments": {},
   "cell_type": "markdown",
   "metadata": {},
   "source": [
    "# 08. 파이썬 반복문\n",
    "> 파이썬 for 문은 횟수가 정해져 있거나 상대적으로 횟수가 적은 경우에 대한 반복에 주로 사용됩니다. 파이썬 while문은 횟수가 상대적으로 크거나 무한 루프 형태의 반복문에 사용됩니다."
   ]
  },
  {
   "attachments": {},
   "cell_type": "markdown",
   "metadata": {},
   "source": [
    "## 131 ~ 140 반복문 (1/7)"
   ]
  },
  {
   "cell_type": "code",
   "execution_count": 22,
   "metadata": {},
   "outputs": [
    {
     "name": "stdout",
     "output_type": "stream",
     "text": [
      "사과\n",
      "귤\n",
      "수박\n"
     ]
    }
   ],
   "source": [
    "# 131\n",
    "# for문의 실행결과를 예측하라.\n",
    "\n",
    "과일 = [\"사과\", \"귤\", \"수박\"]\n",
    "for 변수 in 과일:\n",
    "    print(변수)"
   ]
  },
  {
   "cell_type": "code",
   "execution_count": 23,
   "metadata": {},
   "outputs": [
    {
     "name": "stdout",
     "output_type": "stream",
     "text": [
      "#####\n",
      "#####\n",
      "#####\n"
     ]
    }
   ],
   "source": [
    "# 132\n",
    "# for문의 실행결과를 예측하라.\n",
    "\n",
    "과일 = [\"사과\", \"귤\", \"수박\"]\n",
    "for 변수 in 과일:\n",
    "  print(\"#####\")\n"
   ]
  },
  {
   "cell_type": "code",
   "execution_count": 24,
   "metadata": {},
   "outputs": [
    {
     "name": "stdout",
     "output_type": "stream",
     "text": [
      "A\n",
      "B\n",
      "C\n",
      "A\n",
      "B\n",
      "C\n"
     ]
    }
   ],
   "source": [
    "# 133\n",
    "# 다음 for 문과 동일한 기능을 수행하는 코드를 작성하세요.\n",
    "\n",
    "for 변수 in [\"A\", \"B\", \"C\"]:\n",
    "  print(변수)\n",
    "\n",
    "arr = [\"A\", \"B\", \"C\"]\n",
    "for 변수 in arr:\n",
    "  print(변수)\n"
   ]
  },
  {
   "cell_type": "code",
   "execution_count": 26,
   "metadata": {},
   "outputs": [
    {
     "name": "stdout",
     "output_type": "stream",
     "text": [
      "출력: A\n",
      "출력: B\n",
      "출력: C\n",
      "출력: A\n",
      "출력: B\n",
      "출력: C\n"
     ]
    }
   ],
   "source": [
    "\n",
    "# 134\n",
    "# for문을 풀어서 동일한 동작을하는 코드를 작성하라.\n",
    "\n",
    "for 변수 in [\"A\", \"B\", \"C\"]:\n",
    "  print(\"출력:\", 변수)\n",
    "\n",
    "print(\"출력:\", \"A\")\n",
    "print(\"출력:\", \"B\")\n",
    "print(\"출력:\", \"C\")\n",
    "\n"
   ]
  },
  {
   "cell_type": "code",
   "execution_count": 29,
   "metadata": {},
   "outputs": [
    {
     "name": "stdout",
     "output_type": "stream",
     "text": [
      "변환: a\n",
      "변환: b\n",
      "변환: c\n",
      "변환: a\n",
      "변환: b\n",
      "변환: c\n"
     ]
    }
   ],
   "source": [
    "\n",
    "# 135\n",
    "# for문을 풀어서 동일한 동작을 하는 코드를 작성하라.\n",
    "\n",
    "for 변수 in [\"A\", \"B\", \"C\"]:\n",
    "  b = 변수.lower()\n",
    "  print(\"변환:\", b)\n",
    "\n",
    "print(\"변환:\", 'a')\n",
    "print(\"변환:\", 'b')\n",
    "print(\"변환:\", 'c')"
   ]
  },
  {
   "cell_type": "code",
   "execution_count": 30,
   "metadata": {},
   "outputs": [
    {
     "name": "stdout",
     "output_type": "stream",
     "text": [
      "10\n",
      "20\n",
      "30\n",
      "10\n",
      "20\n",
      "30\n"
     ]
    }
   ],
   "source": [
    "# 136\n",
    "# 다음 코드를 for문으로 작성하라.\n",
    "\n",
    "변수 = 10\n",
    "print(변수)\n",
    "변수 = 20\n",
    "print(변수)\n",
    "변수 = 30\n",
    "print(변수)\n",
    "\n",
    "for 변수 in [10,20,30]:\n",
    "    print(변수)\n"
   ]
  },
  {
   "cell_type": "code",
   "execution_count": 31,
   "metadata": {},
   "outputs": [
    {
     "name": "stdout",
     "output_type": "stream",
     "text": [
      "10\n",
      "20\n",
      "30\n",
      "10\n",
      "20\n",
      "30\n"
     ]
    }
   ],
   "source": [
    "\n",
    "# 137\n",
    "# 다음 코드를 for문으로 작성하라.\n",
    "\n",
    "print(10)\n",
    "print(20)\n",
    "print(30)\n",
    "\n",
    "for 변수 in [10,20,30]:\n",
    "    print(변수)\n",
    "    \n"
   ]
  },
  {
   "cell_type": "code",
   "execution_count": 32,
   "metadata": {},
   "outputs": [
    {
     "name": "stdout",
     "output_type": "stream",
     "text": [
      "10\n",
      "-------\n",
      "20\n",
      "-------\n",
      "30\n",
      "-------\n",
      "10\n",
      "-------\n",
      "20\n",
      "-------\n",
      "30\n",
      "-------\n"
     ]
    }
   ],
   "source": [
    "\n",
    "# 138\n",
    "# 다음 코드를 for문으로 작성하라.\n",
    "\n",
    "print(10)\n",
    "print(\"-------\")\n",
    "print(20)\n",
    "print(\"-------\")\n",
    "print(30)\n",
    "print(\"-------\")\n",
    "\n",
    "for 변수 in [10,20,30]:\n",
    "    print(변수)\n",
    "    print(\"-------\")\n"
   ]
  },
  {
   "cell_type": "code",
   "execution_count": 34,
   "metadata": {},
   "outputs": [
    {
     "name": "stdout",
     "output_type": "stream",
     "text": [
      "++++\n",
      "10\n",
      "20\n",
      "30\n",
      "++++\n",
      "10\n",
      "20\n",
      "30\n"
     ]
    }
   ],
   "source": [
    "# 139\n",
    "# 다음 코드를 for문으로 작성하라.\n",
    "\n",
    "print(\"++++\")\n",
    "print(10)\n",
    "print(20)\n",
    "print(30)\n",
    "\n",
    "print(\"++++\")\n",
    "for 변수 in [10,20,30]:\n",
    "    print(변수)\n"
   ]
  },
  {
   "cell_type": "code",
   "execution_count": 35,
   "metadata": {},
   "outputs": [
    {
     "name": "stdout",
     "output_type": "stream",
     "text": [
      "-------\n",
      "-------\n",
      "-------\n",
      "-------\n",
      "-------\n",
      "-------\n",
      "-------\n",
      "-------\n"
     ]
    }
   ],
   "source": [
    "\n",
    "# 140\n",
    "# 다음 코드를 for문으로 작성하라.\n",
    "\n",
    "print(\"-------\")\n",
    "print(\"-------\")\n",
    "print(\"-------\")\n",
    "print(\"-------\")\n",
    "\n",
    "for _ in range(4):\n",
    "    print(\"-------\")\n"
   ]
  },
  {
   "attachments": {},
   "cell_type": "markdown",
   "metadata": {},
   "source": [
    "## 141 ~ 150 반복문 (2/7)"
   ]
  },
  {
   "cell_type": "code",
   "execution_count": 37,
   "metadata": {},
   "outputs": [
    {
     "name": "stdout",
     "output_type": "stream",
     "text": [
      "110\n",
      "220\n",
      "330\n"
     ]
    }
   ],
   "source": [
    "# 141\n",
    "# 다음과 같이 판매가가 저장된 리스트가 있을 때 부가세가 포함된 가격을 for 문을 사용해서 화면에 출력하라. \n",
    "# 단 부가세는 10원으로 가정한다.\n",
    "\n",
    "리스트 = [100, 200, 300]\n",
    "\n",
    "for 가격 in 리스트:\n",
    "    print(round(가격*1.1))\n"
   ]
  },
  {
   "cell_type": "code",
   "execution_count": 38,
   "metadata": {},
   "outputs": [
    {
     "name": "stdout",
     "output_type": "stream",
     "text": [
      "오늘의 메뉴: 김밥\n",
      "오늘의 메뉴: 라면\n",
      "오늘의 메뉴: 튀김\n"
     ]
    }
   ],
   "source": [
    "\n",
    "\n",
    "# 142\n",
    "# for 문을 사용해서 리스트에 저장된 값을 다음과 같이 출력하라.\n",
    "\n",
    "리스트 = [\"김밥\", \"라면\", \"튀김\"]\n",
    "# 오늘의 메뉴: 김밥\n",
    "# 오늘의 메뉴: 라면\n",
    "# 오늘의 메뉴: 튀김\n",
    "for 메뉴 in 리스트:\n",
    "    print(\"오늘의 메뉴:\", 메뉴)\n"
   ]
  },
  {
   "cell_type": "code",
   "execution_count": 39,
   "metadata": {},
   "outputs": [
    {
     "name": "stdout",
     "output_type": "stream",
     "text": [
      "6\n",
      "4\n",
      "4\n"
     ]
    }
   ],
   "source": [
    "# 143\n",
    "# 리스트에 주식 종목이름이 저장돼 있다.\n",
    "\n",
    "리스트 = [\"SK하이닉스\", \"삼성전자\", \"LG전자\"]\n",
    "# 저장된 문자열의 길이를 다음과 같이 출력하라.\n",
    "\n",
    "# 6\n",
    "# 4\n",
    "# 4\n",
    "\n",
    "for 종목 in 리스트:\n",
    "    print(len(종목))\n"
   ]
  },
  {
   "cell_type": "code",
   "execution_count": 40,
   "metadata": {},
   "outputs": [
    {
     "name": "stdout",
     "output_type": "stream",
     "text": [
      "dog 3\n",
      "cat 3\n",
      "parrot 6\n"
     ]
    }
   ],
   "source": [
    "\n",
    "# 144\n",
    "# 리스트에는 동물이름이 문자열로 저장돼 있다.\n",
    "\n",
    "리스트 = ['dog', 'cat', 'parrot']\n",
    "# 동물 이름과 글자수를 다음과 같이 출력하라.\n",
    "\n",
    "# dog 3\n",
    "# cat 3\n",
    "# parrot 6\n",
    "for 동물 in 리스트:\n",
    "    print(동물, len(동물))\n"
   ]
  },
  {
   "cell_type": "code",
   "execution_count": 41,
   "metadata": {},
   "outputs": [
    {
     "name": "stdout",
     "output_type": "stream",
     "text": [
      "d\n",
      "c\n",
      "p\n"
     ]
    }
   ],
   "source": [
    "# 145\n",
    "# 리스트에 동물 이름 저장돼 있다.\n",
    "\n",
    "리스트 = ['dog', 'cat', 'parrot']\n",
    "# for문을 사용해서 동물 이름의 첫 글자만 출력하라.\n",
    "\n",
    "# d\n",
    "# c\n",
    "# p\n",
    "for 동물 in 리스트:\n",
    "    print(동물[0])\n"
   ]
  },
  {
   "cell_type": "code",
   "execution_count": 47,
   "metadata": {},
   "outputs": [
    {
     "name": "stdout",
     "output_type": "stream",
     "text": [
      "3 x 1\n",
      "3 x 1\n",
      "3 x 2\n",
      "3 x 2\n",
      "3 x 3\n",
      "3 x 3\n"
     ]
    }
   ],
   "source": [
    "# 146\n",
    "# 리스트에는 세 개의 숫자가 바인딩돼 있다.\n",
    "\n",
    "리스트 = [1, 2, 3]\n",
    "# for문을 사용해서 다음과 같이 출력하라.\n",
    "\n",
    "# 3 x 1\n",
    "# 3 x 2\n",
    "# 3 x 3\n",
    "for num in 리스트:\n",
    "    print(\"3 x\", num)\n",
    "    print(\" x \".join(['3',str(num)]))\n"
   ]
  },
  {
   "cell_type": "code",
   "execution_count": 48,
   "metadata": {},
   "outputs": [
    {
     "name": "stdout",
     "output_type": "stream",
     "text": [
      "3 x 1 = 3\n",
      "3 x 2 = 6\n",
      "3 x 3 = 9\n"
     ]
    }
   ],
   "source": [
    "# 147\n",
    "# 리스트에는 세 개의 숫자가 바인딩돼 있다.\n",
    "\n",
    "리스트 = [1, 2, 3]\n",
    "# for문을 사용해서 다음과 같이 출력하라.\n",
    "\n",
    "# 3 x 1 = 3\n",
    "# 3 x 2 = 6\n",
    "# 3 x 3 = 9\n",
    "for num in 리스트:\n",
    "    print(f\"3 x {num} = {3*num}\")\n"
   ]
  },
  {
   "cell_type": "code",
   "execution_count": 49,
   "metadata": {},
   "outputs": [
    {
     "name": "stdout",
     "output_type": "stream",
     "text": [
      "나\n",
      "다\n",
      "라\n"
     ]
    }
   ],
   "source": [
    "# 148\n",
    "# 리스트에는 네 개의 문자열이 바인딩돼 있다.\n",
    "\n",
    "리스트 = [\"가\", \"나\", \"다\", \"라\"]\n",
    "# for문을 사용해서 다음과 같이 출력하라.\n",
    "\n",
    "# 나\n",
    "# 다\n",
    "# 라\n",
    "for word in 리스트[1:]:\n",
    "    print(word)\n"
   ]
  },
  {
   "cell_type": "code",
   "execution_count": 50,
   "metadata": {},
   "outputs": [
    {
     "name": "stdout",
     "output_type": "stream",
     "text": [
      "가\n",
      "다\n"
     ]
    }
   ],
   "source": [
    "# 149\n",
    "# 리스트에는 네 개의 문자열이 바인딩돼 있다.\n",
    "\n",
    "리스트 = [\"가\", \"나\", \"다\", \"라\"]\n",
    "# for문을 사용해서 다음과 같이 출력하라.\n",
    "\n",
    "# 가\n",
    "# 다\n",
    "\n",
    "for word in 리스트[::2]:\n",
    "    print(word)\n"
   ]
  },
  {
   "cell_type": "code",
   "execution_count": 51,
   "metadata": {},
   "outputs": [
    {
     "name": "stdout",
     "output_type": "stream",
     "text": [
      "라\n",
      "다\n",
      "나\n",
      "가\n"
     ]
    }
   ],
   "source": [
    "# 150\n",
    "# 리스트에는 네 개의 문자열이 바인딩돼 있다.\n",
    "\n",
    "리스트 = [\"가\", \"나\", \"다\", \"라\"]\n",
    "# for문을 사용해서 다음과 같이 출력하라.\n",
    "\n",
    "# 라\n",
    "# 다\n",
    "# 나\n",
    "# 가\n",
    "\n",
    "for word in 리스트[::-1]:\n",
    "    print(word)"
   ]
  },
  {
   "attachments": {},
   "cell_type": "markdown",
   "metadata": {},
   "source": [
    "## 151 ~ 160 반복문 (3/7)"
   ]
  },
  {
   "cell_type": "code",
   "execution_count": 52,
   "metadata": {},
   "outputs": [
    {
     "name": "stdout",
     "output_type": "stream",
     "text": [
      "-20\n",
      "-3\n"
     ]
    }
   ],
   "source": [
    "# 151\n",
    "# 리스트에는 네 개의 정수가 저장돼 있다.\n",
    "\n",
    "리스트 = [3, -20, -3, 44]\n",
    "# for문을 사용해서 리스트의 음수를 출력하라.\n",
    "\n",
    "# -20\n",
    "# -3\n",
    "for num in 리스트:\n",
    "    if num < 0:\n",
    "        print(num)\n"
   ]
  },
  {
   "cell_type": "code",
   "execution_count": 53,
   "metadata": {},
   "outputs": [
    {
     "name": "stdout",
     "output_type": "stream",
     "text": [
      "3\n"
     ]
    }
   ],
   "source": [
    "# 152\n",
    "# for문을 사용해서 3의 배수만을 출력하라.\n",
    "\n",
    "리스트 = [3, 100, 23, 44]\n",
    "# 3\n",
    "for num in 리스트:\n",
    "    if num %3 == 0:\n",
    "        print(num)\n"
   ]
  },
  {
   "cell_type": "code",
   "execution_count": 54,
   "metadata": {},
   "outputs": [
    {
     "name": "stdout",
     "output_type": "stream",
     "text": [
      "12\n",
      "18\n"
     ]
    }
   ],
   "source": [
    "# 153\n",
    "# 리스트에서 20 보다 작은 3의 배수를 출력하라\n",
    "\n",
    "리스트 = [13, 21, 12, 14, 30, 18]\n",
    "# 12\n",
    "# 18\n",
    "\n",
    "for num in 리스트:\n",
    "    if num < 20 and num % 3 == 0:\n",
    "        print(num)\n"
   ]
  },
  {
   "cell_type": "code",
   "execution_count": 55,
   "metadata": {},
   "outputs": [
    {
     "name": "stdout",
     "output_type": "stream",
     "text": [
      "study\n",
      "python\n",
      "language\n"
     ]
    }
   ],
   "source": [
    "# 154\n",
    "# 리스트에서 세 글자 이상의 문자를 화면에 출력하라\n",
    "\n",
    "리스트 = [\"I\", \"study\", \"python\", \"language\", \"!\"]\n",
    "# study\n",
    "# python\n",
    "# language\n",
    "\n",
    "for word in 리스트:\n",
    "    if len(word) >= 3:\n",
    "        print(word)\n"
   ]
  },
  {
   "cell_type": "code",
   "execution_count": 57,
   "metadata": {},
   "outputs": [
    {
     "name": "stdout",
     "output_type": "stream",
     "text": [
      "A\n",
      "D\n"
     ]
    }
   ],
   "source": [
    "# 155\n",
    "# 리스트에서 대문자만 화면에 출력하라.\n",
    "\n",
    "리스트 = [\"A\", \"b\", \"c\", \"D\"]\n",
    "# A\n",
    "# D\n",
    "# (참고) isupper() 메서드는 대문자 여부를 판별합니다.\n",
    "\n",
    "# >> 변수 = \"A\"\n",
    "# >> 변수.isupper()\n",
    "# True\n",
    "# >> 변수 = \"a\"\n",
    "# >> 변수.isupper()\n",
    "# False\n",
    "\n",
    "for word in 리스트:\n",
    "    if word.isupper():\n",
    "        print(word)"
   ]
  },
  {
   "cell_type": "code",
   "execution_count": 58,
   "metadata": {},
   "outputs": [
    {
     "name": "stdout",
     "output_type": "stream",
     "text": [
      "b\n",
      "c\n"
     ]
    }
   ],
   "source": [
    "# 156\n",
    "# 리스트에서 소문자만 화면에 출력하라.\n",
    "\n",
    "리스트 = [\"A\", \"b\", \"c\", \"D\"]\n",
    "# b\n",
    "# c\n",
    "\n",
    "for word in 리스트:\n",
    "    if word.islower():\n",
    "        print(word)\n"
   ]
  },
  {
   "cell_type": "code",
   "execution_count": 59,
   "metadata": {},
   "outputs": [
    {
     "name": "stdout",
     "output_type": "stream",
     "text": [
      "Dog\n",
      "Cat\n",
      "Parrot\n"
     ]
    }
   ],
   "source": [
    "# 157\n",
    "# 이름의 첫 글자를 대문자로 변경해서 출력하라.\n",
    "\n",
    "리스트 = ['dog', 'cat', 'parrot']\n",
    "# Dog\n",
    "# Cat\n",
    "# Parrot\n",
    "# (참고) upper() 메서드는 문자열을 대문자로 변경합니다.\n",
    "\n",
    "# >> 변수 = \"a\"\n",
    "# >> a.upper()\n",
    "# A\n",
    "# >> 변수 = \"abc\"\n",
    "# >> 변수.upper()\n",
    "# ABC\n",
    "\n",
    "for word in 리스트:\n",
    "    print(word.capitalize())\n"
   ]
  },
  {
   "cell_type": "code",
   "execution_count": 60,
   "metadata": {},
   "outputs": [
    {
     "name": "stdout",
     "output_type": "stream",
     "text": [
      "hello\n",
      "ex01\n",
      "intro\n"
     ]
    }
   ],
   "source": [
    "# 158\n",
    "# 파일 이름이 저장된 리스트에서 확장자를 제거하고 파일 이름만 화면에 출력하라. (힌트: split() 메서드)\n",
    "\n",
    "리스트 = ['hello.py', 'ex01.py', 'intro.hwp']\n",
    "# hello\n",
    "# ex01\n",
    "# intro\n",
    "for word in 리스트:\n",
    "    print(word.split('.')[0])\n"
   ]
  },
  {
   "cell_type": "code",
   "execution_count": 64,
   "metadata": {},
   "outputs": [
    {
     "name": "stdout",
     "output_type": "stream",
     "text": [
      "intra.h\n",
      "define.h\n"
     ]
    }
   ],
   "source": [
    "# 159\n",
    "# 파일 이름이 저장된 리스트에서 확장자가 .h인 파일 이름을 출력하라.\n",
    "\n",
    "리스트 = ['intra.h', 'intra.c', 'define.h', 'run.py']\n",
    "# intra.h\n",
    "# define.h\n",
    "for file in 리스트:\n",
    "    if file.split(\".\")[1] in ['h']:\n",
    "        print(file)\n"
   ]
  },
  {
   "cell_type": "code",
   "execution_count": 63,
   "metadata": {},
   "outputs": [
    {
     "name": "stdout",
     "output_type": "stream",
     "text": [
      "intra.h\n",
      "intra.c\n",
      "define.h\n"
     ]
    }
   ],
   "source": [
    "# 160\n",
    "# 파일 이름이 저장된 리스트에서 확장자가 .h나 .c인 파일을 화면에 출력하라.\n",
    "\n",
    "리스트 = ['intra.h', 'intra.c', 'define.h', 'run.py']\n",
    "# intra.h\n",
    "# intra.c\n",
    "# define.h\n",
    "for file in 리스트:\n",
    "    if file.split(\".\")[1] in ['c','h']:\n",
    "        print(file)"
   ]
  },
  {
   "attachments": {},
   "cell_type": "markdown",
   "metadata": {},
   "source": [
    "## 161 ~ 170 반복문 (4/7)"
   ]
  },
  {
   "cell_type": "code",
   "execution_count": 65,
   "metadata": {},
   "outputs": [
    {
     "name": "stdout",
     "output_type": "stream",
     "text": [
      "0\n",
      "1\n",
      "2\n",
      "3\n",
      "4\n",
      "5\n",
      "6\n",
      "7\n",
      "8\n",
      "9\n",
      "10\n",
      "11\n",
      "12\n",
      "13\n",
      "14\n",
      "15\n",
      "16\n",
      "17\n",
      "18\n",
      "19\n",
      "20\n",
      "21\n",
      "22\n",
      "23\n",
      "24\n",
      "25\n",
      "26\n",
      "27\n",
      "28\n",
      "29\n",
      "30\n",
      "31\n",
      "32\n",
      "33\n",
      "34\n",
      "35\n",
      "36\n",
      "37\n",
      "38\n",
      "39\n",
      "40\n",
      "41\n",
      "42\n",
      "43\n",
      "44\n",
      "45\n",
      "46\n",
      "47\n",
      "48\n",
      "49\n",
      "50\n",
      "51\n",
      "52\n",
      "53\n",
      "54\n",
      "55\n",
      "56\n",
      "57\n",
      "58\n",
      "59\n",
      "60\n",
      "61\n",
      "62\n",
      "63\n",
      "64\n",
      "65\n",
      "66\n",
      "67\n",
      "68\n",
      "69\n",
      "70\n",
      "71\n",
      "72\n",
      "73\n",
      "74\n",
      "75\n",
      "76\n",
      "77\n",
      "78\n",
      "79\n",
      "80\n",
      "81\n",
      "82\n",
      "83\n",
      "84\n",
      "85\n",
      "86\n",
      "87\n",
      "88\n",
      "89\n",
      "90\n",
      "91\n",
      "92\n",
      "93\n",
      "94\n",
      "95\n",
      "96\n",
      "97\n",
      "98\n",
      "99\n"
     ]
    }
   ],
   "source": [
    "# 161\n",
    "# for문과 range 구문을 사용해서 0~99까지 한 라인에 하나씩 순차적으로 출력하는 프로그램을 작성하라.\n",
    "for i in range(100):\n",
    "    print(i)\n"
   ]
  },
  {
   "cell_type": "code",
   "execution_count": 66,
   "metadata": {},
   "outputs": [
    {
     "name": "stdout",
     "output_type": "stream",
     "text": [
      "2002\n",
      "2006\n",
      "2010\n",
      "2014\n",
      "2018\n",
      "2022\n",
      "2026\n",
      "2030\n",
      "2034\n",
      "2038\n",
      "2042\n",
      "2046\n",
      "2050\n"
     ]
    }
   ],
   "source": [
    "# 162\n",
    "# 월드컵은 4년에 한 번 개최된다. range()를 사용하여 2002~2050년까지 중 월드컵이 개최되는 연도를 출력하라.\n",
    "\n",
    "# 2002\n",
    "# 2006\n",
    "# 2010\n",
    "# ...\n",
    "# 2042\n",
    "# 2046\n",
    "# 2050\n",
    "# 참고) range의 세번 째 파라미터는 증감폭을 결정합니다.\n",
    "\n",
    "# >> print(list(range(0, 10, 2)))\n",
    "# [0, 2, 4, 6, 8]\n",
    "\n",
    "for y in range(2002, 2051, 4):\n",
    "    print(y)\n"
   ]
  },
  {
   "cell_type": "code",
   "execution_count": 67,
   "metadata": {},
   "outputs": [
    {
     "name": "stdout",
     "output_type": "stream",
     "text": [
      "3\n",
      "6\n",
      "9\n",
      "12\n",
      "15\n",
      "18\n",
      "21\n",
      "24\n",
      "27\n",
      "30\n"
     ]
    }
   ],
   "source": [
    "# 163\n",
    "# 1부터 30까지의 숫자 중 3의 배수를 출력하라.\n",
    "\n",
    "# 3 \n",
    "# 6 \n",
    "# 9 \n",
    "# 12 \n",
    "# 15 \n",
    "# 18 \n",
    "# 21 \n",
    "# 24 \n",
    "# 27 \n",
    "# 30\n",
    "\n",
    "for i in range(1,31):\n",
    "    if i%3 == 0:\n",
    "        print(i)\n"
   ]
  },
  {
   "cell_type": "code",
   "execution_count": 72,
   "metadata": {},
   "outputs": [
    {
     "name": "stdout",
     "output_type": "stream",
     "text": [
      "99\n",
      "98\n",
      "97\n",
      "96\n",
      "95\n",
      "94\n",
      "93\n",
      "92\n",
      "91\n",
      "90\n",
      "89\n",
      "88\n",
      "87\n",
      "86\n",
      "85\n",
      "84\n",
      "83\n",
      "82\n",
      "81\n",
      "80\n",
      "79\n",
      "78\n",
      "77\n",
      "76\n",
      "75\n",
      "74\n",
      "73\n",
      "72\n",
      "71\n",
      "70\n",
      "69\n",
      "68\n",
      "67\n",
      "66\n",
      "65\n",
      "64\n",
      "63\n",
      "62\n",
      "61\n",
      "60\n",
      "59\n",
      "58\n",
      "57\n",
      "56\n",
      "55\n",
      "54\n",
      "53\n",
      "52\n",
      "51\n",
      "50\n",
      "49\n",
      "48\n",
      "47\n",
      "46\n",
      "45\n",
      "44\n",
      "43\n",
      "42\n",
      "41\n",
      "40\n",
      "39\n",
      "38\n",
      "37\n",
      "36\n",
      "35\n",
      "34\n",
      "33\n",
      "32\n",
      "31\n",
      "30\n",
      "29\n",
      "28\n",
      "27\n",
      "26\n",
      "25\n",
      "24\n",
      "23\n",
      "22\n",
      "21\n",
      "20\n",
      "19\n",
      "18\n",
      "17\n",
      "16\n",
      "15\n",
      "14\n",
      "13\n",
      "12\n",
      "11\n",
      "10\n",
      "9\n",
      "8\n",
      "7\n",
      "6\n",
      "5\n",
      "4\n",
      "3\n",
      "2\n",
      "1\n",
      "0\n"
     ]
    }
   ],
   "source": [
    "# 164\n",
    "# 99부터 0까지 1씩 감소하는 숫자들을, 한 라인에 하나씩 출력하라.\n",
    "for i in range(100):\n",
    "    print(99-i)\n"
   ]
  },
  {
   "cell_type": "code",
   "execution_count": 79,
   "metadata": {},
   "outputs": [
    {
     "name": "stdout",
     "output_type": "stream",
     "text": [
      "0.0\n",
      "0.1\n",
      "0.2\n",
      "0.3\n",
      "0.4\n",
      "0.5\n",
      "0.6\n",
      "0.7\n",
      "0.8\n",
      "0.9\n"
     ]
    }
   ],
   "source": [
    "# 165\n",
    "# for문을 사용해서 아래와 같이 출력하라.\n",
    "\n",
    "# 0.0\n",
    "# 0.1\n",
    "# 0.2\n",
    "# 0.3\n",
    "# 0.4\n",
    "# 0.5\n",
    "# ...\n",
    "# 0.9\n",
    "for num in range(10):\n",
    "    print(num/10)\n"
   ]
  },
  {
   "cell_type": "code",
   "execution_count": 82,
   "metadata": {},
   "outputs": [
    {
     "name": "stdout",
     "output_type": "stream",
     "text": [
      "3x1 = 3\n",
      "3x2 = 6\n",
      "3x3 = 9\n",
      "3x4 = 12\n",
      "3x5 = 15\n",
      "3x6 = 18\n",
      "3x7 = 21\n",
      "3x8 = 24\n",
      "3x9 = 27\n"
     ]
    }
   ],
   "source": [
    "# 166\n",
    "# 구구단 3단을 출력하라.\n",
    "\n",
    "# 3x1 = 3\n",
    "# 3x2 = 6\n",
    "# 3x3 = 9\n",
    "# 3x4 = 12\n",
    "# 3x5 = 15\n",
    "# 3x6 = 18\n",
    "# 3x7 = 21\n",
    "# 3x8 = 24\n",
    "# 3x9 = 27\n",
    "for num in range(1,10):\n",
    "    print(\"3x{0} = {1}\".format(num, num*3))\n"
   ]
  },
  {
   "cell_type": "code",
   "execution_count": 83,
   "metadata": {},
   "outputs": [
    {
     "name": "stdout",
     "output_type": "stream",
     "text": [
      "3x1 = 3\n",
      "3x3 = 9\n",
      "3x5 = 15\n",
      "3x7 = 21\n",
      "3x9 = 27\n"
     ]
    }
   ],
   "source": [
    "# 167\n",
    "# 구구단 3단을 출력하라. 단 홀수 번째만 출력한다.\n",
    "\n",
    "# 3x1 = 3\n",
    "# 3x3 = 9\n",
    "# 3x5 = 15\n",
    "# 3x7 = 21\n",
    "# 3x9 = 27\n",
    "\n",
    "for num in range(1,10,2):\n",
    "    print(\"3x{0} = {1}\".format(num, num*3))\n"
   ]
  },
  {
   "cell_type": "code",
   "execution_count": 84,
   "metadata": {},
   "outputs": [
    {
     "name": "stdout",
     "output_type": "stream",
     "text": [
      "55\n"
     ]
    }
   ],
   "source": [
    "# 168\n",
    "# 1~10까지의 숫자에 대해 모두 더한 값을 출력하는 프로그램을 for 문을 사용하여 작성하라.\n",
    "\n",
    "# 합 : 55\n",
    "s = 0\n",
    "for i in range(1,11):\n",
    "    s += i\n",
    "print(s)\n"
   ]
  },
  {
   "cell_type": "code",
   "execution_count": 85,
   "metadata": {},
   "outputs": [
    {
     "name": "stdout",
     "output_type": "stream",
     "text": [
      "25\n"
     ]
    }
   ],
   "source": [
    "# 169\n",
    "# 1~10까지의 숫자 중 모든 홀수의 합을 출력하는 프로그램을 for 문을 사용하여 작성하라.\n",
    "\n",
    "# 합: 25\n",
    "\n",
    "s = 0\n",
    "for i in range(1,11,2):\n",
    "    s += i\n",
    "print(s)\n"
   ]
  },
  {
   "cell_type": "code",
   "execution_count": 86,
   "metadata": {},
   "outputs": [
    {
     "name": "stdout",
     "output_type": "stream",
     "text": [
      "3628800\n"
     ]
    }
   ],
   "source": [
    "# 170\n",
    "# 1~10까지의 숫자를 모두 곱한 값을 출력하는 프로그램을 for 문을 사용하여 작성하라.\n",
    "\n",
    "res = 1\n",
    "for i in range(1,11):\n",
    "    res *= i\n",
    "print(res)\n"
   ]
  },
  {
   "attachments": {},
   "cell_type": "markdown",
   "metadata": {},
   "source": [
    "## 171 ~ 180 반복문 (5/7)"
   ]
  },
  {
   "cell_type": "code",
   "execution_count": 88,
   "metadata": {},
   "outputs": [
    {
     "name": "stdout",
     "output_type": "stream",
     "text": [
      "32100\n",
      "32150\n",
      "32000\n",
      "32500\n"
     ]
    }
   ],
   "source": [
    "# 171\n",
    "# 아래와 같이 리스트의 데이터를 출력하라. 단, for문과 range문을 사용하라.\n",
    "\n",
    "price_list = [32100, 32150, 32000, 32500]\n",
    "# 32100\n",
    "# 32150\n",
    "# 32000\n",
    "# 32500\n",
    "for i in range(len(price_list)):\n",
    "    print(price_list[i])\n"
   ]
  },
  {
   "cell_type": "code",
   "execution_count": 89,
   "metadata": {},
   "outputs": [
    {
     "name": "stdout",
     "output_type": "stream",
     "text": [
      "0 32100\n",
      "1 32150\n",
      "2 32000\n",
      "3 32500\n"
     ]
    }
   ],
   "source": [
    "# 172\n",
    "# 아래와 같이 리스트의 데이터를 출력하라. 단, for문과 range문을 사용하라.\n",
    "\n",
    "price_list = [32100, 32150, 32000, 32500]\n",
    "# 0 32100\n",
    "# 1 32150\n",
    "# 2 32000\n",
    "# 3 32500\n",
    "for i in range(len(price_list)):\n",
    "    print(i, price_list[i])\n"
   ]
  },
  {
   "cell_type": "code",
   "execution_count": 91,
   "metadata": {},
   "outputs": [
    {
     "name": "stdout",
     "output_type": "stream",
     "text": [
      "3 32100\n",
      "2 32150\n",
      "1 32000\n",
      "0 32500\n"
     ]
    }
   ],
   "source": [
    "# 173\n",
    "# 아래와 같이 리스트의 데이터를 출력하라. 단, for문과 range문을 사용하라.\n",
    "\n",
    "price_list = [32100, 32150, 32000, 32500]\n",
    "# 3 32100\n",
    "# 2 32150\n",
    "# 1 32000\n",
    "# 0 32500\n",
    "\n",
    "for i in range(4):\n",
    "    print(3-i, price_list[i])\n"
   ]
  },
  {
   "cell_type": "code",
   "execution_count": 93,
   "metadata": {},
   "outputs": [
    {
     "name": "stdout",
     "output_type": "stream",
     "text": [
      "100 32150\n",
      "110 32000\n",
      "120 32500\n"
     ]
    }
   ],
   "source": [
    "# 174\n",
    "# 아래와 같이 리스트의 데이터를 출력하라. 단, for문과 range문을 사용하라.\n",
    "\n",
    "price_list = [32100, 32150, 32000, 32500]\n",
    "# 100 32150\n",
    "# 110 32000\n",
    "# 120 32500\n",
    "for i in range(1,4):\n",
    "    print(100 + (i-1)*10, price_list[i])\n"
   ]
  },
  {
   "cell_type": "code",
   "execution_count": 94,
   "metadata": {},
   "outputs": [
    {
     "name": "stdout",
     "output_type": "stream",
     "text": [
      "가 나\n",
      "나 다\n",
      "다 라\n"
     ]
    }
   ],
   "source": [
    "# 175\n",
    "# my_list를 아래와 같이 출력하라.\n",
    "\n",
    "my_list = [\"가\", \"나\", \"다\", \"라\"]\n",
    "# 가 나\n",
    "# 나 다\n",
    "# 다 라\n",
    "for i in range(3):\n",
    "    print(my_list[i], my_list[i+1])\n"
   ]
  },
  {
   "cell_type": "code",
   "execution_count": 95,
   "metadata": {},
   "outputs": [
    {
     "name": "stdout",
     "output_type": "stream",
     "text": [
      "가 나 다\n",
      "나 다 라\n",
      "다 라 마\n"
     ]
    }
   ],
   "source": [
    "# 176\n",
    "# 리스트를 아래와 같이 출력하라.\n",
    "\n",
    "my_list = [\"가\", \"나\", \"다\", \"라\", \"마\"]\n",
    "# 가 나 다\n",
    "# 나 다 라\n",
    "# 다 라 마\n",
    "for i in range(3):\n",
    "    print(my_list[i], my_list[i+1], my_list[i+2])\n"
   ]
  },
  {
   "cell_type": "code",
   "execution_count": 96,
   "metadata": {},
   "outputs": [
    {
     "name": "stdout",
     "output_type": "stream",
     "text": [
      "라 다\n",
      "다 나\n",
      "나 가\n"
     ]
    }
   ],
   "source": [
    "# 177\n",
    "# 반복문과 range 함수를 사용해서 my_list를 아래와 같이 출력하라.\n",
    "\n",
    "my_list = [\"가\", \"나\", \"다\", \"라\"]\n",
    "# 라 다\n",
    "# 다 나\n",
    "# 나 가\n",
    "for i in range(3):\n",
    "    print(my_list[3-i], my_list[2-i])\n"
   ]
  },
  {
   "cell_type": "code",
   "execution_count": 98,
   "metadata": {},
   "outputs": [
    {
     "name": "stdout",
     "output_type": "stream",
     "text": [
      "100\n",
      "200\n",
      "400\n"
     ]
    }
   ],
   "source": [
    "# 178\n",
    "# 리스트에는 네 개의 정수가 저장되어 있다. 각각의 데이터에 대해서 자신과 우측값과의 차분값을 화면에 출력하라.\n",
    "\n",
    "my_list = [100, 200, 400, 800]\n",
    "# 예를들어 100을 기준으로 우측에 위치한 200과의 차분 값를 화면에 출력하고, \n",
    "# 200을 기준으로 우측에 위치한 400과의 차분값을 화면에 출력한다. \n",
    "# 이어서 400을 기준으로 우측에 위치한 800과의 차분값을 화면에 출력한다.\n",
    "\n",
    "# 100\n",
    "# 200\n",
    "# 400\n",
    "for i in range(3):\n",
    "    print(abs(my_list[i+1] - my_list[i]))\n"
   ]
  },
  {
   "cell_type": "code",
   "execution_count": 100,
   "metadata": {},
   "outputs": [
    {
     "name": "stdout",
     "output_type": "stream",
     "text": [
      "233.33333333333334\n",
      "466.6666666666667\n",
      "733.3333333333334\n",
      "1033.3333333333333\n"
     ]
    }
   ],
   "source": [
    "179\n",
    "# 리스트에는 6일 간의 종가 데이터가 저장되어 있다. 종가 데이터의 3일 이동 평균을 계산하고 이를 화면에 출력하라.\n",
    "\n",
    "my_list = [100, 200, 400, 800, 1000, 1300]\n",
    "# 첫 번째 줄에는 100, 200, 400의 평균값이 출력된다. 두 번째 줄에는 200, 400, 800의 평균값이 출력된다. \n",
    "# 같은 방식으로 나머지 데이터의 평균을 출력한다.\n",
    "\n",
    "# 233.33333333333334\n",
    "# 466.6666666666667\n",
    "# 733.3333333333334\n",
    "# 1033.3333333333333\n",
    "for i in range(4):\n",
    "    print(sum(my_list[i:i+3])/3)\n"
   ]
  },
  {
   "cell_type": "code",
   "execution_count": 105,
   "metadata": {},
   "outputs": [
    {
     "name": "stdout",
     "output_type": "stream",
     "text": [
      "[50, 100, 30, 80, 0]\n",
      "[50, 100, 30, 80, 0]\n"
     ]
    }
   ],
   "source": [
    "180\n",
    "# 리스트에 5일간의 저가, 고가 정보가 저장돼 있다. 고가와 저가의 차를 변동폭이라고 정의할 때, \n",
    "# low, high 두 개의 리스트를 사용해서 5일간의 변동폭을 volatility 리스트에 저장하라.\n",
    "\n",
    "low_prices  = [100, 200, 400, 800, 1000]\n",
    "high_prices = [150, 300, 430, 880, 1000]\n",
    "\n",
    "volatility = [0,0,0,0,0]\n",
    "for i in range(5):\n",
    "    volatility[i] = high_prices[i] - low_prices[i]\n",
    "\n",
    "print(volatility)    \n",
    "\n",
    "volatility2=[]\n",
    "for i in range(5):\n",
    "    volatility2.append(high_prices[i] - low_prices[i])\n",
    "\n",
    "print(volatility2)    "
   ]
  },
  {
   "attachments": {},
   "cell_type": "markdown",
   "metadata": {},
   "source": [
    "## 181 ~ 190 반복문 (6/7)"
   ]
  },
  {
   "cell_type": "code",
   "execution_count": 106,
   "metadata": {},
   "outputs": [
    {
     "name": "stdout",
     "output_type": "stream",
     "text": [
      "[['101호', '102호'], ['201호', '202호'], ['301호', '302호']]\n"
     ]
    }
   ],
   "source": [
    "# 181\n",
    "# 아래 표에서 하나의 행을 하나의 리스트로, 총 3개의 리스트를 갖는 이차원 리스트 apart를 정의하라.\n",
    "\n",
    "# 101호\t102호\n",
    "# 201호\t202호\n",
    "# 301호\t302호\n",
    "apart = [[\"101호\",\"102호\"], [\"201호\",\"202호\"], [\"301호\",\"302호\"]]\n",
    "print(apart)\n"
   ]
  },
  {
   "cell_type": "code",
   "execution_count": 107,
   "metadata": {},
   "outputs": [
    {
     "name": "stdout",
     "output_type": "stream",
     "text": [
      "[[100, 80], [200, 210], [300, 330]]\n"
     ]
    }
   ],
   "source": [
    "# 182\n",
    "# 아래 표에서 하나의 열을 하나의 리스트로, 총 2개의 리스트를 갖는 이차원 리스트 stock을 정의하라.\n",
    "\n",
    "# 시가\t종가\n",
    "# 100\t80\n",
    "# 200\t210\n",
    "# 300\t330\n",
    "stock = list()\n",
    "stock.append([100,80])\n",
    "stock.append([200,210])\n",
    "stock.append([300,330])\n",
    "print(stock)\n"
   ]
  },
  {
   "cell_type": "code",
   "execution_count": 109,
   "metadata": {},
   "outputs": [
    {
     "name": "stdout",
     "output_type": "stream",
     "text": [
      "{'시가': [100, 200, 300], '종가': [80, 210, 330]} <class 'dict'>\n"
     ]
    }
   ],
   "source": [
    "# 183\n",
    "# 아래 표를 stock 이름의 딕셔너리로 표현하라.시가를 key로 저장하고, 나머지 같은 열의 데이터를 리스트로 저장해서 value로 저장한다. \n",
    "# 종가 역시 key로 저장하고 나머지 같은 열의 데이터를 리스트로 저장해서 value로 저장한다.\n",
    "\n",
    "# 시가\t종가\n",
    "# 100\t80\n",
    "# 200\t210\n",
    "# 300\t330\n",
    "stock = {\"시가\":[100,200,300],\n",
    "         \"종가\":[80,210,330]}\n",
    "\n",
    "print(stock, type(stock))\n"
   ]
  },
  {
   "cell_type": "code",
   "execution_count": 110,
   "metadata": {},
   "outputs": [
    {
     "name": "stdout",
     "output_type": "stream",
     "text": [
      "{'10/11': [210, 230, 190, 200]} <class 'dict'>\n"
     ]
    }
   ],
   "source": [
    "# 184\n",
    "# 아래 표를 stock 이라는 이름의 딕셔너리로 표현하라. \n",
    "# 날짜를 key로 저장하고, 나머지 같은 행의 데이터를 리스트로 저장해서 value로 저장한다. 첫 열이 날짜이다.\n",
    "\n",
    "# 10/10\t80\t110\t70\t90\n",
    "# 10/11\t210\t230\t190\t200\n",
    "\n",
    "stock = {\"10/11\":[80,110,70,90],\n",
    "         \"10/11\":[210,230,190,200]}\n",
    "print(stock, type(stock))\n"
   ]
  },
  {
   "cell_type": "code",
   "execution_count": 112,
   "metadata": {},
   "outputs": [
    {
     "name": "stdout",
     "output_type": "stream",
     "text": [
      "101 호\n",
      "102 호\n",
      "201 호\n",
      "202 호\n",
      "301 호\n",
      "302 호\n"
     ]
    }
   ],
   "source": [
    "# 185\n",
    "# 리스트에 저장된 데이터를 아래와 같이 출력하라.\n",
    "\n",
    "apart = [ [101, 102], [201, 202], [301, 302] ]\n",
    "# 101 호\n",
    "# 102 호\n",
    "# 201 호\n",
    "# 202 호\n",
    "# 301 호\n",
    "# 302 호\n",
    "for floor in apart:\n",
    "    for room in floor:\n",
    "        print(room,'호')\n",
    "    \n"
   ]
  },
  {
   "cell_type": "code",
   "execution_count": 114,
   "metadata": {},
   "outputs": [
    {
     "name": "stdout",
     "output_type": "stream",
     "text": [
      "301 호\n",
      "302 호\n",
      "201 호\n",
      "202 호\n",
      "101 호\n",
      "102 호\n"
     ]
    }
   ],
   "source": [
    "# 186\n",
    "# 리스트에 저장된 데이터를 아래와 같이 출력하라.\n",
    "\n",
    "apart = [ [101, 102], [201, 202], [301, 302] ]\n",
    "# 301 호\n",
    "# 302 호\n",
    "# 201 호\n",
    "# 202 호\n",
    "# 101 호\n",
    "# 102 호\n",
    "for floor in apart[::-1]:\n",
    "    for room in floor:\n",
    "        print(room, \"호\")\n"
   ]
  },
  {
   "cell_type": "code",
   "execution_count": 115,
   "metadata": {},
   "outputs": [
    {
     "name": "stdout",
     "output_type": "stream",
     "text": [
      "302 호\n",
      "301 호\n",
      "202 호\n",
      "201 호\n",
      "102 호\n",
      "101 호\n"
     ]
    }
   ],
   "source": [
    "# 187\n",
    "# 리스트에 저장된 데이터를 아래와 같이 출력하라.\n",
    "\n",
    "apart = [ [101, 102], [201, 202], [301, 302] ]\n",
    "# 302 호\n",
    "# 301 호\n",
    "# 202 호\n",
    "# 201 호\n",
    "# 102 호\n",
    "# 101 호\n",
    "for floor in apart[::-1]:\n",
    "    for room in floor[::-1]:\n",
    "        print(room, \"호\")\n"
   ]
  },
  {
   "cell_type": "code",
   "execution_count": 116,
   "metadata": {},
   "outputs": [
    {
     "name": "stdout",
     "output_type": "stream",
     "text": [
      "101 호\n",
      "-----\n",
      "102 호\n",
      "-----\n",
      "201 호\n",
      "-----\n",
      "202 호\n",
      "-----\n",
      "301 호\n",
      "-----\n",
      "302 호\n",
      "-----\n"
     ]
    }
   ],
   "source": [
    "# 188\n",
    "# 리스트에 저장된 데이터를 아래와 같이 출력하라.\n",
    "apart = [ [101, 102], [201, 202], [301, 302] ]\n",
    "# 101 호\n",
    "# -----\n",
    "# 102 호\n",
    "# -----\n",
    "# 201 호\n",
    "# -----\n",
    "# 202 호\n",
    "# -----\n",
    "# 301 호\n",
    "# -----\n",
    "# 302 호\n",
    "# -----\n",
    "for floor in apart:\n",
    "    for room in floor:\n",
    "        print(room,'호\\n-----')\n"
   ]
  },
  {
   "cell_type": "code",
   "execution_count": 117,
   "metadata": {},
   "outputs": [
    {
     "name": "stdout",
     "output_type": "stream",
     "text": [
      "101 호\n",
      "102 호\n",
      "-----\n",
      "201 호\n",
      "202 호\n",
      "-----\n",
      "301 호\n",
      "302 호\n",
      "-----\n"
     ]
    }
   ],
   "source": [
    "# 189\n",
    "# 리스트에 저장된 데이터를 아래와 같이 출력하라.\n",
    "\n",
    "apart = [ [101, 102], [201, 202], [301, 302] ]\n",
    "# 101 호\n",
    "# 102 호\n",
    "# -----\n",
    "# 201 호\n",
    "# 202 호\n",
    "# -----\n",
    "# 301 호\n",
    "# 302 호\n",
    "# -----\n",
    "for floor in apart:\n",
    "    for room in floor:\n",
    "        print(room,'호')\n",
    "    print('-----')\n"
   ]
  },
  {
   "cell_type": "code",
   "execution_count": 118,
   "metadata": {},
   "outputs": [
    {
     "name": "stdout",
     "output_type": "stream",
     "text": [
      "101 호\n",
      "102 호\n",
      "201 호\n",
      "202 호\n",
      "301 호\n",
      "302 호\n",
      "-----\n"
     ]
    }
   ],
   "source": [
    "# 190\n",
    "# 리스트에 저장된 데이터를 아래와 같이 출력하라.\n",
    "\n",
    "# apart = [ [101, 102], [201, 202], [301, 302] ]\n",
    "# 101 호\n",
    "# 102 호\n",
    "# 201 호\n",
    "# 202 호\n",
    "# 301 호\n",
    "# 302 호\n",
    "# -----\n",
    "for floor in apart:\n",
    "    for room in floor:\n",
    "        print(room,'호')\n",
    "print('-----')"
   ]
  },
  {
   "attachments": {},
   "cell_type": "markdown",
   "metadata": {},
   "source": [
    "## 191 ~ 200 반복문 (7/7)"
   ]
  },
  {
   "cell_type": "code",
   "execution_count": 120,
   "metadata": {},
   "outputs": [
    {
     "name": "stdout",
     "output_type": "stream",
     "text": [
      "2000.28\n",
      "3050.427\n",
      "2050.2870000000003\n",
      "1980.2772\n",
      "7501.05\n",
      "2050.2870000000003\n",
      "2050.2870000000003\n",
      "1980.2772\n",
      "15452.163\n",
      "15052.107\n",
      "15552.177\n",
      "14902.086000000001\n"
     ]
    }
   ],
   "source": [
    "# 191\n",
    "# data에는 매수한 종목들의 OHLC (open/high/low/close) 가격 정보가 바인딩 되어있다.\n",
    "\n",
    "data = [\n",
    "    [ 2000,  3050,  2050,  1980],\n",
    "    [ 7500,  2050,  2050,  1980],\n",
    "    [15450, 15050, 15550, 14900]\n",
    "]\n",
    "\n",
    "# 수수료를 0.014 %로 가정할 때, 각 가격에 수수료를 포함한 가격을 한라인에 하나씩 출력하라.\n",
    "# 2000.28\n",
    "# 3050.427\n",
    "# 2050.2870000000003\n",
    "# ...\n",
    "for row in data:\n",
    "    for val in row:\n",
    "        print(val*1.00014)\n"
   ]
  },
  {
   "cell_type": "code",
   "execution_count": 121,
   "metadata": {},
   "outputs": [
    {
     "name": "stdout",
     "output_type": "stream",
     "text": [
      "2000.28\n",
      "3050.427\n",
      "2050.2870000000003\n",
      "1980.2772\n",
      "----\n",
      "7501.05\n",
      "2050.2870000000003\n",
      "2050.2870000000003\n",
      "1980.2772\n",
      "----\n",
      "15452.163\n",
      "15052.107\n",
      "15552.177\n",
      "14902.086000000001\n",
      "----\n"
     ]
    }
   ],
   "source": [
    "# 192\n",
    "# 191번의 출력 결과에 행단위로 \"----\" 구분자를 추가하라.\n",
    "\n",
    "# 2000.28\n",
    "# 3050.427\n",
    "# 2050.2870000000003\n",
    "# 1980.2772\n",
    "# ----\n",
    "# 7501.05\n",
    "# 2050.2870000000003\n",
    "# 2050.2870000000003\n",
    "# 1980.2772\n",
    "# ----\n",
    "# 15452.163\n",
    "# 15052.107\n",
    "# 15552.177\n",
    "# 14902.086000000001\n",
    "# ----\n",
    "\n",
    "data = [\n",
    "    [ 2000,  3050,  2050,  1980],\n",
    "    [ 7500,  2050,  2050,  1980],\n",
    "    [15450, 15050, 15550, 14900]\n",
    "]\n",
    "\n",
    "for row in data:\n",
    "    for val in row:\n",
    "        print(val*1.00014)\n",
    "    print('----')\n"
   ]
  },
  {
   "cell_type": "code",
   "execution_count": 122,
   "metadata": {},
   "outputs": [
    {
     "name": "stdout",
     "output_type": "stream",
     "text": [
      "[2000.28, 3050.427, 2050.2870000000003, 1980.2772, 7501.05, 2050.2870000000003, 2050.2870000000003, 1980.2772, 15452.163, 15052.107, 15552.177, 14902.086000000001]\n"
     ]
    }
   ],
   "source": [
    "# 193\n",
    "# 192 번 문제의 결괏값을 result 이름의 리스트에 1차원 배열로 저장하라.\n",
    "\n",
    "# >> print(result)\n",
    "# [2000.28, 3050.427, 2050.2870000000003, 1980.2772, 7501.05, 2050.2870000000003, 2050.2870000000003, ...]\n",
    "\n",
    "data = [\n",
    "    [ 2000,  3050,  2050,  1980],\n",
    "    [ 7500,  2050,  2050,  1980],\n",
    "    [15450, 15050, 15550, 14900]\n",
    "]\n",
    "\n",
    "result = []\n",
    "for row in data:\n",
    "    for val in row:\n",
    "        result.append(val*1.00014)\n",
    "print(result)\n"
   ]
  },
  {
   "cell_type": "code",
   "execution_count": 124,
   "metadata": {},
   "outputs": [
    {
     "name": "stdout",
     "output_type": "stream",
     "text": [
      "[[2000.28, 3050.427, 2050.2870000000003, 1980.2772], [7501.05, 2050.2870000000003, 2050.2870000000003, 1980.2772], [15452.163, 15052.107, 15552.177, 14902.086000000001]]\n"
     ]
    }
   ],
   "source": [
    "194\n",
    "# 191번 문제의 결괏값을 result 이름의 리스트에 2차원 배열로 저장하라. 저장 포맷은 아래와 같다. \n",
    "# 각 행에 대한 데이터끼리 리스트에 저장되어야 한다.\n",
    "\n",
    "# >> print(result)\n",
    "# [\n",
    "#  [2000.28, 3050.427, 2050.2870000000003, 1980.2772],\n",
    "#  [7501.05, 2050.2870000000003, 2050.2870000000003, 1980.2772],\n",
    "#  [15452.163, 15052.107, 15552.177, 14902.086000000001]\n",
    "# ]\n",
    "data = [\n",
    "    [ 2000,  3050,  2050,  1980],\n",
    "    [ 7500,  2050,  2050,  1980],\n",
    "    [15450, 15050, 15550, 14900]\n",
    "]\n",
    "\n",
    "result = []\n",
    "for row in data:\n",
    "    sub = []\n",
    "    for val in row:\n",
    "        sub.append(val*1.00014)\n",
    "    result.append(sub)\n",
    "print(result)\n"
   ]
  },
  {
   "cell_type": "code",
   "execution_count": 128,
   "metadata": {},
   "outputs": [
    {
     "name": "stdout",
     "output_type": "stream",
     "text": [
      "100\n",
      "190\n",
      "310\n"
     ]
    }
   ],
   "source": [
    "# 195\n",
    "# ohlc 리스트에는 시가(open), 고가 (high), 저가 (low) , 종가(close)가 날짜별로 저장돼 있다. 화면에 종가데이터를 출력하라.\n",
    "\n",
    "ohlc = [[\"open\", \"high\", \"low\", \"close\"],\n",
    "        [100, 110, 70, 100],\n",
    "        [200, 210, 180, 190],\n",
    "        [300, 310, 300, 310]]\n",
    "# 100\n",
    "# 190\n",
    "# 310\n",
    "for data in ohlc[1:]:\n",
    "    print(data[3])\n"
   ]
  },
  {
   "cell_type": "code",
   "execution_count": 129,
   "metadata": {},
   "outputs": [
    {
     "name": "stdout",
     "output_type": "stream",
     "text": [
      "190\n",
      "310\n"
     ]
    }
   ],
   "source": [
    "# 196\n",
    "# ohlc 리스트에는 시가(open), 고가 (high), 저가 (low) , 종가(close)가 날짜별로 저장돼 있다. \n",
    "# 종가가 150원보다 큰 경우에만 종가를 출력하라.\n",
    "\n",
    "ohlc = [[\"open\", \"high\", \"low\", \"close\"],\n",
    "        [100, 110, 70, 100],\n",
    "        [200, 210, 180, 190],\n",
    "        [300, 310, 300, 310]]\n",
    "# 190\n",
    "# 310\n",
    "for data in ohlc[1:]:\n",
    "    if data[3] > 150:\n",
    "            print(data[3])\n"
   ]
  },
  {
   "cell_type": "code",
   "execution_count": 131,
   "metadata": {},
   "outputs": [
    {
     "name": "stdout",
     "output_type": "stream",
     "text": [
      "100\n",
      "310\n"
     ]
    }
   ],
   "source": [
    "# 197\n",
    "# ohlc 리스트에는 시가(open), 고가 (high), 저가 (low) , 종가(close)가 날짜별로 저장돼 있다. 종가가 시가 보다 크거나 같은 경우에만 종가를 출력하라.\n",
    "\n",
    "ohlc = [[\"open\", \"high\", \"low\", \"close\"],\n",
    "        [100, 110, 70, 100],\n",
    "        [200, 210, 180, 190],\n",
    "        [300, 310, 300, 310]]\n",
    "# 100\n",
    "# 310\n",
    "for data in ohlc[1:]:\n",
    "    if data[3] >= data[0]:\n",
    "            print(data[3])\n"
   ]
  },
  {
   "cell_type": "code",
   "execution_count": 133,
   "metadata": {},
   "outputs": [
    {
     "name": "stdout",
     "output_type": "stream",
     "text": [
      "[40, 30, 10]\n"
     ]
    }
   ],
   "source": [
    "# 198\n",
    "# ohlc 리스트에는 시가(open), 고가 (high), 저가 (low) , 종가(close)가 날짜별로 저장돼 있다. \n",
    "# 고가와 저가의 차이를 변동폭으로 정의할 때 변동폭을 volatility 이름의 리스트에 저장하라.\n",
    "\n",
    "ohlc = [[\"open\", \"high\", \"low\", \"close\"],\n",
    "        [100, 110, 70, 100],\n",
    "        [200, 210, 180, 190],\n",
    "        [300, 310, 300, 310]]\n",
    "# >> print(volatility)\n",
    "# [40, 30, 10]\n",
    "\n",
    "volatility=[]\n",
    "for data in ohlc[1:]:\n",
    "    volatility.append(data[1]-data[2])\n",
    "print(volatility)"
   ]
  },
  {
   "cell_type": "code",
   "execution_count": 134,
   "metadata": {},
   "outputs": [
    {
     "name": "stdout",
     "output_type": "stream",
     "text": [
      "10\n"
     ]
    }
   ],
   "source": [
    "# 199\n",
    "# 리스트에는 3일 간의 ohlc 데이터가 저장돼 있다. 종가가 시가보다 높은 날의 변동성 (고가 - 저가)을 화면에 출력하라.\n",
    "\n",
    "ohlc = [[\"open\", \"high\", \"low\", \"close\"],\n",
    "        [100, 110, 70, 100],\n",
    "        [200, 210, 180, 190],\n",
    "        [300, 310, 300, 310]]\n",
    "# 종가가 시가보다 높은 거래일의 OHLC는 [300, 310, 300, 310] 이다. 따라서 이 거래일의 변동성은 10 (310 - 300)이다.\n",
    "\n",
    "# 10\n",
    "\n",
    "for data in ohlc[1:]:\n",
    "    if data[3] > data[0]:\n",
    "            print(data[1]-data[2])\n"
   ]
  },
  {
   "cell_type": "code",
   "execution_count": 135,
   "metadata": {},
   "outputs": [
    {
     "name": "stdout",
     "output_type": "stream",
     "text": [
      "0\n"
     ]
    }
   ],
   "source": [
    "# 200\n",
    "# 리스트에는 3일 간의 ohlc 데이터가 저장돼 있다. 시가에 매수해서 종가에 매도 했을 경우 총 수익금을 계산하라.\n",
    "\n",
    "ohlc = [[\"open\", \"high\", \"low\", \"close\"],\n",
    "        [100, 110, 70, 100],\n",
    "        [200, 210, 180, 190],\n",
    "        [300, 310, 300, 310]]\n",
    "# 1일차 수익 0원 (100 - 100), 2일차 수익 -10원 (190 - 200), 3일차 수익 10원 (310 - 300) 이다.\n",
    "# 0\n",
    "\n",
    "earned = 0\n",
    "for data in ohlc[1:]:\n",
    "    earned += data[3]-data[0]\n",
    "    \n",
    "print(earned)    "
   ]
  },
  {
   "attachments": {},
   "cell_type": "markdown",
   "metadata": {},
   "source": [
    "# 09. 파이썬함수\n",
    "* 함수란 자주 사용하는 코드에 대한 이름표입니다. 변수가 어떤 값을 바인딩하는 것처럼 함수는 어떤 코드를 바인딩합니다.\n",
    "\n",
    "## 201 ~ 210 함수 (1/4)"
   ]
  },
  {
   "cell_type": "code",
   "execution_count": 137,
   "metadata": {},
   "outputs": [],
   "source": [
    "# 201\n",
    "# \"비트코인\" 문자열을 화면에 출력하는 print_coin() 함수를 정의하라.\n",
    "\n",
    "def print_coin():\n",
    "    print(\"비트코인\")\n"
   ]
  },
  {
   "cell_type": "code",
   "execution_count": 139,
   "metadata": {},
   "outputs": [
    {
     "name": "stdout",
     "output_type": "stream",
     "text": [
      "비트코인\n"
     ]
    }
   ],
   "source": [
    "# 202\n",
    "# 201번에서 정의한 함수를 호출하라.\n",
    "print_coin()"
   ]
  },
  {
   "cell_type": "code",
   "execution_count": 140,
   "metadata": {},
   "outputs": [
    {
     "name": "stdout",
     "output_type": "stream",
     "text": [
      "비트코인\n",
      "비트코인\n",
      "비트코인\n",
      "비트코인\n",
      "비트코인\n",
      "비트코인\n",
      "비트코인\n",
      "비트코인\n",
      "비트코인\n",
      "비트코인\n",
      "비트코인\n",
      "비트코인\n",
      "비트코인\n",
      "비트코인\n",
      "비트코인\n",
      "비트코인\n",
      "비트코인\n",
      "비트코인\n",
      "비트코인\n",
      "비트코인\n",
      "비트코인\n",
      "비트코인\n",
      "비트코인\n",
      "비트코인\n",
      "비트코인\n",
      "비트코인\n",
      "비트코인\n",
      "비트코인\n",
      "비트코인\n",
      "비트코인\n",
      "비트코인\n",
      "비트코인\n",
      "비트코인\n",
      "비트코인\n",
      "비트코인\n",
      "비트코인\n",
      "비트코인\n",
      "비트코인\n",
      "비트코인\n",
      "비트코인\n",
      "비트코인\n",
      "비트코인\n",
      "비트코인\n",
      "비트코인\n",
      "비트코인\n",
      "비트코인\n",
      "비트코인\n",
      "비트코인\n",
      "비트코인\n",
      "비트코인\n",
      "비트코인\n",
      "비트코인\n",
      "비트코인\n",
      "비트코인\n",
      "비트코인\n",
      "비트코인\n",
      "비트코인\n",
      "비트코인\n",
      "비트코인\n",
      "비트코인\n",
      "비트코인\n",
      "비트코인\n",
      "비트코인\n",
      "비트코인\n",
      "비트코인\n",
      "비트코인\n",
      "비트코인\n",
      "비트코인\n",
      "비트코인\n",
      "비트코인\n",
      "비트코인\n",
      "비트코인\n",
      "비트코인\n",
      "비트코인\n",
      "비트코인\n",
      "비트코인\n",
      "비트코인\n",
      "비트코인\n",
      "비트코인\n",
      "비트코인\n",
      "비트코인\n",
      "비트코인\n",
      "비트코인\n",
      "비트코인\n",
      "비트코인\n",
      "비트코인\n",
      "비트코인\n",
      "비트코인\n",
      "비트코인\n",
      "비트코인\n",
      "비트코인\n",
      "비트코인\n",
      "비트코인\n",
      "비트코인\n",
      "비트코인\n",
      "비트코인\n",
      "비트코인\n",
      "비트코인\n",
      "비트코인\n",
      "비트코인\n"
     ]
    }
   ],
   "source": [
    "# 203\n",
    "# 201번에서 정의한 print_coin 함수를 100번호출하라.\n",
    "for _ in range(100):\n",
    "    print_coin()\n"
   ]
  },
  {
   "cell_type": "code",
   "execution_count": 141,
   "metadata": {},
   "outputs": [
    {
     "name": "stdout",
     "output_type": "stream",
     "text": [
      "비트코인\n",
      "비트코인\n",
      "비트코인\n",
      "비트코인\n",
      "비트코인\n",
      "비트코인\n",
      "비트코인\n",
      "비트코인\n",
      "비트코인\n",
      "비트코인\n",
      "비트코인\n",
      "비트코인\n",
      "비트코인\n",
      "비트코인\n",
      "비트코인\n",
      "비트코인\n",
      "비트코인\n",
      "비트코인\n",
      "비트코인\n",
      "비트코인\n",
      "비트코인\n",
      "비트코인\n",
      "비트코인\n",
      "비트코인\n",
      "비트코인\n",
      "비트코인\n",
      "비트코인\n",
      "비트코인\n",
      "비트코인\n",
      "비트코인\n",
      "비트코인\n",
      "비트코인\n",
      "비트코인\n",
      "비트코인\n",
      "비트코인\n",
      "비트코인\n",
      "비트코인\n",
      "비트코인\n",
      "비트코인\n",
      "비트코인\n",
      "비트코인\n",
      "비트코인\n",
      "비트코인\n",
      "비트코인\n",
      "비트코인\n",
      "비트코인\n",
      "비트코인\n",
      "비트코인\n",
      "비트코인\n",
      "비트코인\n",
      "비트코인\n",
      "비트코인\n",
      "비트코인\n",
      "비트코인\n",
      "비트코인\n",
      "비트코인\n",
      "비트코인\n",
      "비트코인\n",
      "비트코인\n",
      "비트코인\n",
      "비트코인\n",
      "비트코인\n",
      "비트코인\n",
      "비트코인\n",
      "비트코인\n",
      "비트코인\n",
      "비트코인\n",
      "비트코인\n",
      "비트코인\n",
      "비트코인\n",
      "비트코인\n",
      "비트코인\n",
      "비트코인\n",
      "비트코인\n",
      "비트코인\n",
      "비트코인\n",
      "비트코인\n",
      "비트코인\n",
      "비트코인\n",
      "비트코인\n",
      "비트코인\n",
      "비트코인\n",
      "비트코인\n",
      "비트코인\n",
      "비트코인\n",
      "비트코인\n",
      "비트코인\n",
      "비트코인\n",
      "비트코인\n",
      "비트코인\n",
      "비트코인\n",
      "비트코인\n",
      "비트코인\n",
      "비트코인\n",
      "비트코인\n",
      "비트코인\n",
      "비트코인\n",
      "비트코인\n",
      "비트코인\n",
      "비트코인\n"
     ]
    }
   ],
   "source": [
    "# 204\n",
    "# \"비트코인\" 문자열을 100번 화면에 출력하는 print_coins() 함수를 정의하라.\n",
    "\n",
    "for _ in range(100):\n",
    "    print(\"비트코인\")"
   ]
  },
  {
   "cell_type": "code",
   "execution_count": 142,
   "metadata": {},
   "outputs": [
    {
     "ename": "NameError",
     "evalue": "name 'hello' is not defined",
     "output_type": "error",
     "traceback": [
      "\u001b[1;31m---------------------------------------------------------------------------\u001b[0m",
      "\u001b[1;31mNameError\u001b[0m                                 Traceback (most recent call last)",
      "Cell \u001b[1;32mIn[142], line 4\u001b[0m\n\u001b[0;32m      1\u001b[0m \u001b[39m# 205\u001b[39;00m\n\u001b[0;32m      2\u001b[0m \u001b[39m# 아래의 에러가 발생하는 이유에 대해 설명하라.\u001b[39;00m\n\u001b[1;32m----> 4\u001b[0m hello()\n\u001b[0;32m      5\u001b[0m \u001b[39mdef\u001b[39;00m \u001b[39mhello\u001b[39m():\n\u001b[0;32m      6\u001b[0m     \u001b[39mprint\u001b[39m(\u001b[39m\"\u001b[39m\u001b[39mHi\u001b[39m\u001b[39m\"\u001b[39m)\n",
      "\u001b[1;31mNameError\u001b[0m: name 'hello' is not defined"
     ]
    }
   ],
   "source": [
    "# 205\n",
    "# 아래의 에러가 발생하는 이유에 대해 설명하라.\n",
    "\n",
    "hello()\n",
    "def hello():\n",
    "    print(\"Hi\")\n",
    "\n",
    "# 실행 예\n",
    "# NameError: name 'hello' is not defined\n"
   ]
  },
  {
   "attachments": {},
   "cell_type": "markdown",
   "metadata": {},
   "source": [
    "> 함수가 정의되기 전 호출이 먼저 일어나면 에러가 발생한다."
   ]
  },
  {
   "cell_type": "code",
   "execution_count": 143,
   "metadata": {},
   "outputs": [
    {
     "name": "stdout",
     "output_type": "stream",
     "text": [
      "A\n",
      "B\n",
      "C\n",
      "A\n",
      "B\n"
     ]
    }
   ],
   "source": [
    "# 206\n",
    "# 아래 코드의 실행 결과를 예측하라.\n",
    "\n",
    "def message() :\n",
    "    print(\"A\")\n",
    "    print(\"B\")\n",
    "\n",
    "message()\n",
    "print(\"C\")\n",
    "message()\n"
   ]
  },
  {
   "cell_type": "code",
   "execution_count": 145,
   "metadata": {},
   "outputs": [
    {
     "name": "stdout",
     "output_type": "stream",
     "text": [
      "A\n",
      "C\n",
      "B\n"
     ]
    }
   ],
   "source": [
    "# 207\n",
    "# 아래 코드의 실행 결과를 예측하라. (읽기 어려운 코드의 예입니다.)\n",
    "\n",
    "print(\"A\")\n",
    "\n",
    "def message() :\n",
    "    print(\"B\")\n",
    "\n",
    "print(\"C\")\n",
    "message()\n"
   ]
  },
  {
   "cell_type": "code",
   "execution_count": 146,
   "metadata": {},
   "outputs": [
    {
     "name": "stdout",
     "output_type": "stream",
     "text": [
      "A\n",
      "C\n",
      "B\n",
      "E\n",
      "D\n"
     ]
    }
   ],
   "source": [
    "# 208\n",
    "# 아래 코드의 실행 결과를 예측하라. (읽기 어려운 코드의 예입니다.)\n",
    "\n",
    "print(\"A\")\n",
    "def message1() :\n",
    "    print(\"B\")\n",
    "print(\"C\")\n",
    "def message2() :\n",
    "    print(\"D\")\n",
    "message1()\n",
    "print(\"E\")\n",
    "message2()\n"
   ]
  },
  {
   "cell_type": "code",
   "execution_count": 147,
   "metadata": {},
   "outputs": [
    {
     "name": "stdout",
     "output_type": "stream",
     "text": [
      "B\n",
      "A\n"
     ]
    }
   ],
   "source": [
    "# 209\n",
    "# 아래 코드의 실행 결과를 예측하라.\n",
    "\n",
    "def message1():\n",
    "    print(\"A\")\n",
    "\n",
    "def message2():\n",
    "    print(\"B\")\n",
    "    message1()\n",
    "\n",
    "message2()\n"
   ]
  },
  {
   "cell_type": "code",
   "execution_count": 148,
   "metadata": {},
   "outputs": [
    {
     "name": "stdout",
     "output_type": "stream",
     "text": [
      "B\n",
      "C\n",
      "B\n",
      "C\n",
      "B\n",
      "C\n",
      "A\n"
     ]
    }
   ],
   "source": [
    "# 210\n",
    "# 아래 코드의 실행 결과를 예측하라.\n",
    "\n",
    "def message1():\n",
    "    print(\"A\")\n",
    "\n",
    "def message2():\n",
    "    print(\"B\")\n",
    "\n",
    "def message3():\n",
    "    for i in range (3) :\n",
    "        message2()\n",
    "        print(\"C\")\n",
    "    message1()\n",
    "\n",
    "message3()"
   ]
  },
  {
   "attachments": {},
   "cell_type": "markdown",
   "metadata": {},
   "source": [
    "## 211~ 220 함수 (2/4)"
   ]
  },
  {
   "cell_type": "code",
   "execution_count": 149,
   "metadata": {},
   "outputs": [
    {
     "name": "stdout",
     "output_type": "stream",
     "text": [
      "안녕\n",
      "Hi\n"
     ]
    }
   ],
   "source": [
    "# 211\n",
    "# 함수의 호출 결과를 예측하라.\n",
    "\n",
    "def 함수(문자열) :\n",
    "    print(문자열)\n",
    "\n",
    "함수(\"안녕\")\n",
    "함수(\"Hi\")\n"
   ]
  },
  {
   "cell_type": "code",
   "execution_count": 150,
   "metadata": {},
   "outputs": [
    {
     "name": "stdout",
     "output_type": "stream",
     "text": [
      "7\n",
      "15\n"
     ]
    }
   ],
   "source": [
    "# 212\n",
    "# 함수의 호출 결과를 예측하라.\n",
    "\n",
    "def 함수(a, b) :\n",
    "    print(a + b)\n",
    "\n",
    "함수(3, 4)\n",
    "함수(7, 8)\n"
   ]
  },
  {
   "cell_type": "code",
   "execution_count": 151,
   "metadata": {},
   "outputs": [
    {
     "ename": "TypeError",
     "evalue": "함수() missing 1 required positional argument: '문자열'",
     "output_type": "error",
     "traceback": [
      "\u001b[1;31m---------------------------------------------------------------------------\u001b[0m",
      "\u001b[1;31mTypeError\u001b[0m                                 Traceback (most recent call last)",
      "Cell \u001b[1;32mIn[151], line 6\u001b[0m\n\u001b[0;32m      4\u001b[0m \u001b[39mdef\u001b[39;00m \u001b[39m함수\u001b[39m(문자열) :\n\u001b[0;32m      5\u001b[0m     \u001b[39mprint\u001b[39m(문자열)\n\u001b[1;32m----> 6\u001b[0m 함수()\n\u001b[0;32m      7\u001b[0m \u001b[39m# TypeError: 함수() missing 1 required positional argument: '문자열'\u001b[39;00m\n",
      "\u001b[1;31mTypeError\u001b[0m: 함수() missing 1 required positional argument: '문자열'"
     ]
    }
   ],
   "source": [
    "# 213\n",
    "# 아래와 같은 에러가 발생하는 원인을 설명하라.\n",
    "\n",
    "def 함수(문자열) :\n",
    "    print(문자열)\n",
    "함수()\n",
    "# TypeError: 함수() missing 1 required positional argument: '문자열'\n"
   ]
  },
  {
   "attachments": {},
   "cell_type": "markdown",
   "metadata": {},
   "source": [
    "> 함수호출 시 인자를 넣지 않아 발생"
   ]
  },
  {
   "cell_type": "code",
   "execution_count": 152,
   "metadata": {},
   "outputs": [
    {
     "ename": "TypeError",
     "evalue": "can only concatenate str (not \"int\") to str",
     "output_type": "error",
     "traceback": [
      "\u001b[1;31m---------------------------------------------------------------------------\u001b[0m",
      "\u001b[1;31mTypeError\u001b[0m                                 Traceback (most recent call last)",
      "Cell \u001b[1;32mIn[152], line 7\u001b[0m\n\u001b[0;32m      4\u001b[0m \u001b[39mdef\u001b[39;00m \u001b[39m함수\u001b[39m(a, b) :\n\u001b[0;32m      5\u001b[0m     \u001b[39mprint\u001b[39m(a \u001b[39m+\u001b[39m b)\n\u001b[1;32m----> 7\u001b[0m 함수(\u001b[39m\"\u001b[39;49m\u001b[39m안녕\u001b[39;49m\u001b[39m\"\u001b[39;49m, \u001b[39m3\u001b[39;49m)\n\u001b[0;32m      8\u001b[0m \u001b[39m# TypeError: must be str, not int\u001b[39;00m\n",
      "Cell \u001b[1;32mIn[152], line 5\u001b[0m, in \u001b[0;36m함수\u001b[1;34m(a, b)\u001b[0m\n\u001b[0;32m      4\u001b[0m \u001b[39mdef\u001b[39;00m \u001b[39m함수\u001b[39m(a, b) :\n\u001b[1;32m----> 5\u001b[0m     \u001b[39mprint\u001b[39m(a \u001b[39m+\u001b[39;49m b)\n",
      "\u001b[1;31mTypeError\u001b[0m: can only concatenate str (not \"int\") to str"
     ]
    }
   ],
   "source": [
    "# 214\n",
    "# 아래와 같은 에러가 발생하는 원인을 설명하라.\n",
    "\n",
    "def 함수(a, b) :\n",
    "    print(a + b)\n",
    "\n",
    "함수(\"안녕\", 3)\n",
    "# TypeError: must be str, not int\n"
   ]
  },
  {
   "attachments": {},
   "cell_type": "markdown",
   "metadata": {},
   "source": [
    "> 더하기 연산은 문자열끼리 또는 숫자끼리만 가능하다. 섞어서 쓰면 에러 발생한다."
   ]
  },
  {
   "cell_type": "code",
   "execution_count": 153,
   "metadata": {},
   "outputs": [],
   "source": [
    "# 215\n",
    "# 하나의 문자를 입력받아 문자열 끝에 \":D\" 스마일 문자열을 이어 붙여 출력하는 print_with_smile 함수를 정의하라.\n",
    "\n",
    "def print_with_smile(문자열):\n",
    "    print(문자열 + \":D\")\n"
   ]
  },
  {
   "cell_type": "code",
   "execution_count": 154,
   "metadata": {},
   "outputs": [
    {
     "name": "stdout",
     "output_type": "stream",
     "text": [
      "안녕하세요:D\n"
     ]
    }
   ],
   "source": [
    "# 216\n",
    "# 215에서 정의한 함수를 호출하라. 파라미터는 \"안녕하세요\"로 입력하라.\n",
    "print_with_smile(\"안녕하세요\")\n"
   ]
  },
  {
   "cell_type": "code",
   "execution_count": 155,
   "metadata": {},
   "outputs": [
    {
     "name": "stdout",
     "output_type": "stream",
     "text": [
      "39000.0\n"
     ]
    }
   ],
   "source": [
    "# 217\n",
    "# 현재 가격을 입력 받아 상한가 (30%)를 출력하는 print_upper_price 함수를 정의하라.\n",
    "def print_upper_price(price):\n",
    "    print(price * 1.3)\n",
    "    \n",
    "print_upper_price(30000)    \n"
   ]
  },
  {
   "cell_type": "code",
   "execution_count": 156,
   "metadata": {},
   "outputs": [
    {
     "name": "stdout",
     "output_type": "stream",
     "text": [
      "7\n"
     ]
    }
   ],
   "source": [
    "# 218\n",
    "# 두 개의 숫자를 입력받아 두 수의 합을 출력하는 print_sum 함수를 정의하라.\n",
    "def print_sum(a,b):\n",
    "    print(a+b)\n",
    "\n",
    "print_sum(3,4)\n"
   ]
  },
  {
   "cell_type": "code",
   "execution_count": 157,
   "metadata": {},
   "outputs": [
    {
     "name": "stdout",
     "output_type": "stream",
     "text": [
      "3 + 4 = 7\n",
      "3 - 4 = -1\n",
      "3 * 4 = 12\n",
      "3 / 4 = 0.75\n"
     ]
    }
   ],
   "source": [
    "# 219\n",
    "# 두 개의 숫자를 입력받아 합/차/곱/나눗셈을 출력하는 print_arithmetic_operation 함수를 작성하라.\n",
    "\n",
    "# print_arithmetic_operation(3, 4)\n",
    "# 3 + 4 = 7\n",
    "# 3 - 4 = -1\n",
    "# 3 * 4 = 12\n",
    "# 3 / 4 = 0.75\n",
    "\n",
    "def print_arithmetic_operation(a,b):\n",
    "    print(a,'+',b,'=', a+b)\n",
    "    print(a,'-',b,'=', a-b)\n",
    "    print(a,'*',b,'=', a*b)\n",
    "    print(a,'/',b,'=', a/b)\n",
    "\n",
    "print_arithmetic_operation(3, 4)    \n"
   ]
  },
  {
   "cell_type": "code",
   "execution_count": 159,
   "metadata": {},
   "outputs": [
    {
     "name": "stdout",
     "output_type": "stream",
     "text": [
      "13\n"
     ]
    }
   ],
   "source": [
    "# 220\n",
    "# 세 개의 숫자를 입력받아 가장 큰수를 출력하는 print_max 함수를 정의하라. 단 if 문을 사용해서 수를 비교하라.\n",
    "def print_max (a, b, c):\n",
    "    if  a < b:\n",
    "        a = b\n",
    "    if  a < c:\n",
    "        a = c\n",
    "    print(a)\n",
    "\n",
    "print_max(4, 13, 7)    \n",
    "\n"
   ]
  },
  {
   "attachments": {},
   "cell_type": "markdown",
   "metadata": {},
   "source": [
    "## 221 ~ 230 함수 (3/4)"
   ]
  },
  {
   "cell_type": "code",
   "execution_count": 160,
   "metadata": {},
   "outputs": [
    {
     "name": "stdout",
     "output_type": "stream",
     "text": [
      "nohtyp\n"
     ]
    }
   ],
   "source": [
    "# 221\n",
    "# 입력된 문자열을 역순으로 출력하는 print_reverse 함수를 정의하라.\n",
    "\n",
    "# print_reverse(\"python\")\n",
    "# nohtyp\n",
    "\n",
    "def print_reverse(word):\n",
    "    print(word[::-1])\n",
    "\n",
    "print_reverse(\"python\")\n"
   ]
  },
  {
   "cell_type": "code",
   "execution_count": 161,
   "metadata": {},
   "outputs": [
    {
     "name": "stdout",
     "output_type": "stream",
     "text": [
      "2.0\n"
     ]
    }
   ],
   "source": [
    "# 222\n",
    "# 성적 리스트를 입력 받아 평균을 출력하는 print_score 함수를 정의하라.\n",
    "\n",
    "# print_score ([1, 2, 3])\n",
    "# 2.0\n",
    "def print_score(score):\n",
    "    print(sum(score)/len(score))\n",
    "\n",
    "print_score ([1, 2, 3])\n"
   ]
  },
  {
   "cell_type": "code",
   "execution_count": 162,
   "metadata": {},
   "outputs": [
    {
     "name": "stdout",
     "output_type": "stream",
     "text": [
      "2\n",
      "10\n",
      "12\n"
     ]
    }
   ],
   "source": [
    "# 223\n",
    "# 하나의 리스트를 입력받아 짝수만 화면에 출력하는 print_even 함수를 정의하라.\n",
    "\n",
    "# print_even ([1, 3, 2, 10, 12, 11, 15])\n",
    "# 2\n",
    "# 10\n",
    "# 12\n",
    "def print_even(nums):\n",
    "    for num in nums:\n",
    "        if num % 2 == 0:\n",
    "            print(num)\n",
    "\n",
    "print_even ([1, 3, 2, 10, 12, 11, 15])\n"
   ]
  },
  {
   "cell_type": "code",
   "execution_count": 163,
   "metadata": {},
   "outputs": [
    {
     "name": "stdout",
     "output_type": "stream",
     "text": [
      "이름\n",
      "나이\n",
      "성별\n"
     ]
    }
   ],
   "source": [
    "# 224\n",
    "# 하나의 딕셔너리를 입력받아 딕셔너리의 key 값을 화면에 출력하는 print_keys 함수를 정의하라.\n",
    "\n",
    "# print_keys ({\"이름\":\"김말똥\", \"나이\":30, \"성별\":0})\n",
    "# 이름\n",
    "# 나이\n",
    "# 성별\n",
    "def print_keys(my_dict):\n",
    "    for k in my_dict.keys():\n",
    "        print(k)\n",
    "\n",
    "print_keys ({\"이름\":\"김말똥\", \"나이\":30, \"성별\":0})\n"
   ]
  },
  {
   "cell_type": "code",
   "execution_count": 164,
   "metadata": {},
   "outputs": [
    {
     "name": "stdout",
     "output_type": "stream",
     "text": [
      "[100, 130, 100, 100]\n"
     ]
    }
   ],
   "source": [
    "# 225\n",
    "# my_dict에는 날짜를 키값으로 OHLC가 리스트로 저장돼 있다.\n",
    "\n",
    "my_dict = {\"10/26\" : [100, 130, 100, 100],\n",
    "           \"10/27\" : [10, 12, 10, 11]}\n",
    "# my_dict와 날짜 키값을 입력받아 OHLC 리스트를 출력하는 print_value_by_key 함수를 정의하라.\n",
    "\n",
    "# print_value_by_key  (my_dict, \"10/26\")\n",
    "# [100, 130, 100, 100]\n",
    "\n",
    "def print_value_by_key(md, key):\n",
    "    print(my_dict[key])\n",
    "    \n",
    "print_value_by_key  (my_dict, \"10/26\")\n"
   ]
  },
  {
   "cell_type": "code",
   "execution_count": 169,
   "metadata": {},
   "outputs": [
    {
     "name": "stdout",
     "output_type": "stream",
     "text": [
      "아이엠어보\n",
      "이유알어걸\n",
      "\n"
     ]
    }
   ],
   "source": [
    "# 226\n",
    "# 입력 문자열을 한 줄에 다섯글자씩 출력하는 print_5xn(string) 함수를 작성하라.\n",
    "\n",
    "# print_5xn(\"아이엠어보이유알어걸\")\n",
    "# 아이엠어보\n",
    "# 이유알어걸\n",
    "\n",
    "def print_5xn(word):\n",
    "    chunk_num = int(len(word)/5)\n",
    "    for i in range(chunk_num +1):\n",
    "        print(word[i*5:i*5+5])\n",
    "\n",
    "print_5xn(\"아이엠어보이유알어걸\")\n"
   ]
  },
  {
   "cell_type": "code",
   "execution_count": 171,
   "metadata": {},
   "outputs": [
    {
     "name": "stdout",
     "output_type": "stream",
     "text": [
      "아이엠\n",
      "어보이\n",
      "유알어\n",
      "걸\n"
     ]
    }
   ],
   "source": [
    "\n",
    "# 227\n",
    "# 문자열과 한줄에 출력될 글자 수를 입력을 받아 한 줄에 입력된 글자 수만큼 출력하는 print_mxn(string) 함수를 작성하라.\n",
    "\n",
    "# printmxn(\"아이엠어보이유알어걸\", 3)\n",
    "# 아이엠\n",
    "# 어보이\n",
    "# 유알어\n",
    "# 걸\n",
    "\n",
    "def printmxn(word, word_len):\n",
    "    chunk_num = int(len(word)/word_len)\n",
    "    for i in range(chunk_num +1):\n",
    "        print(word[i*word_len:i*word_len + word_len])\n",
    "\n",
    "printmxn(\"아이엠어보이유알어걸\", 3)\n"
   ]
  },
  {
   "cell_type": "code",
   "execution_count": 172,
   "metadata": {},
   "outputs": [
    {
     "name": "stdout",
     "output_type": "stream",
     "text": [
      "10000000\n"
     ]
    }
   ],
   "source": [
    "# 228\n",
    "# 연봉을 입력받아 월급을 계산하는 calc_monthly_salary(annual_salary) 함수를 정의하라. \n",
    "# 회사는 연봉을 12개월로 나누어 분할 지급하며, 이 때 1원 미만은 버림한다.\n",
    "\n",
    "# calc_monthly_salary(12000000)\n",
    "# 1000000\n",
    "\n",
    "def calc_monthly_salary(amt):\n",
    "    print(amt//12)\n",
    "\n",
    "salary = int(input())\n",
    "calc_monthly_salary(salary)\n"
   ]
  },
  {
   "cell_type": "code",
   "execution_count": 173,
   "metadata": {},
   "outputs": [
    {
     "name": "stdout",
     "output_type": "stream",
     "text": [
      "왼쪽: 100\n",
      "오른쪽: 200\n"
     ]
    }
   ],
   "source": [
    "# 229\n",
    "# 아래 코드의 실행 결과를 예측하라.\n",
    "\n",
    "def my_print (a, b) :\n",
    "    print(\"왼쪽:\", a)\n",
    "    print(\"오른쪽:\", b)\n",
    "\n",
    "my_print(a=100, b=200)\n"
   ]
  },
  {
   "cell_type": "code",
   "execution_count": 174,
   "metadata": {},
   "outputs": [
    {
     "name": "stdout",
     "output_type": "stream",
     "text": [
      "왼쪽: 200\n",
      "오른쪽: 100\n"
     ]
    }
   ],
   "source": [
    "# 230\n",
    "# 아래 코드의 실행 결과를 예측하라.\n",
    "\n",
    "def my_print (a, b) :\n",
    "    print(\"왼쪽:\", a)\n",
    "    print(\"오른쪽:\", b)\n",
    "\n",
    "my_print(b=100, a=200)"
   ]
  },
  {
   "attachments": {},
   "cell_type": "markdown",
   "metadata": {},
   "source": [
    "## 231 ~ 240 함수 (4/4)"
   ]
  },
  {
   "cell_type": "code",
   "execution_count": 176,
   "metadata": {},
   "outputs": [
    {
     "ename": "NameError",
     "evalue": "name 'res231' is not defined",
     "output_type": "error",
     "traceback": [
      "\u001b[1;31m---------------------------------------------------------------------------\u001b[0m",
      "\u001b[1;31mNameError\u001b[0m                                 Traceback (most recent call last)",
      "Cell \u001b[1;32mIn[176], line 8\u001b[0m\n\u001b[0;32m      5\u001b[0m     res231 \u001b[39m=\u001b[39m n \u001b[39m+\u001b[39m \u001b[39m1\u001b[39m\n\u001b[0;32m      7\u001b[0m n_plus_1(\u001b[39m3\u001b[39m)\n\u001b[1;32m----> 8\u001b[0m \u001b[39mprint\u001b[39m (res231)\n",
      "\u001b[1;31mNameError\u001b[0m: name 'res231' is not defined"
     ]
    }
   ],
   "source": [
    "# 231\n",
    "# 아래 코드를 실행한 결과를 예상하라.\n",
    "\n",
    "def n_plus_1 (n) :\n",
    "    res231 = n + 1\n",
    "\n",
    "n_plus_1(3)\n",
    "print (res231)\n"
   ]
  },
  {
   "attachments": {},
   "cell_type": "markdown",
   "metadata": {},
   "source": [
    "> 함수 내부에서 사용한 변수는 함수 밖에서는 접근이 불가능합니다. (문법이 그래요) 함수 내부에서 계산한 값을 전달하기 위해서는 return을 사용해야 합니다."
   ]
  },
  {
   "cell_type": "code",
   "execution_count": 178,
   "metadata": {},
   "outputs": [
    {
     "name": "stdout",
     "output_type": "stream",
     "text": [
      "www.naver.com\n"
     ]
    }
   ],
   "source": [
    "# 232\n",
    "# 문자열 하나를 입력받아 인터넷 주소를 반환하는 make_url 함수를 정의하라.\n",
    "\n",
    "# make_url(\"naver\")\n",
    "# www.naver.com\n",
    "def make_url(domain):\n",
    "    return \"www.\" + domain +\".com\"\n",
    "\n",
    "url = make_url(\"naver\")\n",
    "print(url) \n"
   ]
  },
  {
   "cell_type": "code",
   "execution_count": 179,
   "metadata": {},
   "outputs": [
    {
     "name": "stdout",
     "output_type": "stream",
     "text": [
      "['a', 'b', 'c', 'd', 'e', 'f', 'g']\n"
     ]
    }
   ],
   "source": [
    "# 233\n",
    "# 문자열을 입력받아 각 문자들로 구성된 리스트로 반환하는 make_list 함수를 정의하라.\n",
    "\n",
    "# make_list(\"abcd\")\n",
    "# ['a', 'b', 'c', 'd']\n",
    "def make_list(word):\n",
    "    res = []\n",
    "    for alpha in word:\n",
    "        res.append(alpha)\n",
    "    return res \n",
    "\n",
    "print(make_list(\"abcdefg\"))   \n"
   ]
  },
  {
   "cell_type": "code",
   "execution_count": 182,
   "metadata": {},
   "outputs": [
    {
     "name": "stdout",
     "output_type": "stream",
     "text": [
      "[4, 6, 8]\n"
     ]
    }
   ],
   "source": [
    "# 234\n",
    "# 숫자로 구성된 하나의 리스트를 입력받아, 짝수들을 추출하여 리스트로 반환하는 pickup_even 함수를 구현하라.\n",
    "\n",
    "# pickup_even([3, 4, 5, 6, 7, 8])\n",
    "# [4, 6, 8]\n",
    "\n",
    "def pickup_even(nums):\n",
    "    res = []\n",
    "    for num in nums:\n",
    "        if num % 2 == 0:\n",
    "            res.append(num)\n",
    "    return res            \n",
    "\n",
    "print( pickup_even([3, 4, 5, 6, 7, 8]) )\n"
   ]
  },
  {
   "cell_type": "code",
   "execution_count": 183,
   "metadata": {},
   "outputs": [
    {
     "name": "stdout",
     "output_type": "stream",
     "text": [
      "1234567\n"
     ]
    }
   ],
   "source": [
    "# 235\n",
    "# 콤마가 포함된 문자열 숫자를 입력받아 정수로 변환하는 convert_int 함수를 정의하라.\n",
    "\n",
    "# convert_int(\"1,234,567\")\n",
    "# 1234567\n",
    "def convert_int(data):\n",
    "    return int(data.replace(',',''))\n",
    "\n",
    "print(\n",
    "    convert_int(\"1,234,567\")\n",
    ")\n"
   ]
  },
  {
   "cell_type": "code",
   "execution_count": 184,
   "metadata": {},
   "outputs": [
    {
     "name": "stdout",
     "output_type": "stream",
     "text": [
      "22\n"
     ]
    }
   ],
   "source": [
    "# 236\n",
    "# 아래 코드의 실행 결과를 예측하라.\n",
    "\n",
    "def 함수(num) :\n",
    "    return num + 4\n",
    "\n",
    "a = 함수(10)  # -> 14\n",
    "b = 함수(a)   # -> 18\n",
    "c = 함수(b)   # -> 22\n",
    "print(c)\n"
   ]
  },
  {
   "cell_type": "code",
   "execution_count": 185,
   "metadata": {},
   "outputs": [
    {
     "name": "stdout",
     "output_type": "stream",
     "text": [
      "22\n"
     ]
    }
   ],
   "source": [
    "# 237\n",
    "# 아래 코드의 실행 결과를 예측하라.\n",
    "\n",
    "def 함수(num) :\n",
    "    return num + 4\n",
    "\n",
    "c = 함수(함수(함수(10)))\n",
    "print(c)\n"
   ]
  },
  {
   "cell_type": "code",
   "execution_count": 186,
   "metadata": {},
   "outputs": [
    {
     "name": "stdout",
     "output_type": "stream",
     "text": [
      "140\n"
     ]
    }
   ],
   "source": [
    "# 238\n",
    "# 아래 코드의 실행 결과를 예측하라.\n",
    "\n",
    "def 함수1(num) :\n",
    "    return num + 4\n",
    "\n",
    "def 함수2(num) :\n",
    "    return num * 10\n",
    "\n",
    "a = 함수1(10)\n",
    "c = 함수2(a)\n",
    "print(c)\n"
   ]
  },
  {
   "cell_type": "code",
   "execution_count": 187,
   "metadata": {},
   "outputs": [
    {
     "name": "stdout",
     "output_type": "stream",
     "text": [
      "16\n"
     ]
    }
   ],
   "source": [
    "# 239\n",
    "# 아래 코드의 실행 결과를 예측하라.\n",
    "\n",
    "def 함수1(num) :\n",
    "    return num + 4\n",
    "\n",
    "def 함수2(num) :\n",
    "    num = num + 2\n",
    "    return 함수1(num)\n",
    "\n",
    "c = 함수2(10)\n",
    "print(c)\n"
   ]
  },
  {
   "cell_type": "code",
   "execution_count": 188,
   "metadata": {},
   "outputs": [
    {
     "name": "stdout",
     "output_type": "stream",
     "text": [
      "28\n"
     ]
    }
   ],
   "source": [
    "# 240\n",
    "# 아래 코드의 실행 결과를 예측하라.\n",
    "\n",
    "def 함수0(num) :\n",
    "    return num * 2\n",
    "\n",
    "def 함수1(num) :\n",
    "    return 함수0(num + 2)\n",
    "\n",
    "def 함수2(num) :\n",
    "    num = num + 10\n",
    "    return 함수1(num)\n",
    "\n",
    "c = 함수2(2)\n",
    "print(c)"
   ]
  },
  {
   "attachments": {},
   "cell_type": "markdown",
   "metadata": {},
   "source": [
    "# 10. 파이썬 모듈\n",
    "* 파이썬 모듈은 파이썬 파일을 의미합니다. 파이썬은 다양한 분야별로 모듈을 제공합니다. 프로그램 구현에 필요한 모듈의 기초 사용법을 알아봅시다.\n",
    "\n",
    "## 241 ~ 250"
   ]
  },
  {
   "cell_type": "code",
   "execution_count": 195,
   "metadata": {},
   "outputs": [
    {
     "name": "stdout",
     "output_type": "stream",
     "text": [
      "2023-06-11 15:38:57.213319 <class 'datetime.datetime'>\n"
     ]
    }
   ],
   "source": [
    "# 241 현재시간\n",
    "# datetime 모듈을 사용해서 현재 시간을 화면에 출력해보세요.\n",
    "import datetime as dt\n",
    "now = dt.datetime.now()\n",
    "print(now, type(now))\n"
   ]
  },
  {
   "cell_type": "code",
   "execution_count": 196,
   "metadata": {},
   "outputs": [
    {
     "name": "stdout",
     "output_type": "stream",
     "text": [
      "2023-06-11 15:39:14.113011 <class 'datetime.datetime'>\n"
     ]
    }
   ],
   "source": [
    "# 242 현재시간의 타입\n",
    "# datetime 모듈의 now 함수의 리턴 값의 타입을 화면에 출력해보세요.\n",
    "import datetime as dt\n",
    "now = dt.datetime.now()\n",
    "print(now, type(now))\n"
   ]
  },
  {
   "cell_type": "code",
   "execution_count": 203,
   "metadata": {},
   "outputs": [
    {
     "name": "stdout",
     "output_type": "stream",
     "text": [
      "2023-06-06 15:44:04.389426 <class 'datetime.timedelta'>\n",
      "2023-06-07 15:44:04.389426 <class 'datetime.timedelta'>\n",
      "2023-06-08 15:44:04.389426 <class 'datetime.timedelta'>\n",
      "2023-06-09 15:44:04.389426 <class 'datetime.timedelta'>\n",
      "2023-06-10 15:44:04.389426 <class 'datetime.timedelta'>\n"
     ]
    }
   ],
   "source": [
    "# 243 timedelta\n",
    "# datetime 모듈의 timedelta를 사용해서 오늘로부터 5일, 4일, 3일, 2일, 1일 전의 날짜를 화면에 출력해보세요.\n",
    "import datetime as dt\n",
    "now = dt.datetime.now()\n",
    "for day in range(5, 0, -1):\n",
    "    delta = dt.timedelta(day)\n",
    "    date = now - delta\n",
    "    print(date, type(delta))"
   ]
  },
  {
   "cell_type": "code",
   "execution_count": 205,
   "metadata": {},
   "outputs": [
    {
     "name": "stdout",
     "output_type": "stream",
     "text": [
      "15:47:06\n"
     ]
    }
   ],
   "source": [
    "# 244 strftime\n",
    "# 현재시간을 얻어온 후 다음과 같은 포맷으로 시간을 출력해보세요. strftime 메서드를 사용하세요.\n",
    "\n",
    "# 18:35:01 \n",
    "import datetime as dt\n",
    "\n",
    "now = dt.datetime.now()\n",
    "print(now.strftime(\"%H:%M:%S\"))\n"
   ]
  },
  {
   "cell_type": "code",
   "execution_count": 207,
   "metadata": {},
   "outputs": [
    {
     "name": "stdout",
     "output_type": "stream",
     "text": [
      "2020-05-04 00:00:00 <class 'datetime.datetime'>\n"
     ]
    }
   ],
   "source": [
    "# 245 strptime\n",
    "# datetime.datetime.strptime 메서드를 사용하면 문자열 형식의 시간을 datetime.datetime 타입의 시간 값으로 만들어줍니다. \n",
    "# \"2020-05-04\"의 문자열을 시간 타입으로 변환해보세요.\n",
    "import datetime as dt\n",
    "day = \"2020-05-04\"\n",
    "ret = dt.datetime.strptime(day, '%Y-%m-%d')\n",
    "print(ret, type(ret))"
   ]
  },
  {
   "cell_type": "code",
   "execution_count": 209,
   "metadata": {},
   "outputs": [
    {
     "name": "stdout",
     "output_type": "stream",
     "text": [
      "2023-06-11 17:28:48.490480\n",
      "2023-06-11 17:28:49.491860\n",
      "2023-06-11 17:28:50.492674\n",
      "2023-06-11 17:28:51.493006\n",
      "2023-06-11 17:28:52.493385\n",
      "2023-06-11 17:28:53.494027\n",
      "2023-06-11 17:28:54.494574\n",
      "2023-06-11 17:28:55.495087\n",
      "2023-06-11 17:28:56.495641\n",
      "2023-06-11 17:28:57.496235\n",
      "2023-06-11 17:28:58.497061\n"
     ]
    }
   ],
   "source": [
    "# 246 sleep 함수\n",
    "# time 모듈, datetime 모듈을 사용해서 1초에 한 번 현재 시간을 출력하는 코드를 작성하세요.\n",
    "import time\n",
    "import datetime\n",
    "\n",
    "cnt = 0\n",
    "while True:\n",
    "    now = datetime.datetime.now()\n",
    "    print(now)\n",
    "    cnt += 1\n",
    "    if cnt > 10:\n",
    "        break\n",
    "    time.sleep(1)\n"
   ]
  },
  {
   "cell_type": "code",
   "execution_count": 210,
   "metadata": {},
   "outputs": [
    {
     "name": "stdout",
     "output_type": "stream",
     "text": [
      "2023-06-11 17:33:13.622163\n"
     ]
    }
   ],
   "source": [
    "# 247 모듈 임포트\n",
    "# 모듈을 임포트하는 4가지 방식에 대해 설명해보세요.\n",
    "from  datetime import *\n",
    "now = datetime.now()\n",
    "print(now)"
   ]
  },
  {
   "attachments": {},
   "cell_type": "markdown",
   "metadata": {},
   "source": [
    "> 1. import datetime   -> datetime.datetime.now()\n",
    "> 2. import datetime as dt -> dt.datetime.now()\n",
    "> 3. from datetime import datetime -> datetime.now()\n",
    "> 4. from datetime import * -> datetime.now()"
   ]
  },
  {
   "cell_type": "code",
   "execution_count": 211,
   "metadata": {},
   "outputs": [
    {
     "name": "stdout",
     "output_type": "stream",
     "text": [
      "d:\\DEV\\python300제\n"
     ]
    }
   ],
   "source": [
    "# 248 os 모듈\n",
    "# os 모듈의 getcwd 함수를 호출하여 현재 디렉터리의 경로를 화면에 출력해보세요.\n",
    "import os\n",
    "pwd = os.getcwd()\n",
    "print(pwd)\n"
   ]
  },
  {
   "cell_type": "code",
   "execution_count": 213,
   "metadata": {},
   "outputs": [],
   "source": [
    "\n",
    "# 249 rename 함수\n",
    "# 바탕화면에 텍스트 파일을 하나 생성한 후 os 모듈의 rename 함수를 호출하여 해당 파일의 이름을 변경해보세요.\n",
    "import os\n",
    "os.rename(\"before.txt\",\"after.txt\")\n"
   ]
  },
  {
   "cell_type": "code",
   "execution_count": 220,
   "metadata": {},
   "outputs": [
    {
     "name": "stdout",
     "output_type": "stream",
     "text": [
      "0.0\n",
      "0.1\n",
      "0.2\n",
      "0.30000000000000004\n",
      "0.4\n",
      "0.5\n",
      "0.6000000000000001\n",
      "0.7000000000000001\n",
      "0.8\n",
      "0.9\n",
      "1.0\n",
      "1.1\n",
      "1.2000000000000002\n",
      "1.3\n",
      "1.4000000000000001\n",
      "1.5\n",
      "1.6\n",
      "1.7000000000000002\n",
      "1.8\n",
      "1.9000000000000001\n",
      "2.0\n",
      "2.1\n",
      "2.2\n",
      "2.3000000000000003\n",
      "2.4000000000000004\n",
      "2.5\n",
      "2.6\n",
      "2.7\n",
      "2.8000000000000003\n",
      "2.9000000000000004\n",
      "3.0\n",
      "3.1\n",
      "3.2\n",
      "3.3000000000000003\n",
      "3.4000000000000004\n",
      "3.5\n",
      "3.6\n",
      "3.7\n",
      "3.8000000000000003\n",
      "3.9000000000000004\n",
      "4.0\n",
      "4.1000000000000005\n",
      "4.2\n",
      "4.3\n",
      "4.4\n",
      "4.5\n",
      "4.6000000000000005\n",
      "4.7\n",
      "4.800000000000001\n",
      "4.9\n",
      "5.0\n",
      "0.0\n",
      "0.1\n",
      "0.2\n",
      "0.3\n",
      "0.4\n",
      "0.5\n",
      "0.6\n",
      "0.7\n",
      "0.8\n",
      "0.9\n",
      "1.0\n",
      "1.1\n",
      "1.2\n",
      "1.3\n",
      "1.4\n",
      "1.5\n",
      "1.6\n",
      "1.7\n",
      "1.8\n",
      "1.9\n",
      "2.0\n",
      "2.1\n",
      "2.2\n",
      "2.3\n",
      "2.4\n",
      "2.5\n",
      "2.6\n",
      "2.7\n",
      "2.8\n",
      "2.9\n",
      "3.0\n",
      "3.1\n",
      "3.2\n",
      "3.3\n",
      "3.4\n",
      "3.5\n",
      "3.6\n",
      "3.7\n",
      "3.8\n",
      "3.9\n",
      "4.0\n",
      "4.1\n",
      "4.2\n",
      "4.3\n",
      "4.4\n",
      "4.5\n",
      "4.6\n",
      "4.7\n",
      "4.8\n",
      "4.9\n"
     ]
    }
   ],
   "source": [
    "# 250 numpy\n",
    "# numpy 모듈의 arange 함수를 사용해서 0.0 부터 5.0까지 0.1씩 증가하는 값을 화면에 출력해보세요.\n",
    "import numpy as np\n",
    "for v in np.arange(0, 5.1, 0.1):\n",
    "    print(v)\n",
    "\n",
    "for v in range(0, 50):\n",
    "    print(v/10)  "
   ]
  },
  {
   "attachments": {},
   "cell_type": "markdown",
   "metadata": {},
   "source": [
    "# 11. 파이썬 클래스\n",
    "* 파이썬 클래스는 타입을 만들어내는 도구입니다. int, float, str과 같이 여러분의 새로운 타입을 만들 수 있습니다.\n",
    "\n",
    "## 251 ~ 260 클래스 (1/4)"
   ]
  },
  {
   "cell_type": "code",
   "execution_count": 221,
   "metadata": {},
   "outputs": [],
   "source": [
    "# 251 클래스, 객체, 인스턴스\n",
    "# 클래스, 객체, 인스턴스에 대해 설명해봅시다.\n"
   ]
  },
  {
   "cell_type": "code",
   "execution_count": 223,
   "metadata": {},
   "outputs": [],
   "source": [
    "# 252 클래스 정의\n",
    "# 비어있는 사람 (Human) 클래스를 \"정의\" 해보세요.\n",
    "\n",
    "class Human:\n",
    "    pass\n"
   ]
  },
  {
   "cell_type": "code",
   "execution_count": 225,
   "metadata": {},
   "outputs": [],
   "source": [
    "# 253 인스턴스 생성\n",
    "# 사람 (Human) 클래스의 인스턴스를 \"생성\" 하고 이를 areum 변수로 바인딩해보세요.\n",
    "class Human:\n",
    "    pass\n",
    "\n",
    "areum = Human()\n"
   ]
  },
  {
   "cell_type": "code",
   "execution_count": 226,
   "metadata": {},
   "outputs": [
    {
     "name": "stdout",
     "output_type": "stream",
     "text": [
      "응애응애\n"
     ]
    }
   ],
   "source": [
    "# 254 클래스 생성자-1\n",
    "# 사람 (Human) 클래스에 \"응애응애\"를 출력하는 생성자를 추가하세요.\n",
    "\n",
    "# >>> areum = Human()\n",
    "# 응애응애\n",
    "class Human:\n",
    "    def __init__(self):\n",
    "        print(\"응애응애\")\n",
    "areum = Human()"
   ]
  },
  {
   "cell_type": "code",
   "execution_count": 228,
   "metadata": {},
   "outputs": [
    {
     "name": "stdout",
     "output_type": "stream",
     "text": [
      "아름\n"
     ]
    }
   ],
   "source": [
    "# 255 클래스 생성자-2\n",
    "# 사람 (Human) 클래스에 (이름, 나이, 성별)을 받는 생성자를 추가하세요.\n",
    "\n",
    "# >>> areum = Human(\"아름\", 25, \"여자\")\n",
    "class Human:\n",
    "    def __init__(self, name, age, sex):\n",
    "        self.name = name\n",
    "        self.age = age\n",
    "        self.sex = sex\n",
    "areum = Human(\"아름\", 25,\"여자\")        \n",
    "print(areum.name)\n",
    "\n"
   ]
  },
  {
   "cell_type": "code",
   "execution_count": 229,
   "metadata": {},
   "outputs": [
    {
     "name": "stdout",
     "output_type": "stream",
     "text": [
      "이름: 아름, 나이: 25, 성별: 여자\n"
     ]
    }
   ],
   "source": [
    "# 256 인스턴스 속성에 접근\n",
    "# 255에서 생성한 인스턴스의 이름, 나이, 성별을 출력하세요. \n",
    "# 인스턴스 변수에 접근하여 값을 출력하면 됩니다.\n",
    "\n",
    "# 이름: 조아름, 나이: 25, 성별: 여자\n",
    "# 인스턴스 변수에 접근하여 값을 가져오는 예\n",
    "\n",
    "# >>> areum.age\n",
    "# 25\n",
    "class Human:\n",
    "    def __init__(self, name, age, sex):\n",
    "        self.name = name\n",
    "        self.age = age\n",
    "        self.sex = sex\n",
    "areum = Human(\"아름\", 25,\"여자\")        \n",
    "print(\"이름: {}, 나이: {}, 성별: {}\".format(areum.name, areum.age, areum.sex))\n"
   ]
  },
  {
   "cell_type": "code",
   "execution_count": 231,
   "metadata": {},
   "outputs": [
    {
     "name": "stdout",
     "output_type": "stream",
     "text": [
      "이름: 아름, 나이: 25, 성별: 여자\n"
     ]
    }
   ],
   "source": [
    "# 257 클래스 메소드 - 1\n",
    "# 사람 (Human) 클래스에서 이름, 나이, 성별을 출력하는 who() 메소드를 추가하세요.\n",
    "\n",
    "# >>> areum.who()\n",
    "# 이름: 조아름, 나이: 25, 성별: 여자\n",
    "class Human:\n",
    "    def __init__(self, name, age, sex):\n",
    "        self.name = name\n",
    "        self.age = age\n",
    "        self.sex = sex\n",
    "    def who(self):\n",
    "        print(\"이름: {}, 나이: {}, 성별: {}\".format(self.name, self.age, self.sex))\n",
    "\n",
    "areum = Human(\"아름\", 25,\"여자\")        \n",
    "areum.who()\n"
   ]
  },
  {
   "cell_type": "code",
   "execution_count": 232,
   "metadata": {},
   "outputs": [
    {
     "name": "stdout",
     "output_type": "stream",
     "text": [
      "이름: 아름, 나이: 25, 성별: 여자\n"
     ]
    }
   ],
   "source": [
    "# 258 클래스 메소드 - 2\n",
    "# 사람 (Human) 클래스에 (이름, 나이, 성별)을 받는 setInfo 메소드를 추가하세요.\n",
    "\n",
    "# >>> areum = Human(\"모름\", 0, \"모름\")\n",
    "# >>> areum.setInfo(\"아름\", 25, \"여자\")\n",
    "class Human:\n",
    "    def __init__(self, name, age, sex):\n",
    "        self.name = name\n",
    "        self.age = age\n",
    "        self.sex = sex\n",
    "    def who(self):\n",
    "        print(\"이름: {}, 나이: {}, 성별: {}\".format(self.name, self.age, self.sex))\n",
    "\n",
    "    def setInfo(self, name, age, sex):\n",
    "        self.name = name\n",
    "        self.age = age\n",
    "        self.sex = sex\n",
    "\n",
    "areum = Human(\"모름\", 0,\"모름\")        \n",
    "areum.setInfo(\"아름\", 25,\"여자\")\n",
    "areum.who()\n"
   ]
  },
  {
   "cell_type": "code",
   "execution_count": 236,
   "metadata": {},
   "outputs": [
    {
     "name": "stdout",
     "output_type": "stream",
     "text": [
      "나의 죽음을 알리지 말라\n"
     ]
    }
   ],
   "source": [
    "# 259 클래스 소멸자\n",
    "# 사람 (human) 클래스에 \"나의 죽음을 알리지 말라\"를 출력하는 소멸자를 추가하세요.\n",
    "\n",
    "# >>> areum = Human(\"아름\", 25, \"여자\")\n",
    "# >>> del areum\n",
    "# 나의 죽음을 알리지 말라\n",
    "class Human:\n",
    "    def __init__(self, name, age, sex):\n",
    "        self.name = name\n",
    "        self.age = age\n",
    "        self.sex = sex\n",
    "    def who(self):\n",
    "        print(\"이름: {}, 나이: {}, 성별: {}\".format(self.name, self.age, self.sex))\n",
    "\n",
    "    def setInfo(self, name, age, sex):\n",
    "        self.name = name\n",
    "        self.age = age\n",
    "        self.sex = sex\n",
    "    def __del__(self):\n",
    "        print(\"나의 죽음을 알리지 말라\")\n",
    "areum = Human(\"아름\", 25,\"여자\")\n",
    "del areum"
   ]
  },
  {
   "cell_type": "code",
   "execution_count": 239,
   "metadata": {},
   "outputs": [
    {
     "ename": "AttributeError",
     "evalue": "type object 'OMG' has no attribute 'pring'",
     "output_type": "error",
     "traceback": [
      "\u001b[1;31m---------------------------------------------------------------------------\u001b[0m",
      "\u001b[1;31mAttributeError\u001b[0m                            Traceback (most recent call last)",
      "Cell \u001b[1;32mIn[239], line 16\u001b[0m\n\u001b[0;32m      8\u001b[0m \u001b[39m# >>> >>> myStock = OMG()\u001b[39;00m\n\u001b[0;32m      9\u001b[0m \u001b[39m# >>> myStock.print()\u001b[39;00m\n\u001b[0;32m     10\u001b[0m \u001b[39m# TypeError Traceback (most recent call last)\u001b[39;00m\n\u001b[1;32m   (...)\u001b[0m\n\u001b[0;32m     13\u001b[0m \n\u001b[0;32m     14\u001b[0m \u001b[39m# TypeError: print() takes 0 positional arguments but 1 was given\u001b[39;00m\n\u001b[0;32m     15\u001b[0m myStock \u001b[39m=\u001b[39m OMG()\n\u001b[1;32m---> 16\u001b[0m OMG\u001b[39m.\u001b[39;49mpring(myStock)\n\u001b[0;32m     17\u001b[0m \u001b[39m# myStock.print()\u001b[39;00m\n",
      "\u001b[1;31mAttributeError\u001b[0m: type object 'OMG' has no attribute 'pring'"
     ]
    }
   ],
   "source": [
    "# 260 에러의 원인\n",
    "# 아래와 같은 에러가 발생한 원인에 대해 설명하세요.\n",
    "\n",
    "class OMG : \n",
    "    def print() :\n",
    "        print(\"Oh my god\")\n",
    "\n",
    "# >>> >>> myStock = OMG()\n",
    "# >>> myStock.print()\n",
    "# TypeError Traceback (most recent call last)\n",
    "# <ipython-input-233-c85c04535b22> in <module>()\n",
    "# ----> myStock.print()\n",
    "\n",
    "# TypeError: print() takes 0 positional arguments but 1 was given\n",
    "myStock = OMG()\n",
    "myStock.print()  # OMG.print(myStock)\n",
    "\n"
   ]
  },
  {
   "attachments": {},
   "cell_type": "markdown",
   "metadata": {},
   "source": [
    "> print함수는 인자 값을 받을 수 없음. 그런데 OMG.print(myStock) 형태가 되어 인자가 하나가 넘어가게 되어 에러가 발생함"
   ]
  },
  {
   "attachments": {},
   "cell_type": "markdown",
   "metadata": {},
   "source": [
    "## 261 ~ 270 클래스 (2/4)"
   ]
  },
  {
   "cell_type": "code",
   "execution_count": 240,
   "metadata": {},
   "outputs": [],
   "source": [
    "# 261 Stock 클래스 생성\n",
    "# 주식 종목에 대한 정보를 저장하는 Stock 클래스를 정의해보세요. \n",
    "# 클래스는 속성과 메서드를 갖고 있지 않습니다.\n",
    "class Stock:\n",
    "    pass\n"
   ]
  },
  {
   "cell_type": "code",
   "execution_count": 243,
   "metadata": {},
   "outputs": [
    {
     "name": "stdout",
     "output_type": "stream",
     "text": [
      "삼성전자\n",
      "005930\n"
     ]
    }
   ],
   "source": [
    "# 262 생성자\n",
    "# Stock 클래스의 객체가 생성될 때 종목명과 종목코드를 입력 받을 수 있도록 생성자를 정의해보세요.\n",
    "class Stock:\n",
    "    def __init__(self, name, code):\n",
    "        self.name = name\n",
    "        self.code = code\n",
    "\n",
    "삼성 = Stock(\"삼성전자\", \"005930\")\n",
    "print(삼성.name)\n",
    "print(삼성.code)\n"
   ]
  },
  {
   "cell_type": "code",
   "execution_count": 246,
   "metadata": {},
   "outputs": [
    {
     "name": "stdout",
     "output_type": "stream",
     "text": [
      "삼성전자\n",
      "None\n"
     ]
    }
   ],
   "source": [
    "# 263 메서드\n",
    "# 객체에 종목명을 입력할 수 있는 set_name 메서드를 추가해보세요.\n",
    "class Stock:\n",
    "    def __init__(self, name, code):\n",
    "        self.name = name\n",
    "        self.code = code\n",
    "    def set_name(self, name):\n",
    "        self.name = name\n",
    "\n",
    "a = Stock(None, None)\n",
    "a.set_name(\"삼성전자\")\n",
    "print(a.name)\n",
    "print(a.code)"
   ]
  },
  {
   "cell_type": "code",
   "execution_count": 247,
   "metadata": {},
   "outputs": [
    {
     "name": "stdout",
     "output_type": "stream",
     "text": [
      "None\n",
      "005930\n"
     ]
    }
   ],
   "source": [
    "# 264 메서드\n",
    "# 객체에 종목코드를 입력할 수 있는 set_code 메서드를 추가해보세요.\n",
    "class Stock:\n",
    "    def __init__(self, name, code):\n",
    "        self.name = name\n",
    "        self.code = code\n",
    "    def set_name(self, name):\n",
    "        self.name = name\n",
    "    def set_code(self, code):\n",
    "        self.code = code\n",
    "\n",
    "\n",
    "a = Stock(None, None)\n",
    "a.set_code(\"005930\")\n",
    "\n",
    "print(a.name)\n",
    "print(a.code)\n"
   ]
  },
  {
   "cell_type": "code",
   "execution_count": 248,
   "metadata": {},
   "outputs": [
    {
     "name": "stdout",
     "output_type": "stream",
     "text": [
      "삼성전자\n",
      "005930\n"
     ]
    }
   ],
   "source": [
    "\n",
    "# 265 메서드\n",
    "# 종목명과 종목코드를 리턴하는 get_name, get_code 메서드를 추가하세요. 해당 메서드를 사용하여 종목명과 종목코드를 얻고 이를 출력해보세요.\n",
    "\n",
    "class Stock:\n",
    "    def __init__(self, name, code):\n",
    "        self.name = name\n",
    "        self.code = code\n",
    "    def set_name(self, name):\n",
    "        self.name = name\n",
    "    def set_code(self, code):\n",
    "        self.code = code\n",
    "    def get_name(self):\n",
    "        return self.name\n",
    "    def get_code(self):\n",
    "        return self.code\n",
    "\n",
    "\n",
    "삼성 = Stock(\"삼성전자\", \"005930\")\n",
    "print(삼성.get_name())\n",
    "print(삼성.get_code())\n"
   ]
  },
  {
   "cell_type": "code",
   "execution_count": 249,
   "metadata": {},
   "outputs": [],
   "source": [
    "# 266 객체의 속성값 업데이트\n",
    "# 생성자에서 종목명, 종목코드, PER, PBR, 배당수익률을 입력 받을 수 있도록 생성자를 수정하세요. \n",
    "# PER, PBR, 배당수익률은 float 타입입니다.\n",
    "\n",
    "class Stock:\n",
    "    def __init__(self, name, code, per, pbr, profit_ratio):\n",
    "        self.name = name\n",
    "        self.code = code\n",
    "        self.per = per\n",
    "        self.pbr = pbr\n",
    "        self.profit_ratio = profit_ratio\n",
    "\n",
    "    def set_name(self, name):\n",
    "        self.name = name\n",
    "    def set_code(self, code):\n",
    "        self.code = code\n",
    "    def get_name(self):\n",
    "        return self.name\n",
    "    def get_code(self):\n",
    "        return self.code\n"
   ]
  },
  {
   "cell_type": "code",
   "execution_count": 254,
   "metadata": {},
   "outputs": [
    {
     "name": "stdout",
     "output_type": "stream",
     "text": [
      "삼성전자\n",
      "005930\n",
      "15.79\n",
      "1.33\n",
      "2.83\n"
     ]
    }
   ],
   "source": [
    "# 267 객체 생성\n",
    "# 266번에서 정의한 생성자를 통해 다음 정보를 갖는 객체를 생성해보세요.\n",
    "\n",
    "# 항목\t정보\n",
    "# 종목명\t삼성전자\n",
    "# 종목코드\t005930\n",
    "# PER\t15.79\n",
    "# PBR\t1.33\n",
    "# 배당수익률\t2.83\n",
    "class Stock:\n",
    "    def __init__(self, name, code, per, pbr, dividend):\n",
    "        self.name = name\n",
    "        self.code = code\n",
    "        self.per = per\n",
    "        self.pbr = pbr\n",
    "        self.dividend = dividend\n",
    "\n",
    "    def set_name(self, name):\n",
    "        self.name = name\n",
    "    def set_code(self, code):\n",
    "        self.code = code\n",
    "    def get_name(self):\n",
    "        return self.name\n",
    "    def get_code(self):\n",
    "        return self.code\n",
    "    \n",
    "a = Stock(\"삼성전자\", \"005930\", 15.79,1.33, 2.83)\n",
    "print(a.get_name())\n",
    "print(a.get_code())\n",
    "print(a.per)\n",
    "print(a.pbr)\n",
    "print(a.dividend)\n"
   ]
  },
  {
   "cell_type": "code",
   "execution_count": 255,
   "metadata": {},
   "outputs": [
    {
     "name": "stdout",
     "output_type": "stream",
     "text": [
      "삼성전자\n",
      "005930\n",
      "15.79\n",
      "1.33\n",
      "2.83\n"
     ]
    }
   ],
   "source": [
    "# 268 객체의 속성 수정\n",
    "# PER, PBR, 배당수익률은 변경될 수 있는 값입니다. \n",
    "# 이 값을 변경할 때 사용하는 set_per, set_pbr, set_dividend 메서드를 추가하세요.\n",
    "class Stock:\n",
    "    def __init__(self, name, code, per, pbr, dividend):\n",
    "        self.name = name\n",
    "        self.code = code\n",
    "        self.per = per\n",
    "        self.pbr = pbr\n",
    "        self.dividend = dividend\n",
    "\n",
    "    def set_name(self, name):\n",
    "        self.name = name\n",
    "    def set_code(self, code):\n",
    "        self.code = code\n",
    "    def set_per(self, per):\n",
    "        self.per = per\n",
    "    def set_pbr(self, pbr): \n",
    "        self.pbr\n",
    "    def set_dividend(self, dividend): \n",
    "        self.dividend\n",
    "    def get_name(self):\n",
    "        return self.name\n",
    "    def get_code(self):\n",
    "        return self.code\n",
    "    \n",
    "a = Stock(\"삼성전자\", \"005930\", 15.79,1.33, 2.83)\n",
    "print(a.get_name())\n",
    "print(a.get_code())\n",
    "print(a.per)\n",
    "print(a.pbr)\n",
    "print(a.dividend)\n"
   ]
  },
  {
   "cell_type": "code",
   "execution_count": 257,
   "metadata": {},
   "outputs": [
    {
     "name": "stdout",
     "output_type": "stream",
     "text": [
      "삼성전자\n",
      "005930\n",
      "12.75\n",
      "1.33\n",
      "2.83\n"
     ]
    }
   ],
   "source": [
    "# 269 객체의 속성 수정\n",
    "# 267번에서 생성한 객체에 set_per 메서드를 호출하여 per 값을 12.75로 수정해보세요.\n",
    "class Stock:\n",
    "    def __init__(self, name, code, per, pbr, dividend):\n",
    "        self.name = name\n",
    "        self.code = code\n",
    "        self.per = per\n",
    "        self.pbr = pbr\n",
    "        self.dividend = dividend\n",
    "\n",
    "    def set_name(self, name):\n",
    "        self.name = name\n",
    "    def set_code(self, code):\n",
    "        self.code = code\n",
    "    def set_per(self, per):\n",
    "        self.per = per\n",
    "    def set_pbr(self, pbr): \n",
    "        self.pbr\n",
    "    def set_dividend(self, dividend): \n",
    "        self.dividend\n",
    "    def get_name(self):\n",
    "        return self.name\n",
    "    def get_code(self):\n",
    "        return self.code\n",
    "    \n",
    "a = Stock(\"삼성전자\", \"005930\", 15.79,1.33, 2.83)\n",
    "a.set_per(12.75)\n",
    "print(a.get_name())\n",
    "print(a.get_code())\n",
    "print(a.per)\n",
    "print(a.pbr)\n",
    "print(a.dividend)\n"
   ]
  },
  {
   "cell_type": "code",
   "execution_count": 258,
   "metadata": {},
   "outputs": [
    {
     "name": "stdout",
     "output_type": "stream",
     "text": [
      "005930 15.79\n",
      "005380 8.7\n",
      "0056570 317.34\n"
     ]
    }
   ],
   "source": [
    "# 270 여러 종목의 객체 생성\n",
    "# 아래의 표를 참조하여 3종목에 대해 객체를 생성하고 이를 파이썬 리스트에 저장하세요. \n",
    "# 파이썬 리스트에 저장된 각 종목에 대해 for 루프를 통해 종목코드와 PER을 출력해보세요.\n",
    "\n",
    "# 종목명\t종목코드\tPER\tPBR\t배당수익률\n",
    "# 삼성전자\t005930\t15.79\t1.33\t2.83\n",
    "# 현대차\t005380\t8.70\t0.35\t4.27\n",
    "# LG전자\t066570\t317.34\t0.69\t1.37\n",
    "class Stock:\n",
    "    def __init__(self, name, code, per, pbr, dividend):\n",
    "        self.name = name\n",
    "        self.code = code\n",
    "        self.per = per\n",
    "        self.pbr = pbr\n",
    "        self.dividend = dividend\n",
    "\n",
    "    def set_name(self, name):\n",
    "        self.name = name\n",
    "    def set_code(self, code):\n",
    "        self.code = code\n",
    "    def set_per(self, per):\n",
    "        self.per = per\n",
    "    def set_pbr(self, pbr): \n",
    "        self.pbr\n",
    "    def set_dividend(self, dividend): \n",
    "        self.dividend\n",
    "    def get_name(self):\n",
    "        return self.name\n",
    "    def get_code(self):\n",
    "        return self.code\n",
    "    def get_per(self):\n",
    "        return self.per\n",
    "    \n",
    "o = []    \n",
    "o.append(Stock(\"삼성전자\", \"005930\", 15.79, 1.33, 2.83))\n",
    "o.append(Stock(\"현대차\", \"005380\", 8.70, 0.35, 4.27))\n",
    "o.append(Stock(\"LG전자\", \"0056570\", 317.34, 0.69, 1.37))\n",
    "\n",
    "for a in o:\n",
    "    print(a.get_code(), a.get_per())\n"
   ]
  },
  {
   "attachments": {},
   "cell_type": "markdown",
   "metadata": {},
   "source": [
    "# 271 ~ 280 클래스 (3/4)"
   ]
  },
  {
   "cell_type": "code",
   "execution_count": 259,
   "metadata": {},
   "outputs": [
    {
     "name": "stdout",
     "output_type": "stream",
     "text": [
      "SC은행 모름 111-11-111111 0\n"
     ]
    }
   ],
   "source": [
    "# 271 Account 클래스\n",
    "# 은행에 가서 계좌를 개설하면 은행이름, 예금주, 계좌번호, 잔액이 설정됩니다. \n",
    "# Account 클래스를 생성한 후 생성자를 구현해보세요. \n",
    "# 생성자에서는 예금주와 초기 잔액만 입력 받습니다. \n",
    "# 은행이름은 SC은행으로 계좌번호는 3자리-2자리-6자리 형태로 랜덤하게 생성됩니다.\n",
    "\n",
    "# 은행이름: SC은행\n",
    "# 계좌번호: 111-11-111111\n",
    "class Account:\n",
    "    def __init__(self, 은행이름, 예금주, 계좌번호, 잔액):\n",
    "        self.은행이름 = 은행이름\n",
    "        self.예금주 = 예금주\n",
    "        self.계좌번호 = 계좌번호\n",
    "        self.잔액 = 잔액\n",
    "a = Account('SC은행','모름','111-11-111111',0)        \n",
    "print(a.은행이름, a.예금주, a.계좌번호, a.잔액)"
   ]
  },
  {
   "cell_type": "code",
   "execution_count": 264,
   "metadata": {},
   "outputs": [
    {
     "name": "stdout",
     "output_type": "stream",
     "text": [
      "2\n"
     ]
    }
   ],
   "source": [
    "# 272 클래스 변수\n",
    "# 클래스 변수를 사용해서 Account 클래스로부터 생성된 계좌 객체의 개수를 저장하세요.\n",
    "class Account:\n",
    "    account_cnt = 0\n",
    "    def __init__(self, 은행이름, 예금주, 계좌번호, 잔액):\n",
    "        self.은행이름 = 은행이름\n",
    "        self.예금주 = 예금주\n",
    "        self.계좌번호 = 계좌번호\n",
    "        self.잔액 = 잔액\n",
    "        Account.account_cnt += 1\n",
    "\n",
    "a = Account('SC은행','박에스','111-11-111111',20)\n",
    "b = Account('우리은행','김우리','222-22-111111',10)\n",
    "\n",
    "print(Account.account_cnt)\n"
   ]
  },
  {
   "cell_type": "code",
   "execution_count": 273,
   "metadata": {},
   "outputs": [
    {
     "name": "stdout",
     "output_type": "stream",
     "text": [
      "2\n",
      "2\n"
     ]
    }
   ],
   "source": [
    "# 273 클래스 변수 출력\n",
    "# Account 클래스로부터 생성된 계좌의 개수를 출력하는 get_account_num() 메서드를 추가하세요.\n",
    "class Account:\n",
    "    account_cnt = 0\n",
    "    def __init__(self, 은행이름, 예금주, 계좌번호, 잔액):\n",
    "        self.은행이름 = 은행이름\n",
    "        self.예금주 = 예금주\n",
    "        self.계좌번호 = 계좌번호\n",
    "        self.잔액 = 잔액\n",
    "        Account.account_cnt += 1\n",
    "        \n",
    "    @classmethod\n",
    "    def get_account_cnt(cls):\n",
    "        return cls.account_cnt\n",
    "\n",
    "a = Account('SC은행','박에스','111-11-111111',20)\n",
    "b = Account('우리은행','김우리','222-22-111111',10)\n",
    "\n",
    "print(Account.get_account_cnt())\n",
    "print(a.get_account_cnt())"
   ]
  },
  {
   "cell_type": "code",
   "execution_count": 274,
   "metadata": {},
   "outputs": [
    {
     "name": "stdout",
     "output_type": "stream",
     "text": [
      "50\n",
      "예금 액수가 부족합니다.\n"
     ]
    }
   ],
   "source": [
    "# 274 입금 메서드\n",
    "# Account 클래스에 입금을 위한 deposit 메서드를 추가하세요. 입금은 최소 1원 이상만 가능합니다.\n",
    "class Account:\n",
    "    account_cnt = 0\n",
    "    def __init__(self, 은행이름, 예금주, 계좌번호, 잔액):\n",
    "        self.은행이름 = 은행이름\n",
    "        self.예금주 = 예금주\n",
    "        self.계좌번호 = 계좌번호\n",
    "        self.잔액 = 잔액\n",
    "        Account.account_cnt += 1\n",
    "        \n",
    "    @classmethod\n",
    "    def get_account_cnt(cls):\n",
    "        return cls.account_cnt\n",
    "    \n",
    "    def deposit(self, amount):\n",
    "        if amount >= 1:\n",
    "            self.잔액 += amount\n",
    "            return 0\n",
    "        else:\n",
    "            return 1 # 최소금액 부족\n",
    "        \n",
    "\n",
    "a = Account('SC은행','박에스','111-11-111111',20)\n",
    "if a.deposit(30) == 0:\n",
    "    print(a.잔액)\n",
    "else:\n",
    "    print(\"예금 액수가 부족합니다.\")\n",
    "\n",
    "if a.deposit(0) == 0:\n",
    "    print(a.잔액)\n",
    "else:\n",
    "    print(\"예금 액수가 부족합니다.\")\n"
   ]
  },
  {
   "cell_type": "code",
   "execution_count": 276,
   "metadata": {},
   "outputs": [
    {
     "name": "stdout",
     "output_type": "stream",
     "text": [
      "잔액: 10\n",
      "잔액이 부족합니다. 10 < 20\n"
     ]
    }
   ],
   "source": [
    "# 275 출금 메서드\n",
    "# Account 클래스에 출금을 위한 withdraw 메서드를 추가하세요. \n",
    "# 출금은 계좌의 잔고 이상으로 출금할 수는 없습니다.\n",
    "class Account:\n",
    "    account_cnt = 0\n",
    "    def __init__(self, 은행이름, 예금주, 계좌번호, 잔액):\n",
    "        self.은행이름 = 은행이름\n",
    "        self.예금주 = 예금주\n",
    "        self.계좌번호 = 계좌번호\n",
    "        self.잔액 = 잔액\n",
    "        Account.account_cnt += 1\n",
    "        \n",
    "    @classmethod\n",
    "    def get_account_cnt(cls):\n",
    "        return cls.account_cnt\n",
    "    \n",
    "    def deposit(self, amount):\n",
    "        if amount >= 1:\n",
    "            self.잔액 += amount\n",
    "            print(\"잔액:\", self.잔액)\n",
    "        else:\n",
    "            print(\"예금하시려는 금액이 부족합니다(1원이상)\")\n",
    "\n",
    "    def withdraw(self, amount):\n",
    "        if self.잔액 >= amount:\n",
    "            self.잔액 -= amount\n",
    "            print(\"잔액:\", self.잔액)\n",
    "        else:\n",
    "            print(\"잔액이 부족합니다.\", self.잔액, '<', amount)\n",
    "\n",
    "a = Account('SC은행','박에스','111-11-111111',20)\n",
    "\n",
    "a.withdraw(10)\n",
    "a.withdraw(20)\n"
   ]
  },
  {
   "cell_type": "code",
   "execution_count": 279,
   "metadata": {},
   "outputs": [
    {
     "name": "stdout",
     "output_type": "stream",
     "text": [
      "은행이름:  SC은행\n",
      "예금주:  박에스\n",
      "계좌번호:  111-11-111111\n",
      "잔고:  20,000\n"
     ]
    }
   ],
   "source": [
    "# 276 정보 출력 메서드\n",
    "# Account 인스턴스에 저장된 정보를 출력하는 display_info() 메서드를 추가하세요. \n",
    "# 잔고는 세자리마다 쉼표를 출력하세요.\n",
    "\n",
    "# 은행이름: SC은행\n",
    "# 예금주: 파이썬\n",
    "# 계좌번호: 111-11-111111\n",
    "# 잔고: 10,000원\n",
    "class Account:\n",
    "    account_cnt = 0\n",
    "    def __init__(self, 은행이름, 예금주, 계좌번호, 잔액):\n",
    "        self.은행이름 = 은행이름\n",
    "        self.예금주 = 예금주\n",
    "        self.계좌번호 = 계좌번호\n",
    "        self.잔액 = 잔액\n",
    "        Account.account_cnt += 1\n",
    "        \n",
    "    @classmethod\n",
    "    def get_account_cnt(cls):\n",
    "        return cls.account_cnt\n",
    "    \n",
    "    def deposit(self, amount):\n",
    "        if amount >= 1:\n",
    "            self.잔액 += amount\n",
    "            print(\"잔액:\", self.잔액)\n",
    "        else:\n",
    "            print(\"예금하시려는 금액이 부족합니다(1원이상)\")\n",
    "\n",
    "    def withdraw(self, amount):\n",
    "        if self.잔액 >= amount:\n",
    "            self.잔액 -= amount\n",
    "            print(\"잔액:\", self.잔액)\n",
    "        else:\n",
    "            print(\"잔액이 부족합니다.\", self.잔액, '<', amount)\n",
    "\n",
    "    def display_info(self):\n",
    "        print(\"은행이름: \", self.은행이름)\n",
    "        print(\"예금주: \", self.예금주)\n",
    "        print(\"계좌번호: \", self.계좌번호)\n",
    "        print(\"잔고: \", f\"{self.잔액:,}\")\n",
    "\n",
    "a = Account('SC은행','박에스','111-11-111111',20000)\n",
    "a.display_info()\n"
   ]
  },
  {
   "cell_type": "code",
   "execution_count": 283,
   "metadata": {},
   "outputs": [
    {
     "name": "stdout",
     "output_type": "stream",
     "text": [
      "은행이름:  SC은행\n",
      "예금주:  박에스\n",
      "계좌번호:  111-11-111111\n",
      "잔고:  20,000\n",
      "입금횟수:  1\n",
      "잔액: 30000\n",
      "잔액: 50000\n",
      "잔액: 80000\n",
      "잔액: 120000\n",
      "이자지급:  1200.0\n",
      "이자후잔액: 121200.0\n",
      "잔액: 171200.0\n",
      "은행이름:  SC은행\n",
      "예금주:  박에스\n",
      "계좌번호:  111-11-111111\n",
      "잔고:  171,200.0\n",
      "입금횟수:  1\n"
     ]
    }
   ],
   "source": [
    "# 277 이자 지급하기\n",
    "# 입금 횟수가 5회가 될 때 잔고를 기준으로 1%의 이자가 잔고에 추가되도록 코드를 변경해보세요.\n",
    "class Account:\n",
    "    account_cnt = 0\n",
    "    def __init__(self, 은행이름, 예금주, 계좌번호, 잔액):\n",
    "        self.은행이름 = 은행이름\n",
    "        self.예금주 = 예금주\n",
    "        self.계좌번호 = 계좌번호\n",
    "        self.잔액 = 잔액\n",
    "        self.입금횟수=1\n",
    "        Account.account_cnt += 1\n",
    "        \n",
    "    @classmethod\n",
    "    def get_account_cnt(cls):\n",
    "        return cls.account_cnt\n",
    "    \n",
    "    def deposit(self, amount):\n",
    "        if amount >= 1:\n",
    "            self.잔액 += amount\n",
    "            print(\"잔액:\", self.잔액)\n",
    "            self.입금횟수 += 1\n",
    "            if self.입금횟수 == 5:\n",
    "                print(\"이자지급: \", self.잔액*0.01)\n",
    "                self.잔액 = self.잔액 * 1.01\n",
    "                print(\"이자후잔액:\", self.잔액)\n",
    "                self.입금횟수 = 0\n",
    "        else:\n",
    "            print(\"예금하시려는 금액이 부족합니다(1원이상)\")\n",
    "\n",
    "    def withdraw(self, amount):\n",
    "        if self.잔액 >= amount:\n",
    "            self.잔액 -= amount\n",
    "            print(\"잔액:\", self.잔액)\n",
    "        else:\n",
    "            print(\"잔액이 부족합니다.\", self.잔액, '<', amount)\n",
    "\n",
    "    def display_info(self):\n",
    "        print(\"은행이름: \", self.은행이름)\n",
    "        print(\"예금주: \", self.예금주)\n",
    "        print(\"계좌번호: \", self.계좌번호)\n",
    "        print(\"잔고: \", f\"{self.잔액:,}\")\n",
    "        print(\"입금횟수: \", self.입금횟수)\n",
    "\n",
    "a = Account('SC은행','박에스','111-11-111111',20000)\n",
    "a.display_info()\n",
    "a.deposit(10000)\n",
    "a.deposit(20000)\n",
    "a.deposit(30000)\n",
    "a.deposit(40000)\n",
    "a.deposit(50000)\n",
    "a.display_info()\n"
   ]
  },
  {
   "cell_type": "code",
   "execution_count": 284,
   "metadata": {},
   "outputs": [
    {
     "name": "stdout",
     "output_type": "stream",
     "text": [
      "[<__main__.Account object at 0x000001DE402E7A50>, <__main__.Account object at 0x000001DE40180A90>, <__main__.Account object at 0x000001DE4017E490>]\n"
     ]
    }
   ],
   "source": [
    "\n",
    "# 278 여러 객체 생성\n",
    "# Account 클래스로부터 3개 이상 인스턴스를 생성하고 생성된 인스턴스를 리스트에 저장해보세요.\n",
    "import random\n",
    "\n",
    "\n",
    "class Account:\n",
    "    # class variable\n",
    "    account_count = 0\n",
    "\n",
    "    def __init__(self, name, balance):\n",
    "        self.deposit_count = 0\n",
    "\n",
    "        self.name = name\n",
    "        self.balance = balance\n",
    "        self.bank = \"SC은행\"\n",
    "\n",
    "        # 3-2-6\n",
    "        num1 = random.randint(0, 999)\n",
    "        num2 = random.randint(0, 99)\n",
    "        num3 = random.randint(0, 999999)\n",
    "\n",
    "        num1 = str(num1).zfill(3)  # 1 -> '1' -> '001'\n",
    "        num2 = str(num2).zfill(2)  # 1 -> '1' -> '01'\n",
    "        num3 = str(num3).zfill(6)  # 1 -> '1' -> '0000001'\n",
    "        self.account_number = num1 + '-' + num2 + '-' + num3  # 001-01-000001\n",
    "        Account.account_count += 1\n",
    "\n",
    "    @classmethod\n",
    "    def get_account_num(cls):\n",
    "        print(cls.account_count)  # Account.account_count\n",
    "\n",
    "    def deposit(self, amount):\n",
    "        if amount >= 1:\n",
    "            self.balance += amount\n",
    "\n",
    "            self.deposit_count += 1\n",
    "            if self.deposit_count % 5 == 0:         # 5, 10, 15\n",
    "                # 이자 지금\n",
    "                self.balance = (self.balance * 1.01)\n",
    "\n",
    "\n",
    "    def withdraw(self, amount):\n",
    "        if self.balance > amount:\n",
    "            self.balance -= amount\n",
    "\n",
    "    def display_info(self):\n",
    "        print(\"은행이름: \", self.bank)\n",
    "        print(\"예금주: \", self.name)\n",
    "        print(\"계좌번호: \", self.account_number)\n",
    "        print(\"잔고: \", self.balance)\n",
    "\n",
    "data = []\n",
    "k = Account(\"KIM\", 10000000)\n",
    "l = Account(\"LEE\", 10000)\n",
    "p = Account(\"PARK\", 10000)\n",
    "\n",
    "data.append(k)\n",
    "data.append(l)\n",
    "data.append(p)\n",
    "\n",
    "print(data)\n"
   ]
  },
  {
   "cell_type": "code",
   "execution_count": 285,
   "metadata": {},
   "outputs": [
    {
     "name": "stdout",
     "output_type": "stream",
     "text": [
      "은행이름:  SC은행\n",
      "예금주:  KIM\n",
      "계좌번호:  785-03-675269\n",
      "잔고:  10000000\n"
     ]
    }
   ],
   "source": [
    "# 279 객체 순회\n",
    "# 반복문을 통해 리스트에 있는 객체를 순회하면서 잔고가 100만원 이상인 고객의 정보만 출력하세요.\n",
    "import random\n",
    "\n",
    "\n",
    "class Account:\n",
    "    # class variable\n",
    "    account_count = 0\n",
    "\n",
    "    def __init__(self, name, balance):\n",
    "        self.deposit_count = 0\n",
    "\n",
    "        self.name = name\n",
    "        self.balance = balance\n",
    "        self.bank = \"SC은행\"\n",
    "\n",
    "        # 3-2-6\n",
    "        num1 = random.randint(0, 999)\n",
    "        num2 = random.randint(0, 99)\n",
    "        num3 = random.randint(0, 999999)\n",
    "\n",
    "        num1 = str(num1).zfill(3)  # 1 -> '1' -> '001'\n",
    "        num2 = str(num2).zfill(2)  # 1 -> '1' -> '01'\n",
    "        num3 = str(num3).zfill(6)  # 1 -> '1' -> '0000001'\n",
    "        self.account_number = num1 + '-' + num2 + '-' + num3  # 001-01-000001\n",
    "        Account.account_count += 1\n",
    "\n",
    "    @classmethod\n",
    "    def get_account_num(cls):\n",
    "        print(cls.account_count)  # Account.account_count\n",
    "\n",
    "    def deposit(self, amount):\n",
    "        if amount >= 1:\n",
    "            self.balance += amount\n",
    "\n",
    "            self.deposit_count += 1\n",
    "            if self.deposit_count % 5 == 0:         # 5, 10, 15\n",
    "                # 이자 지금\n",
    "                self.balance = (self.balance * 1.01)\n",
    "\n",
    "\n",
    "    def withdraw(self, amount):\n",
    "        if self.balance > amount:\n",
    "            self.balance -= amount\n",
    "\n",
    "    def display_info(self):\n",
    "        print(\"은행이름: \", self.bank)\n",
    "        print(\"예금주: \", self.name)\n",
    "        print(\"계좌번호: \", self.account_number)\n",
    "        print(\"잔고: \", self.balance)\n",
    "\n",
    "data = []\n",
    "k = Account(\"KIM\", 10000000)\n",
    "l = Account(\"LEE\", 10000)\n",
    "p = Account(\"PARK\", 10000)\n",
    "data.append(k)\n",
    "data.append(l)\n",
    "data.append(p)\n",
    "\n",
    "for c in data:\n",
    "    if c.balance >= 1000000:\n",
    "        c.display_info()\n"
   ]
  },
  {
   "cell_type": "code",
   "execution_count": 286,
   "metadata": {},
   "outputs": [
    {
     "name": "stdout",
     "output_type": "stream",
     "text": [
      "100\n",
      "200\n",
      "300\n",
      "100\n",
      "200\n"
     ]
    }
   ],
   "source": [
    "# 280 입출금 내역\n",
    "# 입금과 출금 내역이 기록되도록 코드를 업데이트 하세요. \n",
    "# 입금 내역과 출금 내역을 출력하는 deposit_history와 withdraw_history 메서드를 추가하세요.\n",
    "import random\n",
    "\n",
    "\n",
    "class Account:\n",
    "    # class variable\n",
    "    account_count = 0\n",
    "\n",
    "    def __init__(self, name, balance):\n",
    "        self.deposit_count = 0\n",
    "        self.deposit_log = []\n",
    "        self.withdraw_log = []\n",
    "\n",
    "        self.name = name\n",
    "        self.balance = balance\n",
    "        self.bank = \"SC은행\"\n",
    "\n",
    "        # 3-2-6\n",
    "        num1 = random.randint(0, 999)\n",
    "        num2 = random.randint(0, 99)\n",
    "        num3 = random.randint(0, 999999)\n",
    "\n",
    "        num1 = str(num1).zfill(3)  # 1 -> '1' -> '001'\n",
    "        num2 = str(num2).zfill(2)  # 1 -> '1' -> '01'\n",
    "        num3 = str(num3).zfill(6)  # 1 -> '1' -> '0000001'\n",
    "        self.account_number = num1 + '-' + num2 + '-' + num3  # 001-01-000001\n",
    "        Account.account_count += 1\n",
    "\n",
    "    @classmethod\n",
    "    def get_account_num(cls):\n",
    "        print(cls.account_count)  # Account.account_count\n",
    "\n",
    "    def deposit(self, amount):\n",
    "        if amount >= 1:\n",
    "            self.deposit_log.append(amount)\n",
    "            self.balance += amount\n",
    "\n",
    "            self.deposit_count += 1\n",
    "            if self.deposit_count % 5 == 0:         # 5, 10, 15\n",
    "                # 이자 지금\n",
    "                self.balance = (self.balance * 1.01)\n",
    "\n",
    "\n",
    "    def withdraw(self, amount):\n",
    "        if self.balance > amount:\n",
    "            self.withdraw_log.append(amount)\n",
    "            self.balance -= amount\n",
    "\n",
    "    def display_info(self):\n",
    "        print(\"은행이름: \", self.bank)\n",
    "        print(\"예금주: \", self.name)\n",
    "        print(\"계좌번호: \", self.account_number)\n",
    "        print(\"잔고: \", self.balance)\n",
    "\n",
    "    def withdraw_history(self):\n",
    "        for amount in self.withdraw_log:\n",
    "            print(amount)\n",
    "\n",
    "    def deposit_history(self):\n",
    "        for amount in self.deposit_log:\n",
    "            print(amount)\n",
    "\n",
    "\n",
    "k = Account(\"Kim\", 1000)\n",
    "k.deposit(100)\n",
    "k.deposit(200)\n",
    "k.deposit(300)\n",
    "k.deposit_history()\n",
    "\n",
    "k.withdraw(100)\n",
    "k.withdraw(200)\n",
    "k.withdraw_history()"
   ]
  },
  {
   "attachments": {},
   "cell_type": "markdown",
   "metadata": {},
   "source": [
    "## 281 ~ 290 클래스 (4/4)"
   ]
  },
  {
   "cell_type": "code",
   "execution_count": 287,
   "metadata": {},
   "outputs": [
    {
     "name": "stdout",
     "output_type": "stream",
     "text": [
      "2\n",
      "1000\n"
     ]
    }
   ],
   "source": [
    "# 281 클래스 정의\n",
    "# 다음 코드가 동작하도록 차 클래스를 정의하세요.\n",
    "\n",
    "# >> car = 차(2, 1000)\n",
    "# >> car.바퀴\n",
    "# 2\n",
    "# >> car.가격\n",
    "# 1000\n",
    "class 차:\n",
    "  def __init__(self, 바퀴, 가격):\n",
    "    self.바퀴=바퀴\n",
    "    self.가격=가격\n",
    "  \n",
    "car = 차(2, 1000)\n",
    "print(car.바퀴)\n",
    "print(car.가격)\n"
   ]
  },
  {
   "cell_type": "code",
   "execution_count": 288,
   "metadata": {},
   "outputs": [
    {
     "name": "stdout",
     "output_type": "stream",
     "text": [
      "2\n",
      "2000\n"
     ]
    }
   ],
   "source": [
    "# 282 클래스 상속\n",
    "# 차 클래스를 상속받은 자전차 클래스를 정의하세요.\n",
    "class 차:\n",
    "  def __init__(self, 바퀴, 가격):\n",
    "    self.바퀴=바퀴\n",
    "    self.가격=가격\n",
    "  \n",
    "class 자전차(차):\n",
    "  pass\n",
    "\n",
    "bic = 자전차(2, 2000)\n",
    "print(bic.바퀴)\n",
    "print(bic.가격)\n"
   ]
  },
  {
   "cell_type": "code",
   "execution_count": 289,
   "metadata": {},
   "outputs": [
    {
     "name": "stdout",
     "output_type": "stream",
     "text": [
      "2\n",
      "100\n"
     ]
    }
   ],
   "source": [
    "# 283 클래스 상속\n",
    "# 다음 코드가 동작하도록 자전차 클래스를 정의하세요. 단 자전차 클래스는 차 클래스를 상속받습니다.\n",
    "\n",
    "# >> bicycle = 자전차(2, 100)\n",
    "# >> bicycle.가격\n",
    "# 100\n",
    "class 차:\n",
    "  def __init__(self, 바퀴, 가격):\n",
    "    self.바퀴=바퀴\n",
    "    self.가격=가격\n",
    "  \n",
    "class 자전차(차):\n",
    "  pass\n",
    "\n",
    "bic = 자전차(2, 100)\n",
    "print(bic.바퀴)\n",
    "print(bic.가격)\n"
   ]
  },
  {
   "cell_type": "code",
   "execution_count": 291,
   "metadata": {},
   "outputs": [
    {
     "name": "stdout",
     "output_type": "stream",
     "text": [
      "시마노\n"
     ]
    }
   ],
   "source": [
    "# 284 클래스 상속\n",
    "# 다음 코드가 동작하도록 자전차 클래스를 정의하세요. 단 자전차 클래스는 차 클래스를 상속받습니다.\n",
    "\n",
    "# >> bicycle = 자전차(2, 100, \"시마노\")\n",
    "# >> bicycle.구동계\n",
    "# 시마노\n",
    "class 차:\n",
    "  def __init__(self, 바퀴, 가격, 구동계):\n",
    "    self.바퀴=바퀴\n",
    "    self.가격=가격\n",
    "    self.구동계=구동계\n",
    "  \n",
    "class 자전차(차):\n",
    "  pass\n",
    "\n",
    "bicycle = 자전차(2, 100, \"시마노\")\n",
    "print(bicycle.구동계)\n"
   ]
  },
  {
   "cell_type": "code",
   "execution_count": 292,
   "metadata": {},
   "outputs": [
    {
     "name": "stdout",
     "output_type": "stream",
     "text": [
      "바퀴수 4\n",
      "가격 1000\n"
     ]
    }
   ],
   "source": [
    "# 285 클래스 상속\n",
    "# 다음 코드가 동작하도록 차 클래스를 상속받는 자동차 클래스를 정의하세요.\n",
    "\n",
    "# >> car = 자동차(4, 1000)\n",
    "# >> car.정보()\n",
    "# 바퀴수 4\n",
    "# 가격 1000\n",
    "class 차:\n",
    "  def __init__(self, 바퀴, 가격):\n",
    "    self.바퀴=바퀴\n",
    "    self.가격=가격\n",
    "class 자동차(차):\n",
    "  def 정보(self):\n",
    "    print(\"바퀴수\", self.바퀴)\n",
    "    print(\"가격\", self.가격)\n",
    "\n",
    "car = 자동차(4, 1000)\n",
    "car.정보()\n"
   ]
  },
  {
   "cell_type": "code",
   "execution_count": 293,
   "metadata": {},
   "outputs": [
    {
     "name": "stdout",
     "output_type": "stream",
     "text": [
      "바퀴수 2\n",
      "가격 100\n"
     ]
    }
   ],
   "source": [
    "# 286 부모 클래스 생성자 호출\n",
    "# 다음 코드가 동작하도록 차 클래스를 수정하세요.\n",
    "\n",
    "# >> bicycle = 자전차(2, 100, \"시마노\")\n",
    "# >> bicycle.정보()\n",
    "# 바퀴수 2\n",
    "# 가격 100\n",
    "class 차:\n",
    "  def __init__(self, 바퀴, 가격, 구동계):\n",
    "    self.바퀴=바퀴\n",
    "    self.가격=가격\n",
    "    self.구동계=구동계\n",
    "\n",
    "class 자전차(차):\n",
    "  def 정보(self):\n",
    "    print(\"바퀴수\", self.바퀴)\n",
    "    print(\"가격\", self.가격)\n",
    "\n",
    "bicycle = 자전차(2, 100, \"시마노\")\n",
    "bicycle.정보()\n"
   ]
  },
  {
   "cell_type": "code",
   "execution_count": 294,
   "metadata": {},
   "outputs": [
    {
     "name": "stdout",
     "output_type": "stream",
     "text": [
      "바퀴수 2\n",
      "가격 100\n",
      "구동계 시마노\n"
     ]
    }
   ],
   "source": [
    "# 287 부모 클래스 메서드 호출\n",
    "# 자전차의 정보() 메서드로 구동계 정보까지 출력하도록 수정해보세요.\n",
    "\n",
    "# >> bicycle = 자전차(2, 100, \"시마노\")\n",
    "# >> bicycle.정보()\n",
    "# 바퀴수 2\n",
    "# 가격 100\n",
    "# 구동계 시마노\n",
    "class 차:\n",
    "  def __init__(self, 바퀴, 가격, 구동계):\n",
    "    self.바퀴=바퀴\n",
    "    self.가격=가격\n",
    "    self.구동계=구동계\n",
    "\n",
    "class 자전차(차):\n",
    "  def 정보(self):\n",
    "    print(\"바퀴수\", self.바퀴)\n",
    "    print(\"가격\", self.가격)\n",
    "    print(\"구동계\", self.구동계)\n",
    "\n",
    "bicycle = 자전차(2, 100, \"시마노\")\n",
    "bicycle.정보()\n"
   ]
  },
  {
   "cell_type": "code",
   "execution_count": 295,
   "metadata": {},
   "outputs": [
    {
     "name": "stdout",
     "output_type": "stream",
     "text": [
      "자식호출\n"
     ]
    }
   ],
   "source": [
    "# 288 메서드 오버라이딩\n",
    "# 다음 코드의 실행 결과를 예상해보세요.\n",
    "\n",
    "class 부모:\n",
    "  def 호출(self):\n",
    "    print(\"부모호출\")\n",
    "\n",
    "class 자식(부모):\n",
    "  def 호출(self):\n",
    "    print(\"자식호출\")\n",
    "나 = 자식()\n",
    "나.호출()\n"
   ]
  },
  {
   "cell_type": "code",
   "execution_count": 296,
   "metadata": {},
   "outputs": [
    {
     "name": "stdout",
     "output_type": "stream",
     "text": [
      "자식생성\n"
     ]
    }
   ],
   "source": [
    "# 289 생성자\n",
    "# 다음 코드의 실행 결과를 예상해보세요.\n",
    "\n",
    "class 부모:\n",
    "  def __init__(self):\n",
    "    print(\"부모생성\")\n",
    "\n",
    "class 자식(부모):\n",
    "  def __init__(self):\n",
    "    print(\"자식생성\")\n",
    "나 = 자식()\n"
   ]
  },
  {
   "cell_type": "code",
   "execution_count": 299,
   "metadata": {},
   "outputs": [
    {
     "name": "stdout",
     "output_type": "stream",
     "text": [
      "자식생성\n",
      "<class '__main__.자식'>\n",
      "부모생성\n",
      "<class 'super'>\n"
     ]
    }
   ],
   "source": [
    "# 290 부모클래스 생성자 호출\n",
    "# 다음 코드의 실행 결과를 예상해보세요.\n",
    "\n",
    "class 부모:\n",
    "  def __init__(self):\n",
    "    print(\"부모생성\")\n",
    "\n",
    "class 자식(부모):\n",
    "  def __init__(self):\n",
    "    print(\"자식생성\")\n",
    "    print(type(self))\n",
    "    super().__init__()\n",
    "    print(type(super()))\n",
    "\n",
    "나 = 자식()"
   ]
  },
  {
   "attachments": {},
   "cell_type": "markdown",
   "metadata": {},
   "source": [
    "# 12. 파일 입출력과 예외처리\n",
    "> 파이썬을 이용한 컴퓨터에 저장된 파일을 읽거나 반대로 파일을 쓸 수 있습니다. 프로그램을 작성하다보면 예외가 발생할 수 있는데 이를 잘 처리하는 것이 중요합니다.\n",
    "\n",
    "## 291 ~ 300 파일 입출력"
   ]
  },
  {
   "cell_type": "code",
   "execution_count": 301,
   "metadata": {},
   "outputs": [],
   "source": [
    "# 291 파일 쓰기\n",
    "# 바탕화면에 '매수종목1.txt' 파일을 생성한 후 다음과 같이 종목코드를 파일에 써보세요.\n",
    "\n",
    "# 005930\n",
    "# 005380\n",
    "# 035420\n",
    "f = open('매수종목1.txt', 'wt', encoding='utf-8')\n",
    "f.write(\"005930\\n\")\n",
    "f.write(\"005380\\n\")\n",
    "f.write(\"035420\\n\")\n",
    "f.close()\n"
   ]
  },
  {
   "cell_type": "code",
   "execution_count": 303,
   "metadata": {},
   "outputs": [],
   "source": [
    "# 292 파일 쓰기\n",
    "# 바탕화면에 '매수종목2.txt' 파일을 생성한 후 다음과 같이 종목코드와 종목명을 파일에 써보세요.\n",
    "\n",
    "f = open('매수종목2.txt','wt', encoding='utf-8')\n",
    "f.write(\"005930 삼성전자\\n\")\n",
    "f.write(\"005380 현대차\\n\")\n",
    "f.write(\"035420 NAVER\\n\")\n",
    "f.close()\n"
   ]
  },
  {
   "cell_type": "code",
   "execution_count": 304,
   "metadata": {},
   "outputs": [],
   "source": [
    "# 293 CSV 파일 쓰기\n",
    "# 바탕화면에 '매수종목.csv' 파일을 생성한 후 다음과 같이 종목코드와 종목명을 파일에 써보세요. \n",
    "# 인코딩은 'cp949'를 사용해야합니다.\n",
    "import csv\n",
    "f = open(\"매수종목.csv\", mode=\"wt\", encoding=\"cp949\", newline='')\n",
    "writer = csv.writer(f)\n",
    "writer.writerow([\"종목명\",\"종목코드\",\"PER\"])\n",
    "writer.writerow([\"삼성전자\",\"005930\",15.59])\n",
    "writer.writerow([\"네이버\", \"035420\", 55.82])\n",
    "f.close()\n"
   ]
  },
  {
   "cell_type": "code",
   "execution_count": 309,
   "metadata": {},
   "outputs": [
    {
     "name": "stdout",
     "output_type": "stream",
     "text": [
      "['005930\\n', '005380\\n', '035420\\n']\n",
      "['005930', '005380', '035420']\n"
     ]
    }
   ],
   "source": [
    "# 294 파일 읽기\n",
    "# 바탕화면에 생성한 '매수종목1.txt' 파일을 읽은 후 종목코드를 리스트에 저장해보세요.\n",
    "f = open(\"매수종목1.txt\", mode=\"rt\", encoding=\"utf-8\")\n",
    "lines = f.readlines()\n",
    "print(lines)\n",
    "\n",
    "codes = []\n",
    "for line in lines:\n",
    "    code = line.strip()\n",
    "    codes.append(code)\n",
    "print(codes)    \n",
    "\n",
    "f.close()"
   ]
  },
  {
   "cell_type": "code",
   "execution_count": 310,
   "metadata": {},
   "outputs": [
    {
     "name": "stdout",
     "output_type": "stream",
     "text": [
      "{'005930': '삼성전자', '005380': '현대차', '035420': 'NAVER'} <class 'dict'>\n"
     ]
    }
   ],
   "source": [
    "# 295 파일 읽기\n",
    "# 바탕화면에 생성한 '매수종목2.txt' 파일을 읽은 후 종목코드와 종목명을 딕셔너리로 저장해보세요. \n",
    "# 종목명을 key로 종목명을 value로 저장합니다.\n",
    "\n",
    "# 005930 삼성전자\n",
    "# 005380 현대차\n",
    "# 035420 NAVER\n",
    "f = open(\"매수종목2.txt\", mode=\"rt\", encoding=\"utf-8\")\n",
    "lines = f.readlines()\n",
    "data = {}\n",
    "for line in lines:\n",
    "    line = line.strip()\n",
    "    k,v = line.split()\n",
    "    data[k] = v\n",
    "print(data, type(data))    \n",
    "\n",
    "f.close()\n"
   ]
  },
  {
   "cell_type": "code",
   "execution_count": 312,
   "metadata": {},
   "outputs": [
    {
     "name": "stdout",
     "output_type": "stream",
     "text": [
      "10.31\n",
      "0\n",
      "8.0\n"
     ]
    }
   ],
   "source": [
    "# 296 예외처리\n",
    "# 문자열 PER (Price to Earning Ratio) 값을 실수로 변환할 때 에러가 발생합니다. \n",
    "# 예외처리를 통해 에러가 발생하는 PER은 0으로 출력하세요.\n",
    "\n",
    "per = [\"10.31\", \"\", \"8.00\"]\n",
    "\n",
    "for i in per:\n",
    "    try:\n",
    "        print(float(i))\n",
    "    except:\n",
    "        print(0)\n"
   ]
  },
  {
   "cell_type": "code",
   "execution_count": 316,
   "metadata": {},
   "outputs": [
    {
     "name": "stdout",
     "output_type": "stream",
     "text": [
      "[10.31, 0, 8.0]\n"
     ]
    }
   ],
   "source": [
    "# 297 예외처리 및 리스트에 저장\n",
    "# 문자열로 표현된 PER 값을 실수로 변환한 후 이를 새로운 리스트에 저장해보세요.\n",
    "\n",
    "per = [\"10.31\", \"\", \"8.00\"]\n",
    "per2=[]\n",
    "for i in per:\n",
    "    try:\n",
    "        per2.append(float(i))\n",
    "    except:\n",
    "        per2.append(0)\n",
    "\n",
    "print(per2)\n"
   ]
  },
  {
   "cell_type": "code",
   "execution_count": 318,
   "metadata": {},
   "outputs": [
    {
     "name": "stdout",
     "output_type": "stream",
     "text": [
      "0으로 나눌수 없습니다.\n"
     ]
    }
   ],
   "source": [
    "# 298 특정 예외만 처리하기\n",
    "# 어떤 값을 0으로 나누면 ZeroDivisionError 에러가 발생합니다. \n",
    "# try ~ except로 모든 에러에 대해 예외처리하지 말고 ZeroDivisionError 에러만 예외처리해보세요.\n",
    "try:\n",
    "    print(3/0)\n",
    "except ZeroDivisionError:\n",
    "    print(\"0으로 나눌수 없습니다.\")\n"
   ]
  },
  {
   "cell_type": "code",
   "execution_count": 320,
   "metadata": {},
   "outputs": [
    {
     "name": "stdout",
     "output_type": "stream",
     "text": [
      "1\n",
      "2\n",
      "3\n",
      "list index out of range\n",
      "list index out of range\n"
     ]
    }
   ],
   "source": [
    "# 299 예외의 메시지 출력하기\n",
    "# 다음과 같은 코드 구조를 사용하면 예외 발생 시 에러 메시지를 변수로 바인딩할 수 있습니다.\n",
    "\n",
    "data = [1,2,3]\n",
    "for i in range(5):    \n",
    "    try:\n",
    "        print(data[i])\n",
    "    except IndexError as e:\n",
    "        print(e)\n"
   ]
  },
  {
   "cell_type": "code",
   "execution_count": 322,
   "metadata": {},
   "outputs": [
    {
     "name": "stdout",
     "output_type": "stream",
     "text": [
      "10.31\n",
      "끝났어요~\n",
      "0\n",
      "끝났어요~\n",
      "8.0\n",
      "끝났어요~\n"
     ]
    }
   ],
   "source": [
    "# 300 try, except, else, finally 구조 사용해보기\n",
    "# 파이썬 예외처리는 다음과 같은 구조를 가질 수 있습니다.\n",
    "\n",
    "# try:\n",
    "#     실행 코드\n",
    "# except:\n",
    "#     예외가 발생했을 때 수행할 코드\n",
    "# else:\n",
    "#     예외가 발생하지 않았을 때 수행할 코드\n",
    "# finally:\n",
    "#     예외 발생 여부와 상관없이 항상 수행할 코드\n",
    "# 아래의 코드에 대해서 예외처리를 사용하고 try, except, else, finally에 적당한 코드를 작성해봅시다. else와 finally는 적당한 문구를 print하시면 됩니다.\n",
    "\n",
    "per = [\"10.31\", \"\", \"8.00\"]\n",
    "\n",
    "for i in per:\n",
    "    try:\n",
    "        i = float(i)\n",
    "    except:\n",
    "        print(0)\n",
    "    else:\n",
    "        print(i)\n",
    "    finally:\n",
    "        print(\"끝났어요~\")"
   ]
  },
  {
   "cell_type": "code",
   "execution_count": null,
   "metadata": {},
   "outputs": [],
   "source": []
  }
 ],
 "metadata": {
  "kernelspec": {
   "display_name": "Python 3",
   "language": "python",
   "name": "python3"
  },
  "language_info": {
   "codemirror_mode": {
    "name": "ipython",
    "version": 3
   },
   "file_extension": ".py",
   "mimetype": "text/x-python",
   "name": "python",
   "nbconvert_exporter": "python",
   "pygments_lexer": "ipython3",
   "version": "3.11.3"
  },
  "orig_nbformat": 4
 },
 "nbformat": 4,
 "nbformat_minor": 2
}
